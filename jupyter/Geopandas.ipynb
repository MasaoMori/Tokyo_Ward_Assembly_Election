{
 "cells": [
  {
   "cell_type": "code",
   "execution_count": 2,
   "id": "91d5ffe9-525a-4dcd-9c6b-70c141b91782",
   "metadata": {},
   "outputs": [
    {
     "name": "stdout",
     "output_type": "stream",
     "text": [
      "../geoshape/中央区.shp loading...\n",
      "CRS_Before:  epsg:6668\n",
      "CRS_After:  EPSG:4326\n",
      "../geoshape/目黒区.shp loading...\n",
      "CRS_Before:  epsg:4612\n",
      "CRS_After:  EPSG:4326\n",
      "../geoshape/渋谷区.shp loading...\n",
      "CRS_Before:  epsg:6668\n",
      "CRS_After:  EPSG:4326\n",
      "../geoshape/品川区.shp loading...\n",
      "CRS_Before:  epsg:4612\n",
      "CRS_After:  EPSG:4326\n",
      "../geoshape/世田谷区.shp loading...\n",
      "CRS_Before:  epsg:6668\n",
      "CRS_After:  EPSG:4326\n",
      "../geoshape/千代田区.shp loading...\n",
      "CRS_Before:  epsg:6668\n",
      "CRS_After:  EPSG:4326\n",
      "../geoshape/東京都.shp loading...\n",
      "CRS_Before:  epsg:4612\n",
      "CRS_After:  EPSG:4326\n",
      "../geoshape/台東区.shp loading...\n",
      "CRS_Before:  epsg:6668\n",
      "CRS_After:  EPSG:4326\n",
      "../geoshape/港区.shp loading...\n",
      "CRS_Before:  epsg:6668\n",
      "CRS_After:  EPSG:4326\n",
      "../geoshape/大田区.shp loading...\n",
      "CRS_Before:  epsg:4612\n",
      "CRS_After:  EPSG:4326\n",
      "../geoshape/N03-21_13_210101.shp loading...\n",
      "CRS_Before:  epsg:6668\n",
      "CRS_After:  EPSG:4326\n",
      "../geoshape/練馬区.shp loading...\n",
      "CRS_Before:  epsg:6668\n",
      "CRS_After:  EPSG:4326\n"
     ]
    }
   ],
   "source": [
    "import shapefile as sf\n",
    "import geopandas as gpd\n",
    "from pathlib import Path\n",
    "import pandas as pd\n",
    "import os\n",
    "import glob\n",
    "\n",
    "def dissolve(df, col):\n",
    "    df = df[[col, 'geometry']]\n",
    "    df = df.dissolve(by=col)\n",
    "    return df\n",
    "\n",
    "def simplify(df, tolerance=0.00001):\n",
    "    df.geometry = df.geometry.simplify(tolerance=tolerance)\n",
    "    return df\n",
    "\n",
    "d = os.getcwd()\n",
    "files = Path().glob('../geoshape/*.shp')\n",
    "\n",
    "for file in files:\n",
    "    print(file, 'loading...')\n",
    "    df = gpd.read_file(file)\n",
    "\n",
    "    print('CRS_Before: ', df.crs)\n",
    "    df = df.to_crs(epsg=4326)\n",
    "    print('CRS_After: ', df.crs)\n",
    "    \n",
    "    # 保存パスとディレクトリ作成\n",
    "#    dest = Path('result') / file\n",
    "    dest = file\n",
    "#    dest.parent.mkdir(parents=True, exist_ok=True)\n",
    "    \n",
    "    df.to_file(dest.with_suffix('.geojson'), driver=\"GeoJSON\", encoding='utf-8')"
   ]
  }
 ],
 "metadata": {
  "kernelspec": {
   "display_name": "Python 3 (ipykernel)",
   "language": "python",
   "name": "python3"
  },
  "language_info": {
   "codemirror_mode": {
    "name": "ipython",
    "version": 3
   },
   "file_extension": ".py",
   "mimetype": "text/x-python",
   "name": "python",
   "nbconvert_exporter": "python",
   "pygments_lexer": "ipython3",
   "version": "3.10.9"
  }
 },
 "nbformat": 4,
 "nbformat_minor": 5
}
