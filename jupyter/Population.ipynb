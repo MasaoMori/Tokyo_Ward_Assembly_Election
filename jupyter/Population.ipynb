{
 "cells": [
  {
   "cell_type": "code",
   "execution_count": 1,
   "id": "d3a6b98e-3539-44d6-88a7-cce4beae3a83",
   "metadata": {},
   "outputs": [
    {
     "data": {
      "text/plain": [
       "'/Users/mori/Documents/Devel/Tokyo_Ward_Assembly_Election/jupyter/../data'"
      ]
     },
     "execution_count": 1,
     "metadata": {},
     "output_type": "execute_result"
    }
   ],
   "source": [
    "def cols(d):\n",
    "    print(list(d.columns))\n",
    "\n",
    "trans_yr = {'平成21年':2009,\n",
    "            '平成22年':2010,\n",
    "            '平成23年':2011,\n",
    "            '平成24年':2012,\n",
    "            '平成25年':2013,\n",
    "            '平成26年':2014,\n",
    "            '平成27年':2015,\n",
    "            '平成28年':2016,\n",
    "            '平成29年':2017,\n",
    "            '平成30年':2018,\n",
    "            '平成31年':2019,\n",
    "            '令和2年':2020,\n",
    "            '令和3年':2021,\n",
    "            '令和4年':2022}\n",
    "\n",
    "import os \n",
    "\n",
    "data_dir = os.getcwd()+'/../data'\n",
    "data_dir"
   ]
  },
  {
   "cell_type": "code",
   "execution_count": 2,
   "id": "86ccbeff-2d90-4fdf-ade1-821ae96f6523",
   "metadata": {},
   "outputs": [],
   "source": [
    "def get_birth(ystr, option):\n",
    "    # ystr = 09~22 : string\n",
    "    # option = 1300, 1310, 1510 : string\n",
    "    j = pd.read_excel(data_dir+\"/ju\"+ystr+\"qa\"+option+\".xls\",header=1)#, engine='openpyxl')\n",
    "    tmp = pd.DataFrame(j.iloc[9:83,[1,14]])\n",
    "    tmp.columns = ['ward', 'birth_num']\n",
    "    tmp['year'] = int(ystr)+2000\n",
    "    tmp.iloc[0,0]='区部'\n",
    "    tmp.iloc[24,0]='市部'\n",
    "    tmp.iloc[51,0]='町村部'\n",
    "    tmp.iloc[52,0]='郡部'\n",
    "    tmp.iloc[57,0]='島嶼部'\n",
    "    tmp['birth_num'] = tmp['birth_num'].astype('int')\n",
    "    return tmp.dropna()\n",
    "\n",
    "import pandas as pd\n",
    "\n",
    "birth_stat = pd.DataFrame()\n",
    "\n",
    "for y in list(range(2009,2013)):\n",
    "    ystr = str(y).replace('20','')\n",
    "    birth_stat = pd.concat([birth_stat, get_birth(ystr, \"1300\")])\n",
    "\n",
    "birth_stat = pd.concat([birth_stat, get_birth('13', \"1310\")])\n",
    "\n",
    "for y in list(range(14,22)):\n",
    "    birth_stat = pd.concat([birth_stat, get_birth(str(y), \"1510\")])"
   ]
  },
  {
   "cell_type": "code",
   "execution_count": 3,
   "id": "3e414f92-b4ef-4050-beee-97a7c1756caf",
   "metadata": {},
   "outputs": [],
   "source": [
    "def ty (x):\n",
    "    return trans_yr[x]\n",
    "\n",
    "files = [\"人口推移年少.csv\",\"人口推移生産.csv\",\"人口推移老年.csv\"]\n",
    "\n",
    "ward_pop = {} #pd.DataFrame()\n",
    "\n",
    "ward_stat = pd.DataFrame()\n",
    "\n",
    "for f in files:\n",
    "    \n",
    "    fname = f.replace('.csv','')\n",
    "    dd = pd.read_csv(data_dir + '/' + f, encoding = \"shift-jis\", header=6)\n",
    "\n",
    "    clm = pd.DataFrame(dd.columns)\n",
    "\n",
    "    yuko=[2,3]+list(range(76,148,1))\n",
    "\n",
    "    ddd=dd.iloc[:,yuko].set_index(['地域コード','地域'])\n",
    "    data = pd.DataFrame(ddd.stack().reset_index(drop=False))\n",
    "\n",
    "    filters = (data['level_2'].str.contains('総数')) & ~(data['level_2'].str.contains('再掲'))\n",
    "    pdata = data[filters].rename(columns={'level_2':'year', 0:'人口'})\n",
    "\n",
    "    pdata['年'] = pdata['year'].str.replace('／人口総計','',regex=True).str.replace('／総数\\(人\\)','',regex=True)\n",
    "    #pdata['年'] = pdata['year'].str.replace('／総数\\(人\\)','')\n",
    "    pdata['year'] = pdata['年'].apply(ty)\n",
    "    pdata['地域コード'] = pdata['地域コード'].astype('int')\n",
    "    pdata['人口'] = pdata['人口'].astype('int')\n",
    "    pdata['tier'] = fname\n",
    "    \n",
    "    pdata.drop(columns=['year']).to_excel(data_dir+'/'+fname+'.xlsx', index=False)\n",
    "\n",
    "    ward_pop[fname]=pdata\n",
    "    \n",
    "    ward_stat = pd.concat([ward_stat, pdata.drop(columns='地域コード')])"
   ]
  },
  {
   "cell_type": "code",
   "execution_count": 4,
   "id": "cb696a17-0784-4b4a-83f4-8aee4177b70e",
   "metadata": {},
   "outputs": [],
   "source": [
    "tokyocode = pd.read_csv('../data/tokyo_code.csv').rename(columns={'団体コード':'地域コード','団体名':'地域'})"
   ]
  },
  {
   "cell_type": "code",
   "execution_count": 5,
   "id": "11f9b8ba-273e-44c3-aba3-d9754da3ec09",
   "metadata": {},
   "outputs": [],
   "source": [
    "bd=pd.merge(tokyocode, birth_stat, right_on='ward', left_on='地域')\n",
    "wd=pd.merge(tokyocode, ward_stat, on='地域')"
   ]
  },
  {
   "cell_type": "markdown",
   "id": "3ad884df-788b-4c34-85a0-36dfc74ca999",
   "metadata": {},
   "source": [
    "### n+1年の15歳人口\n",
    "\n",
    "年少とは0〜14歳\n",
    "\n",
    "[n年の年少人口]+[n+1年の出生数] = [n+1年の年少人口]+[n+1年の15歳人口] \n",
    "\n",
    "[n+1年の15歳人口]　= [n年の年少人口] + [n+1年の出生数] - [n+1年の年少人口]\n",
    "        A        =       x       +       y       -       z\n",
    "\n"
   ]
  },
  {
   "cell_type": "code",
   "execution_count": 6,
   "id": "247d05a8-6f2a-4fb0-be7c-96dc30fb1d3d",
   "metadata": {},
   "outputs": [],
   "source": [
    "# wdは区ごとの各年の3層人口データ\n",
    "wd['pyear'] = wd['year']-1 # pyearは前年の年少人口を自分とmergeして追加する時に使う\n",
    "\n",
    "wd_shrt_col = ['地域コード', '地域', 'year', 'pyear','tier','人口']\n",
    "\n",
    "wd_short=wd[wd_shrt_col]\n",
    "\n",
    "wyoung = wd_short[wd_short['tier']=='人口推移年少'].drop(columns=['tier'])\n",
    "wmiddle = wd_short[wd_short['tier']=='人口推移生産'].drop(columns=['tier'])\n",
    "wold = wd_short[wd_short['tier']=='人口推移老年'].drop(columns=['tier'])\n",
    "\n",
    "# bdは出生数データ\n",
    "bd_shrt_col = ['地域コード', '地域', 'year','birth_num']\n",
    "\n",
    "bd_short=bd[bd_shrt_col]"
   ]
  },
  {
   "cell_type": "code",
   "execution_count": 7,
   "id": "24f4061d-1d20-498f-adc6-ce2a5c4a09e6",
   "metadata": {},
   "outputs": [],
   "source": [
    "#\n",
    "# 年少人口_n+1と出生数_n+1\n",
    "#\n",
    "#\n",
    "\n",
    "d15tmp = pd.merge(wyoung, bd_short, \n",
    "               left_on=['地域コード','地域','year'],\n",
    "               right_on=['地域コード','地域','year'],\n",
    "                 ).rename(columns={'year':'y_n+1',\n",
    "                                   'pyear':'y_n',\n",
    "                                   '人口':'人口_n+1', 'birth_num':'出生_n+1'}\n",
    "                         )\n",
    "\n",
    "\n",
    "d15 = pd.merge(d15tmp, wyoung,\n",
    "                   left_on=['地域コード','地域','y_n+1'],\n",
    "                   right_on=['地域コード','地域','pyear']\n",
    "                  ).drop(columns=['year','pyear']\n",
    "                    ).rename(columns={'人口':'人口_n'})"
   ]
  },
  {
   "cell_type": "code",
   "execution_count": 8,
   "id": "0f06728a-39f7-4f10-ac95-9197d6381314",
   "metadata": {},
   "outputs": [],
   "source": [
    "d15['15歳人口'] = d15['人口_n'] + d15['出生_n+1'] - d15['人口_n+1']"
   ]
  },
  {
   "cell_type": "raw",
   "id": "315f4aa8-0205-474c-97af-e9eb498f16cf",
   "metadata": {},
   "source": [
    "# 15歳人口の0以下確認\n",
    "#\n",
    "d15[d15['15歳人口']<0]"
   ]
  },
  {
   "cell_type": "code",
   "execution_count": 9,
   "id": "95c29f0f-000a-4bdf-a41d-a71accdac561",
   "metadata": {},
   "outputs": [],
   "source": [
    "for i,z in d15.iterrows():\n",
    "    d15.loc[i,'年齢'] = str(2036 - d15.loc[i,'y_n+1'])+'歳'\n",
    "    d15.loc[i,'age'] = int(2036 - d15.loc[i,'y_n+1'])\n",
    "    \n",
    "d15['age']=d15['age'].astype(int)\n"
   ]
  },
  {
   "cell_type": "code",
   "execution_count": 10,
   "id": "e4299697-d1cb-46c9-8205-e1615b4b0e58",
   "metadata": {},
   "outputs": [],
   "source": [
    "nl = ['y_n+1', 'y_n', '人口_n+1', '出生_n+1', '人口_n']\n",
    "wl = ['年','前年','人口','出生数','人口（前年）']\n",
    "d15=d15.rename(columns=dict(zip(nl,wl)))"
   ]
  },
  {
   "cell_type": "markdown",
   "id": "9497a3bc-5520-4829-b6a1-fc5a9ae572b3",
   "metadata": {},
   "source": [
    "# ◇ 集計と可視化"
   ]
  },
  {
   "cell_type": "code",
   "execution_count": 11,
   "id": "ba96724f-21f8-4ebb-b80d-2d57ce94975e",
   "metadata": {},
   "outputs": [],
   "source": [
    "#\n",
    "# 区に限る\n",
    "tokyocode = pd.read_csv('../data/tokyo_code.csv').rename(columns={'団体コード':'地域コード','団体名':'地域'})\n",
    "sorted_wards = list(tokyocode[(131000 <tokyocode['地域コード']) & (tokyocode['地域コード']<132000)]['地域'])\n",
    "\n",
    "def lim_ward(d):\n",
    "    return d[(131000 <d['地域コード']) & (d['地域コード']<132000)]\n"
   ]
  },
  {
   "cell_type": "markdown",
   "id": "15e1952c-da41-4b41-945b-ef161f22500f",
   "metadata": {},
   "source": [
    "### ＊各年の15歳人口\n",
    "\n",
    "年少とは0〜14歳\n",
    "\n",
    "[n年の年少人口]+[n+1年の出生数] = [n+1年の年少人口]+[n+1年の15歳人口] \n",
    "\n",
    "[n+1年の15歳人口]　= [n年の年少人口] + [n+1年の出生数] - [n+1年の年少人口]\n",
    "        \n",
    "\n",
    "```\n",
    "for w in 市区町村:\n",
    "    for y in 2010~2021:\n",
    "        x = wd[(wd['地域']==w) & (wd['year']==y-1) & (wd['tier'] == '人口推移年少')].loc[]\n",
    "```"
   ]
  },
  {
   "cell_type": "code",
   "execution_count": 12,
   "id": "14963732-5f81-4a60-81a4-b9a14a885b45",
   "metadata": {},
   "outputs": [
    {
     "name": "stdout",
     "output_type": "stream",
     "text": [
      "['地域コード', '地域', '年', '前年', '人口', '出生数', '人口（前年）', '15歳人口', '年齢', 'age']\n"
     ]
    }
   ],
   "source": [
    "print(list(d15.columns))"
   ]
  },
  {
   "cell_type": "raw",
   "id": "0afff506-f4be-4a58-9116-4413b4d4a117",
   "metadata": {},
   "source": [
    "import plotly.express as px\n",
    "\n",
    "fig = px.line(\n",
    "    lim_ward(d15).sort_values('年'),\n",
    "    x='年',\n",
    "    y='15歳人口',\n",
    "    text='15歳人口',\n",
    "    title='15歳人口の推移',\n",
    "    color='地域',\n",
    "    category_orders={'地域':sorted_wards,\n",
    "                     'y_n+1':list(range(2009,2021,1))},\n",
    "    markers=True,\n",
    "    height=800,\n",
    "    width=1000\n",
    ")\n",
    "\n",
    "\n",
    "fig.show()"
   ]
  },
  {
   "cell_type": "markdown",
   "id": "9c7a8b02-f48d-4948-a2c2-9e9b435dacd0",
   "metadata": {},
   "source": [
    "## 統括データ result"
   ]
  },
  {
   "cell_type": "code",
   "execution_count": 15,
   "id": "c849e482-62ad-46d8-92ec-83eeefa806fa",
   "metadata": {},
   "outputs": [],
   "source": [
    "younger=d15[['地域コード', '地域', '15歳人口', '年齢', 'age']].rename(columns={'15歳人口':'人口'})\n",
    "\n",
    "wo=wold[(wold['year']==2021)]\n",
    "wo=wo.drop(columns=['pyear']).rename(columns={'year':'年'})\n",
    "wo['age']=65\n",
    "wo['年齢']='65歳以上'\n",
    "wo=wo.rename(columns={'65歳以上':'人口'})\n",
    "\n",
    "result = pd.concat([wo, younger])\n",
    "\n",
    "\n",
    "result.to_csv(data_dir + '/2021年区別年齢別人口分布.csv', index=False)\n",
    "d15.to_csv(data_dir + '/2009-2021区別15歳人口推移.csv', index=False)"
   ]
  },
  {
   "cell_type": "markdown",
   "id": "eaffa306-fbb7-4df0-a657-932082a6a86f",
   "metadata": {},
   "source": [
    "ここまでがクレンジング、resultデータフレームのファイルをresutl読み込んで以下をBIで実行。"
   ]
  },
  {
   "cell_type": "markdown",
   "id": "c6a4b44d-91d8-4c2d-9a21-bc719a37336d",
   "metadata": {},
   "source": [
    "### ＊老年の人口2021"
   ]
  },
  {
   "cell_type": "raw",
   "id": "3747286f-4e8e-42da-ad45-0ff7a6b40ca9",
   "metadata": {},
   "source": [
    "result = pd.read_csv(data_dir + '/2021年区別年齢別人口分布.csv')\n",
    "d15 = pd.read_csv(data_dir + '/2009-2021区別15歳人口推移.csv')\n",
    "#\n",
    "# 区に限る\n",
    "tokyocode = pd.read_csv(data_dir + '/tokyo_code.csv').rename(columns={'団体コード':'地域コード','団体名':'地域'})\n",
    "sorted_wards = list(tokyocode[(131000 <tokyocode['地域コード']) & (tokyocode['地域コード']<132000)]['地域'])\n",
    "\n",
    "def lim_ward(d):\n",
    "    return d[(131000 <d['地域コード']) & (d['地域コード']<132000)]\n"
   ]
  },
  {
   "cell_type": "code",
   "execution_count": 16,
   "id": "72625a14-e18b-4389-b2e6-fe31f50771ce",
   "metadata": {},
   "outputs": [],
   "source": [
    "import plotly.express as px"
   ]
  },
  {
   "cell_type": "code",
   "execution_count": 17,
   "id": "a8ea0f45-9d99-41f4-8c4c-6ab5cc150ef6",
   "metadata": {},
   "outputs": [],
   "source": [
    "older_people =lim_ward(result[result['age']>64])\n",
    "\n",
    "otext_data = list(older_people.groupby(['地域コード','地域']\n",
    "                           ).sum('人口').reset_index().drop(columns='age').sort_values('地域コード')['人口'])\n",
    "\n",
    "fig_old = px.bar(\n",
    "    older_people,\n",
    "    y='地域',\n",
    "    x='人口',\n",
    "    title='65歳以上人口',\n",
    "    category_orders={'地域':sorted_wards},\n",
    "    height=800,\n",
    "    width=900,\n",
    "    orientation='h',\n",
    "    range_x=(0,200000)\n",
    ")\n",
    "fig_old.data[0].text = list(map((lambda x: '{:,d}'.format(x)), otext_data))\n",
    "fig_old.data[0]['hovertemplate'] ='人口=%{x:,d}'+'<br>地域=%{y}'\n"
   ]
  },
  {
   "cell_type": "markdown",
   "id": "0bcbe77d-fbae-4f3d-ab60-b0aaf33a163a",
   "metadata": {},
   "source": [
    "### ＊18〜20代前半の区ごとの分布"
   ]
  },
  {
   "cell_type": "code",
   "execution_count": 18,
   "id": "01e92419-779a-4793-8208-1501122ac221",
   "metadata": {},
   "outputs": [],
   "source": [
    "younger_people = lim_ward(result[(result['age']>17)&(65>result['age'])])\n",
    "text_data = list(younger_people.groupby(['地域コード','地域']\n",
    "                                  ).sum('人口').reset_index().drop(columns='age').sort_values('地域コード')['人口'])\n",
    "\n",
    "fig_young = px.bar(\n",
    "    younger_people,\n",
    "    x='人口',\n",
    "    y='地域',\n",
    "    title='18〜27歳人口（トップの数は和）',\n",
    "    color='年齢',\n",
    "    height=800,\n",
    "    width=920,\n",
    "    category_orders={'地域':sorted_wards},\n",
    "    color_discrete_sequence = px.colors.sequential.dense_r,\n",
    "    orientation='h',\n",
    "    range_x=(0,200000),\n",
    ")\n",
    "\n",
    "fig_young.data[-1].text = list(map((lambda x: '{:,}'.format(x)), text_data))\n",
    "#fig_young.update_traces(textposition='outside')"
   ]
  },
  {
   "cell_type": "markdown",
   "id": "06ff5e23-f6ca-42c6-ad2d-06e3458c6ab3",
   "metadata": {},
   "source": [
    "### ＊15歳人口の推移"
   ]
  },
  {
   "cell_type": "code",
   "execution_count": 24,
   "id": "fda45b49-9088-4f21-b4be-b628ce6a9b02",
   "metadata": {},
   "outputs": [],
   "source": [
    "fig_fifteen = px.line(\n",
    "    lim_ward(d15).sort_values('年'),\n",
    "    x='年',\n",
    "    y='15歳人口',\n",
    "    text='15歳人口',\n",
    "    title='15歳人口の推移',\n",
    "    color='地域',\n",
    "    category_orders={'地域':sorted_wards,\n",
    "                     'y_n+1':list(range(2009,2021,1))},\n",
    "    markers=True,\n",
    "    height=800,\n",
    "    width=1000\n",
    ")"
   ]
  },
  {
   "cell_type": "code",
   "execution_count": 25,
   "id": "37337a59-e351-4721-be7a-361cb598e3b0",
   "metadata": {},
   "outputs": [
    {
     "data": {
      "application/vnd.plotly.v1+json": {
       "config": {
        "plotlyServerURL": "https://plot.ly"
       },
       "data": [
        {
         "alignmentgroup": "True",
         "hovertemplate": "人口=%{x:,d}<br>地域=%{y}",
         "legendgroup": "",
         "marker": {
          "color": "#636efa",
          "pattern": {
           "shape": ""
          }
         },
         "name": "",
         "offsetgroup": "",
         "orientation": "h",
         "showlegend": false,
         "text": [
          "11,222",
          "25,161",
          "44,186",
          "67,514",
          "43,448",
          "46,015",
          "61,034",
          "112,835",
          "82,149",
          "55,375",
          "166,329",
          "185,578",
          "43,148",
          "67,855",
          "120,139",
          "57,293",
          "87,212",
          "50,143",
          "132,310",
          "161,380",
          "171,715",
          "114,217",
          "147,812"
         ],
         "textposition": "outside",
         "type": "bar",
         "x": [
          11222,
          25161,
          44186,
          67514,
          43448,
          46015,
          61034,
          112835,
          82149,
          55375,
          166329,
          185578,
          43148,
          67855,
          120139,
          57293,
          87212,
          50143,
          132310,
          161380,
          171715,
          114217,
          147812
         ],
         "xaxis": "x",
         "y": [
          "千代田区",
          "中央区",
          "港区",
          "新宿区",
          "文京区",
          "台東区",
          "墨田区",
          "江東区",
          "品川区",
          "目黒区",
          "大田区",
          "世田谷区",
          "渋谷区",
          "中野区",
          "杉並区",
          "豊島区",
          "北区",
          "荒川区",
          "板橋区",
          "練馬区",
          "足立区",
          "葛飾区",
          "江戸川区"
         ],
         "yaxis": "y"
        }
       ],
       "layout": {
        "barmode": "relative",
        "height": 800,
        "legend": {
         "tracegroupgap": 0
        },
        "template": {
         "data": {
          "bar": [
           {
            "error_x": {
             "color": "#2a3f5f"
            },
            "error_y": {
             "color": "#2a3f5f"
            },
            "marker": {
             "line": {
              "color": "#E5ECF6",
              "width": 0.5
             },
             "pattern": {
              "fillmode": "overlay",
              "size": 10,
              "solidity": 0.2
             }
            },
            "type": "bar"
           }
          ],
          "barpolar": [
           {
            "marker": {
             "line": {
              "color": "#E5ECF6",
              "width": 0.5
             },
             "pattern": {
              "fillmode": "overlay",
              "size": 10,
              "solidity": 0.2
             }
            },
            "type": "barpolar"
           }
          ],
          "carpet": [
           {
            "aaxis": {
             "endlinecolor": "#2a3f5f",
             "gridcolor": "white",
             "linecolor": "white",
             "minorgridcolor": "white",
             "startlinecolor": "#2a3f5f"
            },
            "baxis": {
             "endlinecolor": "#2a3f5f",
             "gridcolor": "white",
             "linecolor": "white",
             "minorgridcolor": "white",
             "startlinecolor": "#2a3f5f"
            },
            "type": "carpet"
           }
          ],
          "choropleth": [
           {
            "colorbar": {
             "outlinewidth": 0,
             "ticks": ""
            },
            "type": "choropleth"
           }
          ],
          "contour": [
           {
            "colorbar": {
             "outlinewidth": 0,
             "ticks": ""
            },
            "colorscale": [
             [
              0,
              "#0d0887"
             ],
             [
              0.1111111111111111,
              "#46039f"
             ],
             [
              0.2222222222222222,
              "#7201a8"
             ],
             [
              0.3333333333333333,
              "#9c179e"
             ],
             [
              0.4444444444444444,
              "#bd3786"
             ],
             [
              0.5555555555555556,
              "#d8576b"
             ],
             [
              0.6666666666666666,
              "#ed7953"
             ],
             [
              0.7777777777777778,
              "#fb9f3a"
             ],
             [
              0.8888888888888888,
              "#fdca26"
             ],
             [
              1,
              "#f0f921"
             ]
            ],
            "type": "contour"
           }
          ],
          "contourcarpet": [
           {
            "colorbar": {
             "outlinewidth": 0,
             "ticks": ""
            },
            "type": "contourcarpet"
           }
          ],
          "heatmap": [
           {
            "colorbar": {
             "outlinewidth": 0,
             "ticks": ""
            },
            "colorscale": [
             [
              0,
              "#0d0887"
             ],
             [
              0.1111111111111111,
              "#46039f"
             ],
             [
              0.2222222222222222,
              "#7201a8"
             ],
             [
              0.3333333333333333,
              "#9c179e"
             ],
             [
              0.4444444444444444,
              "#bd3786"
             ],
             [
              0.5555555555555556,
              "#d8576b"
             ],
             [
              0.6666666666666666,
              "#ed7953"
             ],
             [
              0.7777777777777778,
              "#fb9f3a"
             ],
             [
              0.8888888888888888,
              "#fdca26"
             ],
             [
              1,
              "#f0f921"
             ]
            ],
            "type": "heatmap"
           }
          ],
          "heatmapgl": [
           {
            "colorbar": {
             "outlinewidth": 0,
             "ticks": ""
            },
            "colorscale": [
             [
              0,
              "#0d0887"
             ],
             [
              0.1111111111111111,
              "#46039f"
             ],
             [
              0.2222222222222222,
              "#7201a8"
             ],
             [
              0.3333333333333333,
              "#9c179e"
             ],
             [
              0.4444444444444444,
              "#bd3786"
             ],
             [
              0.5555555555555556,
              "#d8576b"
             ],
             [
              0.6666666666666666,
              "#ed7953"
             ],
             [
              0.7777777777777778,
              "#fb9f3a"
             ],
             [
              0.8888888888888888,
              "#fdca26"
             ],
             [
              1,
              "#f0f921"
             ]
            ],
            "type": "heatmapgl"
           }
          ],
          "histogram": [
           {
            "marker": {
             "pattern": {
              "fillmode": "overlay",
              "size": 10,
              "solidity": 0.2
             }
            },
            "type": "histogram"
           }
          ],
          "histogram2d": [
           {
            "colorbar": {
             "outlinewidth": 0,
             "ticks": ""
            },
            "colorscale": [
             [
              0,
              "#0d0887"
             ],
             [
              0.1111111111111111,
              "#46039f"
             ],
             [
              0.2222222222222222,
              "#7201a8"
             ],
             [
              0.3333333333333333,
              "#9c179e"
             ],
             [
              0.4444444444444444,
              "#bd3786"
             ],
             [
              0.5555555555555556,
              "#d8576b"
             ],
             [
              0.6666666666666666,
              "#ed7953"
             ],
             [
              0.7777777777777778,
              "#fb9f3a"
             ],
             [
              0.8888888888888888,
              "#fdca26"
             ],
             [
              1,
              "#f0f921"
             ]
            ],
            "type": "histogram2d"
           }
          ],
          "histogram2dcontour": [
           {
            "colorbar": {
             "outlinewidth": 0,
             "ticks": ""
            },
            "colorscale": [
             [
              0,
              "#0d0887"
             ],
             [
              0.1111111111111111,
              "#46039f"
             ],
             [
              0.2222222222222222,
              "#7201a8"
             ],
             [
              0.3333333333333333,
              "#9c179e"
             ],
             [
              0.4444444444444444,
              "#bd3786"
             ],
             [
              0.5555555555555556,
              "#d8576b"
             ],
             [
              0.6666666666666666,
              "#ed7953"
             ],
             [
              0.7777777777777778,
              "#fb9f3a"
             ],
             [
              0.8888888888888888,
              "#fdca26"
             ],
             [
              1,
              "#f0f921"
             ]
            ],
            "type": "histogram2dcontour"
           }
          ],
          "mesh3d": [
           {
            "colorbar": {
             "outlinewidth": 0,
             "ticks": ""
            },
            "type": "mesh3d"
           }
          ],
          "parcoords": [
           {
            "line": {
             "colorbar": {
              "outlinewidth": 0,
              "ticks": ""
             }
            },
            "type": "parcoords"
           }
          ],
          "pie": [
           {
            "automargin": true,
            "type": "pie"
           }
          ],
          "scatter": [
           {
            "fillpattern": {
             "fillmode": "overlay",
             "size": 10,
             "solidity": 0.2
            },
            "type": "scatter"
           }
          ],
          "scatter3d": [
           {
            "line": {
             "colorbar": {
              "outlinewidth": 0,
              "ticks": ""
             }
            },
            "marker": {
             "colorbar": {
              "outlinewidth": 0,
              "ticks": ""
             }
            },
            "type": "scatter3d"
           }
          ],
          "scattercarpet": [
           {
            "marker": {
             "colorbar": {
              "outlinewidth": 0,
              "ticks": ""
             }
            },
            "type": "scattercarpet"
           }
          ],
          "scattergeo": [
           {
            "marker": {
             "colorbar": {
              "outlinewidth": 0,
              "ticks": ""
             }
            },
            "type": "scattergeo"
           }
          ],
          "scattergl": [
           {
            "marker": {
             "colorbar": {
              "outlinewidth": 0,
              "ticks": ""
             }
            },
            "type": "scattergl"
           }
          ],
          "scattermapbox": [
           {
            "marker": {
             "colorbar": {
              "outlinewidth": 0,
              "ticks": ""
             }
            },
            "type": "scattermapbox"
           }
          ],
          "scatterpolar": [
           {
            "marker": {
             "colorbar": {
              "outlinewidth": 0,
              "ticks": ""
             }
            },
            "type": "scatterpolar"
           }
          ],
          "scatterpolargl": [
           {
            "marker": {
             "colorbar": {
              "outlinewidth": 0,
              "ticks": ""
             }
            },
            "type": "scatterpolargl"
           }
          ],
          "scatterternary": [
           {
            "marker": {
             "colorbar": {
              "outlinewidth": 0,
              "ticks": ""
             }
            },
            "type": "scatterternary"
           }
          ],
          "surface": [
           {
            "colorbar": {
             "outlinewidth": 0,
             "ticks": ""
            },
            "colorscale": [
             [
              0,
              "#0d0887"
             ],
             [
              0.1111111111111111,
              "#46039f"
             ],
             [
              0.2222222222222222,
              "#7201a8"
             ],
             [
              0.3333333333333333,
              "#9c179e"
             ],
             [
              0.4444444444444444,
              "#bd3786"
             ],
             [
              0.5555555555555556,
              "#d8576b"
             ],
             [
              0.6666666666666666,
              "#ed7953"
             ],
             [
              0.7777777777777778,
              "#fb9f3a"
             ],
             [
              0.8888888888888888,
              "#fdca26"
             ],
             [
              1,
              "#f0f921"
             ]
            ],
            "type": "surface"
           }
          ],
          "table": [
           {
            "cells": {
             "fill": {
              "color": "#EBF0F8"
             },
             "line": {
              "color": "white"
             }
            },
            "header": {
             "fill": {
              "color": "#C8D4E3"
             },
             "line": {
              "color": "white"
             }
            },
            "type": "table"
           }
          ]
         },
         "layout": {
          "annotationdefaults": {
           "arrowcolor": "#2a3f5f",
           "arrowhead": 0,
           "arrowwidth": 1
          },
          "autotypenumbers": "strict",
          "coloraxis": {
           "colorbar": {
            "outlinewidth": 0,
            "ticks": ""
           }
          },
          "colorscale": {
           "diverging": [
            [
             0,
             "#8e0152"
            ],
            [
             0.1,
             "#c51b7d"
            ],
            [
             0.2,
             "#de77ae"
            ],
            [
             0.3,
             "#f1b6da"
            ],
            [
             0.4,
             "#fde0ef"
            ],
            [
             0.5,
             "#f7f7f7"
            ],
            [
             0.6,
             "#e6f5d0"
            ],
            [
             0.7,
             "#b8e186"
            ],
            [
             0.8,
             "#7fbc41"
            ],
            [
             0.9,
             "#4d9221"
            ],
            [
             1,
             "#276419"
            ]
           ],
           "sequential": [
            [
             0,
             "#0d0887"
            ],
            [
             0.1111111111111111,
             "#46039f"
            ],
            [
             0.2222222222222222,
             "#7201a8"
            ],
            [
             0.3333333333333333,
             "#9c179e"
            ],
            [
             0.4444444444444444,
             "#bd3786"
            ],
            [
             0.5555555555555556,
             "#d8576b"
            ],
            [
             0.6666666666666666,
             "#ed7953"
            ],
            [
             0.7777777777777778,
             "#fb9f3a"
            ],
            [
             0.8888888888888888,
             "#fdca26"
            ],
            [
             1,
             "#f0f921"
            ]
           ],
           "sequentialminus": [
            [
             0,
             "#0d0887"
            ],
            [
             0.1111111111111111,
             "#46039f"
            ],
            [
             0.2222222222222222,
             "#7201a8"
            ],
            [
             0.3333333333333333,
             "#9c179e"
            ],
            [
             0.4444444444444444,
             "#bd3786"
            ],
            [
             0.5555555555555556,
             "#d8576b"
            ],
            [
             0.6666666666666666,
             "#ed7953"
            ],
            [
             0.7777777777777778,
             "#fb9f3a"
            ],
            [
             0.8888888888888888,
             "#fdca26"
            ],
            [
             1,
             "#f0f921"
            ]
           ]
          },
          "colorway": [
           "#636efa",
           "#EF553B",
           "#00cc96",
           "#ab63fa",
           "#FFA15A",
           "#19d3f3",
           "#FF6692",
           "#B6E880",
           "#FF97FF",
           "#FECB52"
          ],
          "font": {
           "color": "#2a3f5f"
          },
          "geo": {
           "bgcolor": "white",
           "lakecolor": "white",
           "landcolor": "#E5ECF6",
           "showlakes": true,
           "showland": true,
           "subunitcolor": "white"
          },
          "hoverlabel": {
           "align": "left"
          },
          "hovermode": "closest",
          "mapbox": {
           "style": "light"
          },
          "paper_bgcolor": "white",
          "plot_bgcolor": "#E5ECF6",
          "polar": {
           "angularaxis": {
            "gridcolor": "white",
            "linecolor": "white",
            "ticks": ""
           },
           "bgcolor": "#E5ECF6",
           "radialaxis": {
            "gridcolor": "white",
            "linecolor": "white",
            "ticks": ""
           }
          },
          "scene": {
           "xaxis": {
            "backgroundcolor": "#E5ECF6",
            "gridcolor": "white",
            "gridwidth": 2,
            "linecolor": "white",
            "showbackground": true,
            "ticks": "",
            "zerolinecolor": "white"
           },
           "yaxis": {
            "backgroundcolor": "#E5ECF6",
            "gridcolor": "white",
            "gridwidth": 2,
            "linecolor": "white",
            "showbackground": true,
            "ticks": "",
            "zerolinecolor": "white"
           },
           "zaxis": {
            "backgroundcolor": "#E5ECF6",
            "gridcolor": "white",
            "gridwidth": 2,
            "linecolor": "white",
            "showbackground": true,
            "ticks": "",
            "zerolinecolor": "white"
           }
          },
          "shapedefaults": {
           "line": {
            "color": "#2a3f5f"
           }
          },
          "ternary": {
           "aaxis": {
            "gridcolor": "white",
            "linecolor": "white",
            "ticks": ""
           },
           "baxis": {
            "gridcolor": "white",
            "linecolor": "white",
            "ticks": ""
           },
           "bgcolor": "#E5ECF6",
           "caxis": {
            "gridcolor": "white",
            "linecolor": "white",
            "ticks": ""
           }
          },
          "title": {
           "x": 0.05
          },
          "xaxis": {
           "automargin": true,
           "gridcolor": "white",
           "linecolor": "white",
           "ticks": "",
           "title": {
            "standoff": 15
           },
           "zerolinecolor": "white",
           "zerolinewidth": 2
          },
          "yaxis": {
           "automargin": true,
           "gridcolor": "white",
           "linecolor": "white",
           "ticks": "",
           "title": {
            "standoff": 15
           },
           "zerolinecolor": "white",
           "zerolinewidth": 2
          }
         }
        },
        "title": {
         "text": "65歳以上人口"
        },
        "width": 900,
        "xaxis": {
         "anchor": "y",
         "domain": [
          0,
          1
         ],
         "range": [
          0,
          200000
         ],
         "title": {
          "text": "人口"
         },
         "type": "linear"
        },
        "yaxis": {
         "anchor": "x",
         "autorange": true,
         "categoryarray": [
          "江戸川区",
          "葛飾区",
          "足立区",
          "練馬区",
          "板橋区",
          "荒川区",
          "北区",
          "豊島区",
          "杉並区",
          "中野区",
          "渋谷区",
          "世田谷区",
          "大田区",
          "目黒区",
          "品川区",
          "江東区",
          "墨田区",
          "台東区",
          "文京区",
          "新宿区",
          "港区",
          "中央区",
          "千代田区"
         ],
         "categoryorder": "array",
         "domain": [
          0,
          1
         ],
         "range": [
          -0.5,
          22.5
         ],
         "title": {
          "text": "地域"
         },
         "type": "category"
        }
       }
      },
      "image/png": "[encoded data removed]",
      "text/html": [
       "<div>                            <div id=\"25a3a310-3dbd-48f2-82ba-0ca08633d838\" class=\"plotly-graph-div\" style=\"height:800px; width:900px;\"></div>            <script type=\"text/javascript\">                require([\"plotly\"], function(Plotly) {                    window.PLOTLYENV=window.PLOTLYENV || {};                                    if (document.getElementById(\"25a3a310-3dbd-48f2-82ba-0ca08633d838\")) {                    Plotly.newPlot(                        \"25a3a310-3dbd-48f2-82ba-0ca08633d838\",                        [{\"alignmentgroup\":\"True\",\"hovertemplate\":\"\\u4eba\\u53e3=%{x:,d}<br>\\u5730\\u57df=%{y}\",\"legendgroup\":\"\",\"marker\":{\"color\":\"#636efa\",\"pattern\":{\"shape\":\"\"}},\"name\":\"\",\"offsetgroup\":\"\",\"orientation\":\"h\",\"showlegend\":false,\"textposition\":\"outside\",\"x\":[11222,25161,44186,67514,43448,46015,61034,112835,82149,55375,166329,185578,43148,67855,120139,57293,87212,50143,132310,161380,171715,114217,147812],\"xaxis\":\"x\",\"y\":[\"\\u5343\\u4ee3\\u7530\\u533a\",\"\\u4e2d\\u592e\\u533a\",\"\\u6e2f\\u533a\",\"\\u65b0\\u5bbf\\u533a\",\"\\u6587\\u4eac\\u533a\",\"\\u53f0\\u6771\\u533a\",\"\\u58a8\\u7530\\u533a\",\"\\u6c5f\\u6771\\u533a\",\"\\u54c1\\u5ddd\\u533a\",\"\\u76ee\\u9ed2\\u533a\",\"\\u5927\\u7530\\u533a\",\"\\u4e16\\u7530\\u8c37\\u533a\",\"\\u6e0b\\u8c37\\u533a\",\"\\u4e2d\\u91ce\\u533a\",\"\\u6749\\u4e26\\u533a\",\"\\u8c4a\\u5cf6\\u533a\",\"\\u5317\\u533a\",\"\\u8352\\u5ddd\\u533a\",\"\\u677f\\u6a4b\\u533a\",\"\\u7df4\\u99ac\\u533a\",\"\\u8db3\\u7acb\\u533a\",\"\\u845b\\u98fe\\u533a\",\"\\u6c5f\\u6238\\u5ddd\\u533a\"],\"yaxis\":\"y\",\"type\":\"bar\",\"text\":[\"11,222\",\"25,161\",\"44,186\",\"67,514\",\"43,448\",\"46,015\",\"61,034\",\"112,835\",\"82,149\",\"55,375\",\"166,329\",\"185,578\",\"43,148\",\"67,855\",\"120,139\",\"57,293\",\"87,212\",\"50,143\",\"132,310\",\"161,380\",\"171,715\",\"114,217\",\"147,812\"]}],                        {\"template\":{\"data\":{\"histogram2dcontour\":[{\"type\":\"histogram2dcontour\",\"colorbar\":{\"outlinewidth\":0,\"ticks\":\"\"},\"colorscale\":[[0.0,\"#0d0887\"],[0.1111111111111111,\"#46039f\"],[0.2222222222222222,\"#7201a8\"],[0.3333333333333333,\"#9c179e\"],[0.4444444444444444,\"#bd3786\"],[0.5555555555555556,\"#d8576b\"],[0.6666666666666666,\"#ed7953\"],[0.7777777777777778,\"#fb9f3a\"],[0.8888888888888888,\"#fdca26\"],[1.0,\"#f0f921\"]]}],\"choropleth\":[{\"type\":\"choropleth\",\"colorbar\":{\"outlinewidth\":0,\"ticks\":\"\"}}],\"histogram2d\":[{\"type\":\"histogram2d\",\"colorbar\":{\"outlinewidth\":0,\"ticks\":\"\"},\"colorscale\":[[0.0,\"#0d0887\"],[0.1111111111111111,\"#46039f\"],[0.2222222222222222,\"#7201a8\"],[0.3333333333333333,\"#9c179e\"],[0.4444444444444444,\"#bd3786\"],[0.5555555555555556,\"#d8576b\"],[0.6666666666666666,\"#ed7953\"],[0.7777777777777778,\"#fb9f3a\"],[0.8888888888888888,\"#fdca26\"],[1.0,\"#f0f921\"]]}],\"heatmap\":[{\"type\":\"heatmap\",\"colorbar\":{\"outlinewidth\":0,\"ticks\":\"\"},\"colorscale\":[[0.0,\"#0d0887\"],[0.1111111111111111,\"#46039f\"],[0.2222222222222222,\"#7201a8\"],[0.3333333333333333,\"#9c179e\"],[0.4444444444444444,\"#bd3786\"],[0.5555555555555556,\"#d8576b\"],[0.6666666666666666,\"#ed7953\"],[0.7777777777777778,\"#fb9f3a\"],[0.8888888888888888,\"#fdca26\"],[1.0,\"#f0f921\"]]}],\"heatmapgl\":[{\"type\":\"heatmapgl\",\"colorbar\":{\"outlinewidth\":0,\"ticks\":\"\"},\"colorscale\":[[0.0,\"#0d0887\"],[0.1111111111111111,\"#46039f\"],[0.2222222222222222,\"#7201a8\"],[0.3333333333333333,\"#9c179e\"],[0.4444444444444444,\"#bd3786\"],[0.5555555555555556,\"#d8576b\"],[0.6666666666666666,\"#ed7953\"],[0.7777777777777778,\"#fb9f3a\"],[0.8888888888888888,\"#fdca26\"],[1.0,\"#f0f921\"]]}],\"contourcarpet\":[{\"type\":\"contourcarpet\",\"colorbar\":{\"outlinewidth\":0,\"ticks\":\"\"}}],\"contour\":[{\"type\":\"contour\",\"colorbar\":{\"outlinewidth\":0,\"ticks\":\"\"},\"colorscale\":[[0.0,\"#0d0887\"],[0.1111111111111111,\"#46039f\"],[0.2222222222222222,\"#7201a8\"],[0.3333333333333333,\"#9c179e\"],[0.4444444444444444,\"#bd3786\"],[0.5555555555555556,\"#d8576b\"],[0.6666666666666666,\"#ed7953\"],[0.7777777777777778,\"#fb9f3a\"],[0.8888888888888888,\"#fdca26\"],[1.0,\"#f0f921\"]]}],\"surface\":[{\"type\":\"surface\",\"colorbar\":{\"outlinewidth\":0,\"ticks\":\"\"},\"colorscale\":[[0.0,\"#0d0887\"],[0.1111111111111111,\"#46039f\"],[0.2222222222222222,\"#7201a8\"],[0.3333333333333333,\"#9c179e\"],[0.4444444444444444,\"#bd3786\"],[0.5555555555555556,\"#d8576b\"],[0.6666666666666666,\"#ed7953\"],[0.7777777777777778,\"#fb9f3a\"],[0.8888888888888888,\"#fdca26\"],[1.0,\"#f0f921\"]]}],\"mesh3d\":[{\"type\":\"mesh3d\",\"colorbar\":{\"outlinewidth\":0,\"ticks\":\"\"}}],\"scatter\":[{\"fillpattern\":{\"fillmode\":\"overlay\",\"size\":10,\"solidity\":0.2},\"type\":\"scatter\"}],\"parcoords\":[{\"type\":\"parcoords\",\"line\":{\"colorbar\":{\"outlinewidth\":0,\"ticks\":\"\"}}}],\"scatterpolargl\":[{\"type\":\"scatterpolargl\",\"marker\":{\"colorbar\":{\"outlinewidth\":0,\"ticks\":\"\"}}}],\"bar\":[{\"error_x\":{\"color\":\"#2a3f5f\"},\"error_y\":{\"color\":\"#2a3f5f\"},\"marker\":{\"line\":{\"color\":\"#E5ECF6\",\"width\":0.5},\"pattern\":{\"fillmode\":\"overlay\",\"size\":10,\"solidity\":0.2}},\"type\":\"bar\"}],\"scattergeo\":[{\"type\":\"scattergeo\",\"marker\":{\"colorbar\":{\"outlinewidth\":0,\"ticks\":\"\"}}}],\"scatterpolar\":[{\"type\":\"scatterpolar\",\"marker\":{\"colorbar\":{\"outlinewidth\":0,\"ticks\":\"\"}}}],\"histogram\":[{\"marker\":{\"pattern\":{\"fillmode\":\"overlay\",\"size\":10,\"solidity\":0.2}},\"type\":\"histogram\"}],\"scattergl\":[{\"type\":\"scattergl\",\"marker\":{\"colorbar\":{\"outlinewidth\":0,\"ticks\":\"\"}}}],\"scatter3d\":[{\"type\":\"scatter3d\",\"line\":{\"colorbar\":{\"outlinewidth\":0,\"ticks\":\"\"}},\"marker\":{\"colorbar\":{\"outlinewidth\":0,\"ticks\":\"\"}}}],\"scattermapbox\":[{\"type\":\"scattermapbox\",\"marker\":{\"colorbar\":{\"outlinewidth\":0,\"ticks\":\"\"}}}],\"scatterternary\":[{\"type\":\"scatterternary\",\"marker\":{\"colorbar\":{\"outlinewidth\":0,\"ticks\":\"\"}}}],\"scattercarpet\":[{\"type\":\"scattercarpet\",\"marker\":{\"colorbar\":{\"outlinewidth\":0,\"ticks\":\"\"}}}],\"carpet\":[{\"aaxis\":{\"endlinecolor\":\"#2a3f5f\",\"gridcolor\":\"white\",\"linecolor\":\"white\",\"minorgridcolor\":\"white\",\"startlinecolor\":\"#2a3f5f\"},\"baxis\":{\"endlinecolor\":\"#2a3f5f\",\"gridcolor\":\"white\",\"linecolor\":\"white\",\"minorgridcolor\":\"white\",\"startlinecolor\":\"#2a3f5f\"},\"type\":\"carpet\"}],\"table\":[{\"cells\":{\"fill\":{\"color\":\"#EBF0F8\"},\"line\":{\"color\":\"white\"}},\"header\":{\"fill\":{\"color\":\"#C8D4E3\"},\"line\":{\"color\":\"white\"}},\"type\":\"table\"}],\"barpolar\":[{\"marker\":{\"line\":{\"color\":\"#E5ECF6\",\"width\":0.5},\"pattern\":{\"fillmode\":\"overlay\",\"size\":10,\"solidity\":0.2}},\"type\":\"barpolar\"}],\"pie\":[{\"automargin\":true,\"type\":\"pie\"}]},\"layout\":{\"autotypenumbers\":\"strict\",\"colorway\":[\"#636efa\",\"#EF553B\",\"#00cc96\",\"#ab63fa\",\"#FFA15A\",\"#19d3f3\",\"#FF6692\",\"#B6E880\",\"#FF97FF\",\"#FECB52\"],\"font\":{\"color\":\"#2a3f5f\"},\"hovermode\":\"closest\",\"hoverlabel\":{\"align\":\"left\"},\"paper_bgcolor\":\"white\",\"plot_bgcolor\":\"#E5ECF6\",\"polar\":{\"bgcolor\":\"#E5ECF6\",\"angularaxis\":{\"gridcolor\":\"white\",\"linecolor\":\"white\",\"ticks\":\"\"},\"radialaxis\":{\"gridcolor\":\"white\",\"linecolor\":\"white\",\"ticks\":\"\"}},\"ternary\":{\"bgcolor\":\"#E5ECF6\",\"aaxis\":{\"gridcolor\":\"white\",\"linecolor\":\"white\",\"ticks\":\"\"},\"baxis\":{\"gridcolor\":\"white\",\"linecolor\":\"white\",\"ticks\":\"\"},\"caxis\":{\"gridcolor\":\"white\",\"linecolor\":\"white\",\"ticks\":\"\"}},\"coloraxis\":{\"colorbar\":{\"outlinewidth\":0,\"ticks\":\"\"}},\"colorscale\":{\"sequential\":[[0.0,\"#0d0887\"],[0.1111111111111111,\"#46039f\"],[0.2222222222222222,\"#7201a8\"],[0.3333333333333333,\"#9c179e\"],[0.4444444444444444,\"#bd3786\"],[0.5555555555555556,\"#d8576b\"],[0.6666666666666666,\"#ed7953\"],[0.7777777777777778,\"#fb9f3a\"],[0.8888888888888888,\"#fdca26\"],[1.0,\"#f0f921\"]],\"sequentialminus\":[[0.0,\"#0d0887\"],[0.1111111111111111,\"#46039f\"],[0.2222222222222222,\"#7201a8\"],[0.3333333333333333,\"#9c179e\"],[0.4444444444444444,\"#bd3786\"],[0.5555555555555556,\"#d8576b\"],[0.6666666666666666,\"#ed7953\"],[0.7777777777777778,\"#fb9f3a\"],[0.8888888888888888,\"#fdca26\"],[1.0,\"#f0f921\"]],\"diverging\":[[0,\"#8e0152\"],[0.1,\"#c51b7d\"],[0.2,\"#de77ae\"],[0.3,\"#f1b6da\"],[0.4,\"#fde0ef\"],[0.5,\"#f7f7f7\"],[0.6,\"#e6f5d0\"],[0.7,\"#b8e186\"],[0.8,\"#7fbc41\"],[0.9,\"#4d9221\"],[1,\"#276419\"]]},\"xaxis\":{\"gridcolor\":\"white\",\"linecolor\":\"white\",\"ticks\":\"\",\"title\":{\"standoff\":15},\"zerolinecolor\":\"white\",\"automargin\":true,\"zerolinewidth\":2},\"yaxis\":{\"gridcolor\":\"white\",\"linecolor\":\"white\",\"ticks\":\"\",\"title\":{\"standoff\":15},\"zerolinecolor\":\"white\",\"automargin\":true,\"zerolinewidth\":2},\"scene\":{\"xaxis\":{\"backgroundcolor\":\"#E5ECF6\",\"gridcolor\":\"white\",\"linecolor\":\"white\",\"showbackground\":true,\"ticks\":\"\",\"zerolinecolor\":\"white\",\"gridwidth\":2},\"yaxis\":{\"backgroundcolor\":\"#E5ECF6\",\"gridcolor\":\"white\",\"linecolor\":\"white\",\"showbackground\":true,\"ticks\":\"\",\"zerolinecolor\":\"white\",\"gridwidth\":2},\"zaxis\":{\"backgroundcolor\":\"#E5ECF6\",\"gridcolor\":\"white\",\"linecolor\":\"white\",\"showbackground\":true,\"ticks\":\"\",\"zerolinecolor\":\"white\",\"gridwidth\":2}},\"shapedefaults\":{\"line\":{\"color\":\"#2a3f5f\"}},\"annotationdefaults\":{\"arrowcolor\":\"#2a3f5f\",\"arrowhead\":0,\"arrowwidth\":1},\"geo\":{\"bgcolor\":\"white\",\"landcolor\":\"#E5ECF6\",\"subunitcolor\":\"white\",\"showland\":true,\"showlakes\":true,\"lakecolor\":\"white\"},\"title\":{\"x\":0.05},\"mapbox\":{\"style\":\"light\"}}},\"xaxis\":{\"anchor\":\"y\",\"domain\":[0.0,1.0],\"title\":{\"text\":\"\\u4eba\\u53e3\"},\"range\":[0,200000]},\"yaxis\":{\"anchor\":\"x\",\"domain\":[0.0,1.0],\"title\":{\"text\":\"\\u5730\\u57df\"},\"categoryorder\":\"array\",\"categoryarray\":[\"\\u6c5f\\u6238\\u5ddd\\u533a\",\"\\u845b\\u98fe\\u533a\",\"\\u8db3\\u7acb\\u533a\",\"\\u7df4\\u99ac\\u533a\",\"\\u677f\\u6a4b\\u533a\",\"\\u8352\\u5ddd\\u533a\",\"\\u5317\\u533a\",\"\\u8c4a\\u5cf6\\u533a\",\"\\u6749\\u4e26\\u533a\",\"\\u4e2d\\u91ce\\u533a\",\"\\u6e0b\\u8c37\\u533a\",\"\\u4e16\\u7530\\u8c37\\u533a\",\"\\u5927\\u7530\\u533a\",\"\\u76ee\\u9ed2\\u533a\",\"\\u54c1\\u5ddd\\u533a\",\"\\u6c5f\\u6771\\u533a\",\"\\u58a8\\u7530\\u533a\",\"\\u53f0\\u6771\\u533a\",\"\\u6587\\u4eac\\u533a\",\"\\u65b0\\u5bbf\\u533a\",\"\\u6e2f\\u533a\",\"\\u4e2d\\u592e\\u533a\",\"\\u5343\\u4ee3\\u7530\\u533a\"]},\"legend\":{\"tracegroupgap\":0},\"title\":{\"text\":\"65\\u6b73\\u4ee5\\u4e0a\\u4eba\\u53e3\"},\"barmode\":\"relative\",\"height\":800,\"width\":900},                        {\"responsive\": true}                    ).then(function(){\n",
       "                            \n",
       "var gd = document.getElementById('25a3a310-3dbd-48f2-82ba-0ca08633d838');\n",
       "var x = new MutationObserver(function (mutations, observer) {{\n",
       "        var display = window.getComputedStyle(gd).display;\n",
       "        if (!display || display === 'none') {{\n",
       "            console.log([gd, 'removed!']);\n",
       "            Plotly.purge(gd);\n",
       "            observer.disconnect();\n",
       "        }}\n",
       "}});\n",
       "\n",
       "// Listen for the removal of the full notebook cells\n",
       "var notebookContainer = gd.closest('#notebook-container');\n",
       "if (notebookContainer) {{\n",
       "    x.observe(notebookContainer, {childList: true});\n",
       "}}\n",
       "\n",
       "// Listen for the clearing of the current output cell\n",
       "var outputEl = gd.closest('.output');\n",
       "if (outputEl) {{\n",
       "    x.observe(outputEl, {childList: true});\n",
       "}}\n",
       "\n",
       "                        })                };                });            </script>        </div>"
      ]
     },
     "metadata": {},
     "output_type": "display_data"
    },
    {
     "data": {
      "application/vnd.plotly.v1+json": {
       "config": {
        "plotlyServerURL": "https://plot.ly"
       },
       "data": [
        {
         "alignmentgroup": "True",
         "hovertemplate": "年齢=27歳<br>人口=%{x}<br>地域=%{y}<extra></extra>",
         "legendgroup": "27歳",
         "marker": {
          "color": "rgb(54, 14, 36)",
          "pattern": {
           "shape": ""
          }
         },
         "name": "27歳",
         "offsetgroup": "27歳",
         "orientation": "h",
         "showlegend": true,
         "textposition": "outside",
         "type": "bar",
         "x": [
          612,
          1769,
          3122,
          2343,
          1858,
          1180,
          2261,
          6350,
          4320,
          2211,
          5978,
          8287,
          2117,
          2291,
          4376,
          2086,
          2397,
          2021,
          4422,
          5814,
          5937,
          3550,
          5848
         ],
         "xaxis": "x",
         "y": [
          "千代田区",
          "中央区",
          "港区",
          "新宿区",
          "文京区",
          "台東区",
          "墨田区",
          "江東区",
          "品川区",
          "目黒区",
          "大田区",
          "世田谷区",
          "渋谷区",
          "中野区",
          "杉並区",
          "豊島区",
          "北区",
          "荒川区",
          "板橋区",
          "練馬区",
          "足立区",
          "葛飾区",
          "江戸川区"
         ],
         "yaxis": "y"
        },
        {
         "alignmentgroup": "True",
         "hovertemplate": "年齢=26歳<br>人口=%{x}<br>地域=%{y}<extra></extra>",
         "legendgroup": "26歳",
         "marker": {
          "color": "rgb(80, 20, 66)",
          "pattern": {
           "shape": ""
          }
         },
         "name": "26歳",
         "offsetgroup": "26歳",
         "orientation": "h",
         "showlegend": true,
         "textposition": "outside",
         "type": "bar",
         "x": [
          549,
          2154,
          3611,
          2598,
          2141,
          1442,
          2311,
          5755,
          3896,
          2582,
          5815,
          8855,
          2186,
          2201,
          5029,
          2122,
          2556,
          2282,
          4247,
          6178,
          5466,
          4114,
          6142
         ],
         "xaxis": "x",
         "y": [
          "千代田区",
          "中央区",
          "港区",
          "新宿区",
          "文京区",
          "台東区",
          "墨田区",
          "江東区",
          "品川区",
          "目黒区",
          "大田区",
          "世田谷区",
          "渋谷区",
          "中野区",
          "杉並区",
          "豊島区",
          "北区",
          "荒川区",
          "板橋区",
          "練馬区",
          "足立区",
          "葛飾区",
          "江戸川区"
         ],
         "yaxis": "y"
        },
        {
         "alignmentgroup": "True",
         "hovertemplate": "年齢=25歳<br>人口=%{x}<br>地域=%{y}<extra></extra>",
         "legendgroup": "25歳",
         "marker": {
          "color": "rgb(100, 31, 104)",
          "pattern": {
           "shape": ""
          }
         },
         "name": "25歳",
         "offsetgroup": "25歳",
         "orientation": "h",
         "showlegend": true,
         "textposition": "outside",
         "type": "bar",
         "x": [
          525,
          2016,
          3038,
          2236,
          2320,
          1388,
          1918,
          5518,
          3960,
          2417,
          5522,
          8384,
          2044,
          2202,
          4603,
          2349,
          2262,
          2142,
          4424,
          5860,
          5023,
          3205,
          4606
         ],
         "xaxis": "x",
         "y": [
          "千代田区",
          "中央区",
          "港区",
          "新宿区",
          "文京区",
          "台東区",
          "墨田区",
          "江東区",
          "品川区",
          "目黒区",
          "大田区",
          "世田谷区",
          "渋谷区",
          "中野区",
          "杉並区",
          "豊島区",
          "北区",
          "荒川区",
          "板橋区",
          "練馬区",
          "足立区",
          "葛飾区",
          "江戸川区"
         ],
         "yaxis": "y"
        },
        {
         "alignmentgroup": "True",
         "hovertemplate": "年齢=24歳<br>人口=%{x}<br>地域=%{y}<extra></extra>",
         "legendgroup": "24歳",
         "marker": {
          "color": "rgb(113, 50, 141)",
          "pattern": {
           "shape": ""
          }
         },
         "name": "24歳",
         "offsetgroup": "24歳",
         "orientation": "h",
         "showlegend": true,
         "textposition": "outside",
         "type": "bar",
         "x": [
          872,
          2534,
          5881,
          5413,
          2622,
          2590,
          2997,
          8006,
          5259,
          3279,
          7088,
          9974,
          3343,
          3095,
          5248,
          3065,
          4006,
          3255,
          5958,
          6482,
          7793,
          4372,
          7164
         ],
         "xaxis": "x",
         "y": [
          "千代田区",
          "中央区",
          "港区",
          "新宿区",
          "文京区",
          "台東区",
          "墨田区",
          "江東区",
          "品川区",
          "目黒区",
          "大田区",
          "世田谷区",
          "渋谷区",
          "中野区",
          "杉並区",
          "豊島区",
          "北区",
          "荒川区",
          "板橋区",
          "練馬区",
          "足立区",
          "葛飾区",
          "江戸川区"
         ],
         "yaxis": "y"
        },
        {
         "alignmentgroup": "True",
         "hovertemplate": "年齢=23歳<br>人口=%{x}<br>地域=%{y}<extra></extra>",
         "legendgroup": "23歳",
         "marker": {
          "color": "rgb(119, 74, 175)",
          "pattern": {
           "shape": ""
          }
         },
         "name": "23歳",
         "offsetgroup": "23歳",
         "orientation": "h",
         "showlegend": true,
         "textposition": "outside",
         "type": "bar",
         "x": [
          781,
          2500,
          3578,
          2718,
          2724,
          1655,
          2273,
          6294,
          4327,
          2836,
          6197,
          9298,
          2454,
          2805,
          5367,
          2595,
          3246,
          2131,
          4878,
          5849,
          5175,
          3588,
          4922
         ],
         "xaxis": "x",
         "y": [
          "千代田区",
          "中央区",
          "港区",
          "新宿区",
          "文京区",
          "台東区",
          "墨田区",
          "江東区",
          "品川区",
          "目黒区",
          "大田区",
          "世田谷区",
          "渋谷区",
          "中野区",
          "杉並区",
          "豊島区",
          "北区",
          "荒川区",
          "板橋区",
          "練馬区",
          "足立区",
          "葛飾区",
          "江戸川区"
         ],
         "yaxis": "y"
        },
        {
         "alignmentgroup": "True",
         "hovertemplate": "年齢=22歳<br>人口=%{x}<br>地域=%{y}<extra></extra>",
         "legendgroup": "22歳",
         "marker": {
          "color": "rgb(120, 100, 202)",
          "pattern": {
           "shape": ""
          }
         },
         "name": "22歳",
         "offsetgroup": "22歳",
         "orientation": "h",
         "showlegend": true,
         "textposition": "outside",
         "type": "bar",
         "x": [
          1206,
          2997,
          4448,
          2879,
          2662,
          1879,
          2657,
          6350,
          4411,
          3309,
          6559,
          9896,
          2691,
          3067,
          5631,
          2697,
          3651,
          2249,
          4875,
          6095,
          5458,
          3801,
          5319
         ],
         "xaxis": "x",
         "y": [
          "千代田区",
          "中央区",
          "港区",
          "新宿区",
          "文京区",
          "台東区",
          "墨田区",
          "江東区",
          "品川区",
          "目黒区",
          "大田区",
          "世田谷区",
          "渋谷区",
          "中野区",
          "杉並区",
          "豊島区",
          "北区",
          "荒川区",
          "板橋区",
          "練馬区",
          "足立区",
          "葛飾区",
          "江戸川区"
         ],
         "yaxis": "y"
        },
        {
         "alignmentgroup": "True",
         "hovertemplate": "年齢=21歳<br>人口=%{x}<br>地域=%{y}<extra></extra>",
         "legendgroup": "21歳",
         "marker": {
          "color": "rgb(117, 127, 221)",
          "pattern": {
           "shape": ""
          }
         },
         "name": "21歳",
         "offsetgroup": "21歳",
         "orientation": "h",
         "showlegend": true,
         "textposition": "outside",
         "type": "bar",
         "x": [
          898,
          3067,
          4415,
          3263,
          2878,
          1731,
          3096,
          6727,
          5199,
          3087,
          6464,
          9977,
          3029,
          3451,
          6124,
          2627,
          3266,
          2144,
          5226,
          6127,
          5519,
          3735,
          5490
         ],
         "xaxis": "x",
         "y": [
          "千代田区",
          "中央区",
          "港区",
          "新宿区",
          "文京区",
          "台東区",
          "墨田区",
          "江東区",
          "品川区",
          "目黒区",
          "大田区",
          "世田谷区",
          "渋谷区",
          "中野区",
          "杉並区",
          "豊島区",
          "北区",
          "荒川区",
          "板橋区",
          "練馬区",
          "足立区",
          "葛飾区",
          "江戸川区"
         ],
         "yaxis": "y"
        },
        {
         "alignmentgroup": "True",
         "hovertemplate": "年齢=20歳<br>人口=%{x}<br>地域=%{y}<extra></extra>",
         "legendgroup": "20歳",
         "marker": {
          "color": "rgb(115, 154, 228)",
          "pattern": {
           "shape": ""
          }
         },
         "name": "20歳",
         "offsetgroup": "20歳",
         "orientation": "h",
         "showlegend": true,
         "textposition": "outside",
         "type": "bar",
         "x": [
          931,
          3533,
          4914,
          3347,
          3124,
          1814,
          2786,
          5997,
          4971,
          3141,
          6243,
          9883,
          2846,
          3222,
          5862,
          2785,
          3719,
          2221,
          5516,
          6002,
          4617,
          4041,
          5241
         ],
         "xaxis": "x",
         "y": [
          "千代田区",
          "中央区",
          "港区",
          "新宿区",
          "文京区",
          "台東区",
          "墨田区",
          "江東区",
          "品川区",
          "目黒区",
          "大田区",
          "世田谷区",
          "渋谷区",
          "中野区",
          "杉並区",
          "豊島区",
          "北区",
          "荒川区",
          "板橋区",
          "練馬区",
          "足立区",
          "葛飾区",
          "江戸川区"
         ],
         "yaxis": "y"
        },
        {
         "alignmentgroup": "True",
         "hovertemplate": "年齢=19歳<br>人口=%{x}<br>地域=%{y}<extra></extra>",
         "legendgroup": "19歳",
         "marker": {
          "color": "rgb(129, 180, 227)",
          "pattern": {
           "shape": ""
          }
         },
         "name": "19歳",
         "offsetgroup": "19歳",
         "orientation": "h",
         "showlegend": true,
         "textposition": "outside",
         "type": "bar",
         "x": [
          1089,
          3397,
          4516,
          3722,
          2801,
          1842,
          2952,
          5790,
          4957,
          3528,
          6178,
          8824,
          2816,
          3072,
          5393,
          2621,
          3388,
          1959,
          4589,
          6003,
          4422,
          3666,
          5191
         ],
         "xaxis": "x",
         "y": [
          "千代田区",
          "中央区",
          "港区",
          "新宿区",
          "文京区",
          "台東区",
          "墨田区",
          "江東区",
          "品川区",
          "目黒区",
          "大田区",
          "世田谷区",
          "渋谷区",
          "中野区",
          "杉並区",
          "豊島区",
          "北区",
          "荒川区",
          "板橋区",
          "練馬区",
          "足立区",
          "葛飾区",
          "江戸川区"
         ],
         "yaxis": "y"
        },
        {
         "alignmentgroup": "True",
         "hovertemplate": "年齢=18歳<br>人口=%{x}<br>地域=%{y}<extra></extra>",
         "legendgroup": "18歳",
         "marker": {
          "color": "rgb(156, 201, 226)",
          "pattern": {
           "shape": ""
          }
         },
         "name": "18歳",
         "offsetgroup": "18歳",
         "orientation": "h",
         "showlegend": true,
         "text": [
          "8,491",
          "27,307",
          "41,804",
          "31,878",
          "26,194",
          "17,411",
          "25,971",
          "62,111",
          "46,371",
          "29,435",
          "62,258",
          "92,186",
          "26,191",
          "28,400",
          "53,372",
          "25,657",
          "32,227",
          "22,075",
          "48,914",
          "60,084",
          "53,732",
          "37,481",
          "55,074"
         ],
         "textposition": "outside",
         "type": "bar",
         "x": [
          1028,
          3340,
          4281,
          3359,
          3064,
          1890,
          2720,
          5324,
          5071,
          3045,
          6214,
          8808,
          2665,
          2994,
          5739,
          2710,
          3736,
          1671,
          4779,
          5674,
          4322,
          3409,
          5151
         ],
         "xaxis": "x",
         "y": [
          "千代田区",
          "中央区",
          "港区",
          "新宿区",
          "文京区",
          "台東区",
          "墨田区",
          "江東区",
          "品川区",
          "目黒区",
          "大田区",
          "世田谷区",
          "渋谷区",
          "中野区",
          "杉並区",
          "豊島区",
          "北区",
          "荒川区",
          "板橋区",
          "練馬区",
          "足立区",
          "葛飾区",
          "江戸川区"
         ],
         "yaxis": "y"
        }
       ],
       "layout": {
        "barmode": "relative",
        "height": 800,
        "legend": {
         "title": {
          "text": "年齢"
         },
         "tracegroupgap": 0
        },
        "template": {
         "data": {
          "bar": [
           {
            "error_x": {
             "color": "#2a3f5f"
            },
            "error_y": {
             "color": "#2a3f5f"
            },
            "marker": {
             "line": {
              "color": "#E5ECF6",
              "width": 0.5
             },
             "pattern": {
              "fillmode": "overlay",
              "size": 10,
              "solidity": 0.2
             }
            },
            "type": "bar"
           }
          ],
          "barpolar": [
           {
            "marker": {
             "line": {
              "color": "#E5ECF6",
              "width": 0.5
             },
             "pattern": {
              "fillmode": "overlay",
              "size": 10,
              "solidity": 0.2
             }
            },
            "type": "barpolar"
           }
          ],
          "carpet": [
           {
            "aaxis": {
             "endlinecolor": "#2a3f5f",
             "gridcolor": "white",
             "linecolor": "white",
             "minorgridcolor": "white",
             "startlinecolor": "#2a3f5f"
            },
            "baxis": {
             "endlinecolor": "#2a3f5f",
             "gridcolor": "white",
             "linecolor": "white",
             "minorgridcolor": "white",
             "startlinecolor": "#2a3f5f"
            },
            "type": "carpet"
           }
          ],
          "choropleth": [
           {
            "colorbar": {
             "outlinewidth": 0,
             "ticks": ""
            },
            "type": "choropleth"
           }
          ],
          "contour": [
           {
            "colorbar": {
             "outlinewidth": 0,
             "ticks": ""
            },
            "colorscale": [
             [
              0,
              "#0d0887"
             ],
             [
              0.1111111111111111,
              "#46039f"
             ],
             [
              0.2222222222222222,
              "#7201a8"
             ],
             [
              0.3333333333333333,
              "#9c179e"
             ],
             [
              0.4444444444444444,
              "#bd3786"
             ],
             [
              0.5555555555555556,
              "#d8576b"
             ],
             [
              0.6666666666666666,
              "#ed7953"
             ],
             [
              0.7777777777777778,
              "#fb9f3a"
             ],
             [
              0.8888888888888888,
              "#fdca26"
             ],
             [
              1,
              "#f0f921"
             ]
            ],
            "type": "contour"
           }
          ],
          "contourcarpet": [
           {
            "colorbar": {
             "outlinewidth": 0,
             "ticks": ""
            },
            "type": "contourcarpet"
           }
          ],
          "heatmap": [
           {
            "colorbar": {
             "outlinewidth": 0,
             "ticks": ""
            },
            "colorscale": [
             [
              0,
              "#0d0887"
             ],
             [
              0.1111111111111111,
              "#46039f"
             ],
             [
              0.2222222222222222,
              "#7201a8"
             ],
             [
              0.3333333333333333,
              "#9c179e"
             ],
             [
              0.4444444444444444,
              "#bd3786"
             ],
             [
              0.5555555555555556,
              "#d8576b"
             ],
             [
              0.6666666666666666,
              "#ed7953"
             ],
             [
              0.7777777777777778,
              "#fb9f3a"
             ],
             [
              0.8888888888888888,
              "#fdca26"
             ],
             [
              1,
              "#f0f921"
             ]
            ],
            "type": "heatmap"
           }
          ],
          "heatmapgl": [
           {
            "colorbar": {
             "outlinewidth": 0,
             "ticks": ""
            },
            "colorscale": [
             [
              0,
              "#0d0887"
             ],
             [
              0.1111111111111111,
              "#46039f"
             ],
             [
              0.2222222222222222,
              "#7201a8"
             ],
             [
              0.3333333333333333,
              "#9c179e"
             ],
             [
              0.4444444444444444,
              "#bd3786"
             ],
             [
              0.5555555555555556,
              "#d8576b"
             ],
             [
              0.6666666666666666,
              "#ed7953"
             ],
             [
              0.7777777777777778,
              "#fb9f3a"
             ],
             [
              0.8888888888888888,
              "#fdca26"
             ],
             [
              1,
              "#f0f921"
             ]
            ],
            "type": "heatmapgl"
           }
          ],
          "histogram": [
           {
            "marker": {
             "pattern": {
              "fillmode": "overlay",
              "size": 10,
              "solidity": 0.2
             }
            },
            "type": "histogram"
           }
          ],
          "histogram2d": [
           {
            "colorbar": {
             "outlinewidth": 0,
             "ticks": ""
            },
            "colorscale": [
             [
              0,
              "#0d0887"
             ],
             [
              0.1111111111111111,
              "#46039f"
             ],
             [
              0.2222222222222222,
              "#7201a8"
             ],
             [
              0.3333333333333333,
              "#9c179e"
             ],
             [
              0.4444444444444444,
              "#bd3786"
             ],
             [
              0.5555555555555556,
              "#d8576b"
             ],
             [
              0.6666666666666666,
              "#ed7953"
             ],
             [
              0.7777777777777778,
              "#fb9f3a"
             ],
             [
              0.8888888888888888,
              "#fdca26"
             ],
             [
              1,
              "#f0f921"
             ]
            ],
            "type": "histogram2d"
           }
          ],
          "histogram2dcontour": [
           {
            "colorbar": {
             "outlinewidth": 0,
             "ticks": ""
            },
            "colorscale": [
             [
              0,
              "#0d0887"
             ],
             [
              0.1111111111111111,
              "#46039f"
             ],
             [
              0.2222222222222222,
              "#7201a8"
             ],
             [
              0.3333333333333333,
              "#9c179e"
             ],
             [
              0.4444444444444444,
              "#bd3786"
             ],
             [
              0.5555555555555556,
              "#d8576b"
             ],
             [
              0.6666666666666666,
              "#ed7953"
             ],
             [
              0.7777777777777778,
              "#fb9f3a"
             ],
             [
              0.8888888888888888,
              "#fdca26"
             ],
             [
              1,
              "#f0f921"
             ]
            ],
            "type": "histogram2dcontour"
           }
          ],
          "mesh3d": [
           {
            "colorbar": {
             "outlinewidth": 0,
             "ticks": ""
            },
            "type": "mesh3d"
           }
          ],
          "parcoords": [
           {
            "line": {
             "colorbar": {
              "outlinewidth": 0,
              "ticks": ""
             }
            },
            "type": "parcoords"
           }
          ],
          "pie": [
           {
            "automargin": true,
            "type": "pie"
           }
          ],
          "scatter": [
           {
            "fillpattern": {
             "fillmode": "overlay",
             "size": 10,
             "solidity": 0.2
            },
            "type": "scatter"
           }
          ],
          "scatter3d": [
           {
            "line": {
             "colorbar": {
              "outlinewidth": 0,
              "ticks": ""
             }
            },
            "marker": {
             "colorbar": {
              "outlinewidth": 0,
              "ticks": ""
             }
            },
            "type": "scatter3d"
           }
          ],
          "scattercarpet": [
           {
            "marker": {
             "colorbar": {
              "outlinewidth": 0,
              "ticks": ""
             }
            },
            "type": "scattercarpet"
           }
          ],
          "scattergeo": [
           {
            "marker": {
             "colorbar": {
              "outlinewidth": 0,
              "ticks": ""
             }
            },
            "type": "scattergeo"
           }
          ],
          "scattergl": [
           {
            "marker": {
             "colorbar": {
              "outlinewidth": 0,
              "ticks": ""
             }
            },
            "type": "scattergl"
           }
          ],
          "scattermapbox": [
           {
            "marker": {
             "colorbar": {
              "outlinewidth": 0,
              "ticks": ""
             }
            },
            "type": "scattermapbox"
           }
          ],
          "scatterpolar": [
           {
            "marker": {
             "colorbar": {
              "outlinewidth": 0,
              "ticks": ""
             }
            },
            "type": "scatterpolar"
           }
          ],
          "scatterpolargl": [
           {
            "marker": {
             "colorbar": {
              "outlinewidth": 0,
              "ticks": ""
             }
            },
            "type": "scatterpolargl"
           }
          ],
          "scatterternary": [
           {
            "marker": {
             "colorbar": {
              "outlinewidth": 0,
              "ticks": ""
             }
            },
            "type": "scatterternary"
           }
          ],
          "surface": [
           {
            "colorbar": {
             "outlinewidth": 0,
             "ticks": ""
            },
            "colorscale": [
             [
              0,
              "#0d0887"
             ],
             [
              0.1111111111111111,
              "#46039f"
             ],
             [
              0.2222222222222222,
              "#7201a8"
             ],
             [
              0.3333333333333333,
              "#9c179e"
             ],
             [
              0.4444444444444444,
              "#bd3786"
             ],
             [
              0.5555555555555556,
              "#d8576b"
             ],
             [
              0.6666666666666666,
              "#ed7953"
             ],
             [
              0.7777777777777778,
              "#fb9f3a"
             ],
             [
              0.8888888888888888,
              "#fdca26"
             ],
             [
              1,
              "#f0f921"
             ]
            ],
            "type": "surface"
           }
          ],
          "table": [
           {
            "cells": {
             "fill": {
              "color": "#EBF0F8"
             },
             "line": {
              "color": "white"
             }
            },
            "header": {
             "fill": {
              "color": "#C8D4E3"
             },
             "line": {
              "color": "white"
             }
            },
            "type": "table"
           }
          ]
         },
         "layout": {
          "annotationdefaults": {
           "arrowcolor": "#2a3f5f",
           "arrowhead": 0,
           "arrowwidth": 1
          },
          "autotypenumbers": "strict",
          "coloraxis": {
           "colorbar": {
            "outlinewidth": 0,
            "ticks": ""
           }
          },
          "colorscale": {
           "diverging": [
            [
             0,
             "#8e0152"
            ],
            [
             0.1,
             "#c51b7d"
            ],
            [
             0.2,
             "#de77ae"
            ],
            [
             0.3,
             "#f1b6da"
            ],
            [
             0.4,
             "#fde0ef"
            ],
            [
             0.5,
             "#f7f7f7"
            ],
            [
             0.6,
             "#e6f5d0"
            ],
            [
             0.7,
             "#b8e186"
            ],
            [
             0.8,
             "#7fbc41"
            ],
            [
             0.9,
             "#4d9221"
            ],
            [
             1,
             "#276419"
            ]
           ],
           "sequential": [
            [
             0,
             "#0d0887"
            ],
            [
             0.1111111111111111,
             "#46039f"
            ],
            [
             0.2222222222222222,
             "#7201a8"
            ],
            [
             0.3333333333333333,
             "#9c179e"
            ],
            [
             0.4444444444444444,
             "#bd3786"
            ],
            [
             0.5555555555555556,
             "#d8576b"
            ],
            [
             0.6666666666666666,
             "#ed7953"
            ],
            [
             0.7777777777777778,
             "#fb9f3a"
            ],
            [
             0.8888888888888888,
             "#fdca26"
            ],
            [
             1,
             "#f0f921"
            ]
           ],
           "sequentialminus": [
            [
             0,
             "#0d0887"
            ],
            [
             0.1111111111111111,
             "#46039f"
            ],
            [
             0.2222222222222222,
             "#7201a8"
            ],
            [
             0.3333333333333333,
             "#9c179e"
            ],
            [
             0.4444444444444444,
             "#bd3786"
            ],
            [
             0.5555555555555556,
             "#d8576b"
            ],
            [
             0.6666666666666666,
             "#ed7953"
            ],
            [
             0.7777777777777778,
             "#fb9f3a"
            ],
            [
             0.8888888888888888,
             "#fdca26"
            ],
            [
             1,
             "#f0f921"
            ]
           ]
          },
          "colorway": [
           "#636efa",
           "#EF553B",
           "#00cc96",
           "#ab63fa",
           "#FFA15A",
           "#19d3f3",
           "#FF6692",
           "#B6E880",
           "#FF97FF",
           "#FECB52"
          ],
          "font": {
           "color": "#2a3f5f"
          },
          "geo": {
           "bgcolor": "white",
           "lakecolor": "white",
           "landcolor": "#E5ECF6",
           "showlakes": true,
           "showland": true,
           "subunitcolor": "white"
          },
          "hoverlabel": {
           "align": "left"
          },
          "hovermode": "closest",
          "mapbox": {
           "style": "light"
          },
          "paper_bgcolor": "white",
          "plot_bgcolor": "#E5ECF6",
          "polar": {
           "angularaxis": {
            "gridcolor": "white",
            "linecolor": "white",
            "ticks": ""
           },
           "bgcolor": "#E5ECF6",
           "radialaxis": {
            "gridcolor": "white",
            "linecolor": "white",
            "ticks": ""
           }
          },
          "scene": {
           "xaxis": {
            "backgroundcolor": "#E5ECF6",
            "gridcolor": "white",
            "gridwidth": 2,
            "linecolor": "white",
            "showbackground": true,
            "ticks": "",
            "zerolinecolor": "white"
           },
           "yaxis": {
            "backgroundcolor": "#E5ECF6",
            "gridcolor": "white",
            "gridwidth": 2,
            "linecolor": "white",
            "showbackground": true,
            "ticks": "",
            "zerolinecolor": "white"
           },
           "zaxis": {
            "backgroundcolor": "#E5ECF6",
            "gridcolor": "white",
            "gridwidth": 2,
            "linecolor": "white",
            "showbackground": true,
            "ticks": "",
            "zerolinecolor": "white"
           }
          },
          "shapedefaults": {
           "line": {
            "color": "#2a3f5f"
           }
          },
          "ternary": {
           "aaxis": {
            "gridcolor": "white",
            "linecolor": "white",
            "ticks": ""
           },
           "baxis": {
            "gridcolor": "white",
            "linecolor": "white",
            "ticks": ""
           },
           "bgcolor": "#E5ECF6",
           "caxis": {
            "gridcolor": "white",
            "linecolor": "white",
            "ticks": ""
           }
          },
          "title": {
           "x": 0.05
          },
          "xaxis": {
           "automargin": true,
           "gridcolor": "white",
           "linecolor": "white",
           "ticks": "",
           "title": {
            "standoff": 15
           },
           "zerolinecolor": "white",
           "zerolinewidth": 2
          },
          "yaxis": {
           "automargin": true,
           "gridcolor": "white",
           "linecolor": "white",
           "ticks": "",
           "title": {
            "standoff": 15
           },
           "zerolinecolor": "white",
           "zerolinewidth": 2
          }
         }
        },
        "title": {
         "text": "18〜27歳人口（トップの数は和）"
        },
        "width": 920,
        "xaxis": {
         "anchor": "y",
         "domain": [
          0,
          1
         ],
         "range": [
          0,
          200000
         ],
         "title": {
          "text": "人口"
         },
         "type": "linear"
        },
        "yaxis": {
         "anchor": "x",
         "autorange": true,
         "categoryarray": [
          "江戸川区",
          "葛飾区",
          "足立区",
          "練馬区",
          "板橋区",
          "荒川区",
          "北区",
          "豊島区",
          "杉並区",
          "中野区",
          "渋谷区",
          "世田谷区",
          "大田区",
          "目黒区",
          "品川区",
          "江東区",
          "墨田区",
          "台東区",
          "文京区",
          "新宿区",
          "港区",
          "中央区",
          "千代田区"
         ],
         "categoryorder": "array",
         "domain": [
          0,
          1
         ],
         "range": [
          -0.5,
          22.5
         ],
         "title": {
          "text": "地域"
         },
         "type": "category"
        }
       }
      },
      "image/png": "[encoded data removed]",
      "text/html": [
       "<div>                            <div id=\"edf4d94f-92f0-4b78-ac80-3568fde86920\" class=\"plotly-graph-div\" style=\"height:800px; width:920px;\"></div>            <script type=\"text/javascript\">                require([\"plotly\"], function(Plotly) {                    window.PLOTLYENV=window.PLOTLYENV || {};                                    if (document.getElementById(\"edf4d94f-92f0-4b78-ac80-3568fde86920\")) {                    Plotly.newPlot(                        \"edf4d94f-92f0-4b78-ac80-3568fde86920\",                        [{\"alignmentgroup\":\"True\",\"hovertemplate\":\"\\u5e74\\u9f62=27\\u6b73<br>\\u4eba\\u53e3=%{x}<br>\\u5730\\u57df=%{y}<extra></extra>\",\"legendgroup\":\"27\\u6b73\",\"marker\":{\"color\":\"rgb(54, 14, 36)\",\"pattern\":{\"shape\":\"\"}},\"name\":\"27\\u6b73\",\"offsetgroup\":\"27\\u6b73\",\"orientation\":\"h\",\"showlegend\":true,\"textposition\":\"outside\",\"x\":[612,1769,3122,2343,1858,1180,2261,6350,4320,2211,5978,8287,2117,2291,4376,2086,2397,2021,4422,5814,5937,3550,5848],\"xaxis\":\"x\",\"y\":[\"\\u5343\\u4ee3\\u7530\\u533a\",\"\\u4e2d\\u592e\\u533a\",\"\\u6e2f\\u533a\",\"\\u65b0\\u5bbf\\u533a\",\"\\u6587\\u4eac\\u533a\",\"\\u53f0\\u6771\\u533a\",\"\\u58a8\\u7530\\u533a\",\"\\u6c5f\\u6771\\u533a\",\"\\u54c1\\u5ddd\\u533a\",\"\\u76ee\\u9ed2\\u533a\",\"\\u5927\\u7530\\u533a\",\"\\u4e16\\u7530\\u8c37\\u533a\",\"\\u6e0b\\u8c37\\u533a\",\"\\u4e2d\\u91ce\\u533a\",\"\\u6749\\u4e26\\u533a\",\"\\u8c4a\\u5cf6\\u533a\",\"\\u5317\\u533a\",\"\\u8352\\u5ddd\\u533a\",\"\\u677f\\u6a4b\\u533a\",\"\\u7df4\\u99ac\\u533a\",\"\\u8db3\\u7acb\\u533a\",\"\\u845b\\u98fe\\u533a\",\"\\u6c5f\\u6238\\u5ddd\\u533a\"],\"yaxis\":\"y\",\"type\":\"bar\"},{\"alignmentgroup\":\"True\",\"hovertemplate\":\"\\u5e74\\u9f62=26\\u6b73<br>\\u4eba\\u53e3=%{x}<br>\\u5730\\u57df=%{y}<extra></extra>\",\"legendgroup\":\"26\\u6b73\",\"marker\":{\"color\":\"rgb(80, 20, 66)\",\"pattern\":{\"shape\":\"\"}},\"name\":\"26\\u6b73\",\"offsetgroup\":\"26\\u6b73\",\"orientation\":\"h\",\"showlegend\":true,\"textposition\":\"outside\",\"x\":[549,2154,3611,2598,2141,1442,2311,5755,3896,2582,5815,8855,2186,2201,5029,2122,2556,2282,4247,6178,5466,4114,6142],\"xaxis\":\"x\",\"y\":[\"\\u5343\\u4ee3\\u7530\\u533a\",\"\\u4e2d\\u592e\\u533a\",\"\\u6e2f\\u533a\",\"\\u65b0\\u5bbf\\u533a\",\"\\u6587\\u4eac\\u533a\",\"\\u53f0\\u6771\\u533a\",\"\\u58a8\\u7530\\u533a\",\"\\u6c5f\\u6771\\u533a\",\"\\u54c1\\u5ddd\\u533a\",\"\\u76ee\\u9ed2\\u533a\",\"\\u5927\\u7530\\u533a\",\"\\u4e16\\u7530\\u8c37\\u533a\",\"\\u6e0b\\u8c37\\u533a\",\"\\u4e2d\\u91ce\\u533a\",\"\\u6749\\u4e26\\u533a\",\"\\u8c4a\\u5cf6\\u533a\",\"\\u5317\\u533a\",\"\\u8352\\u5ddd\\u533a\",\"\\u677f\\u6a4b\\u533a\",\"\\u7df4\\u99ac\\u533a\",\"\\u8db3\\u7acb\\u533a\",\"\\u845b\\u98fe\\u533a\",\"\\u6c5f\\u6238\\u5ddd\\u533a\"],\"yaxis\":\"y\",\"type\":\"bar\"},{\"alignmentgroup\":\"True\",\"hovertemplate\":\"\\u5e74\\u9f62=25\\u6b73<br>\\u4eba\\u53e3=%{x}<br>\\u5730\\u57df=%{y}<extra></extra>\",\"legendgroup\":\"25\\u6b73\",\"marker\":{\"color\":\"rgb(100, 31, 104)\",\"pattern\":{\"shape\":\"\"}},\"name\":\"25\\u6b73\",\"offsetgroup\":\"25\\u6b73\",\"orientation\":\"h\",\"showlegend\":true,\"textposition\":\"outside\",\"x\":[525,2016,3038,2236,2320,1388,1918,5518,3960,2417,5522,8384,2044,2202,4603,2349,2262,2142,4424,5860,5023,3205,4606],\"xaxis\":\"x\",\"y\":[\"\\u5343\\u4ee3\\u7530\\u533a\",\"\\u4e2d\\u592e\\u533a\",\"\\u6e2f\\u533a\",\"\\u65b0\\u5bbf\\u533a\",\"\\u6587\\u4eac\\u533a\",\"\\u53f0\\u6771\\u533a\",\"\\u58a8\\u7530\\u533a\",\"\\u6c5f\\u6771\\u533a\",\"\\u54c1\\u5ddd\\u533a\",\"\\u76ee\\u9ed2\\u533a\",\"\\u5927\\u7530\\u533a\",\"\\u4e16\\u7530\\u8c37\\u533a\",\"\\u6e0b\\u8c37\\u533a\",\"\\u4e2d\\u91ce\\u533a\",\"\\u6749\\u4e26\\u533a\",\"\\u8c4a\\u5cf6\\u533a\",\"\\u5317\\u533a\",\"\\u8352\\u5ddd\\u533a\",\"\\u677f\\u6a4b\\u533a\",\"\\u7df4\\u99ac\\u533a\",\"\\u8db3\\u7acb\\u533a\",\"\\u845b\\u98fe\\u533a\",\"\\u6c5f\\u6238\\u5ddd\\u533a\"],\"yaxis\":\"y\",\"type\":\"bar\"},{\"alignmentgroup\":\"True\",\"hovertemplate\":\"\\u5e74\\u9f62=24\\u6b73<br>\\u4eba\\u53e3=%{x}<br>\\u5730\\u57df=%{y}<extra></extra>\",\"legendgroup\":\"24\\u6b73\",\"marker\":{\"color\":\"rgb(113, 50, 141)\",\"pattern\":{\"shape\":\"\"}},\"name\":\"24\\u6b73\",\"offsetgroup\":\"24\\u6b73\",\"orientation\":\"h\",\"showlegend\":true,\"textposition\":\"outside\",\"x\":[872,2534,5881,5413,2622,2590,2997,8006,5259,3279,7088,9974,3343,3095,5248,3065,4006,3255,5958,6482,7793,4372,7164],\"xaxis\":\"x\",\"y\":[\"\\u5343\\u4ee3\\u7530\\u533a\",\"\\u4e2d\\u592e\\u533a\",\"\\u6e2f\\u533a\",\"\\u65b0\\u5bbf\\u533a\",\"\\u6587\\u4eac\\u533a\",\"\\u53f0\\u6771\\u533a\",\"\\u58a8\\u7530\\u533a\",\"\\u6c5f\\u6771\\u533a\",\"\\u54c1\\u5ddd\\u533a\",\"\\u76ee\\u9ed2\\u533a\",\"\\u5927\\u7530\\u533a\",\"\\u4e16\\u7530\\u8c37\\u533a\",\"\\u6e0b\\u8c37\\u533a\",\"\\u4e2d\\u91ce\\u533a\",\"\\u6749\\u4e26\\u533a\",\"\\u8c4a\\u5cf6\\u533a\",\"\\u5317\\u533a\",\"\\u8352\\u5ddd\\u533a\",\"\\u677f\\u6a4b\\u533a\",\"\\u7df4\\u99ac\\u533a\",\"\\u8db3\\u7acb\\u533a\",\"\\u845b\\u98fe\\u533a\",\"\\u6c5f\\u6238\\u5ddd\\u533a\"],\"yaxis\":\"y\",\"type\":\"bar\"},{\"alignmentgroup\":\"True\",\"hovertemplate\":\"\\u5e74\\u9f62=23\\u6b73<br>\\u4eba\\u53e3=%{x}<br>\\u5730\\u57df=%{y}<extra></extra>\",\"legendgroup\":\"23\\u6b73\",\"marker\":{\"color\":\"rgb(119, 74, 175)\",\"pattern\":{\"shape\":\"\"}},\"name\":\"23\\u6b73\",\"offsetgroup\":\"23\\u6b73\",\"orientation\":\"h\",\"showlegend\":true,\"textposition\":\"outside\",\"x\":[781,2500,3578,2718,2724,1655,2273,6294,4327,2836,6197,9298,2454,2805,5367,2595,3246,2131,4878,5849,5175,3588,4922],\"xaxis\":\"x\",\"y\":[\"\\u5343\\u4ee3\\u7530\\u533a\",\"\\u4e2d\\u592e\\u533a\",\"\\u6e2f\\u533a\",\"\\u65b0\\u5bbf\\u533a\",\"\\u6587\\u4eac\\u533a\",\"\\u53f0\\u6771\\u533a\",\"\\u58a8\\u7530\\u533a\",\"\\u6c5f\\u6771\\u533a\",\"\\u54c1\\u5ddd\\u533a\",\"\\u76ee\\u9ed2\\u533a\",\"\\u5927\\u7530\\u533a\",\"\\u4e16\\u7530\\u8c37\\u533a\",\"\\u6e0b\\u8c37\\u533a\",\"\\u4e2d\\u91ce\\u533a\",\"\\u6749\\u4e26\\u533a\",\"\\u8c4a\\u5cf6\\u533a\",\"\\u5317\\u533a\",\"\\u8352\\u5ddd\\u533a\",\"\\u677f\\u6a4b\\u533a\",\"\\u7df4\\u99ac\\u533a\",\"\\u8db3\\u7acb\\u533a\",\"\\u845b\\u98fe\\u533a\",\"\\u6c5f\\u6238\\u5ddd\\u533a\"],\"yaxis\":\"y\",\"type\":\"bar\"},{\"alignmentgroup\":\"True\",\"hovertemplate\":\"\\u5e74\\u9f62=22\\u6b73<br>\\u4eba\\u53e3=%{x}<br>\\u5730\\u57df=%{y}<extra></extra>\",\"legendgroup\":\"22\\u6b73\",\"marker\":{\"color\":\"rgb(120, 100, 202)\",\"pattern\":{\"shape\":\"\"}},\"name\":\"22\\u6b73\",\"offsetgroup\":\"22\\u6b73\",\"orientation\":\"h\",\"showlegend\":true,\"textposition\":\"outside\",\"x\":[1206,2997,4448,2879,2662,1879,2657,6350,4411,3309,6559,9896,2691,3067,5631,2697,3651,2249,4875,6095,5458,3801,5319],\"xaxis\":\"x\",\"y\":[\"\\u5343\\u4ee3\\u7530\\u533a\",\"\\u4e2d\\u592e\\u533a\",\"\\u6e2f\\u533a\",\"\\u65b0\\u5bbf\\u533a\",\"\\u6587\\u4eac\\u533a\",\"\\u53f0\\u6771\\u533a\",\"\\u58a8\\u7530\\u533a\",\"\\u6c5f\\u6771\\u533a\",\"\\u54c1\\u5ddd\\u533a\",\"\\u76ee\\u9ed2\\u533a\",\"\\u5927\\u7530\\u533a\",\"\\u4e16\\u7530\\u8c37\\u533a\",\"\\u6e0b\\u8c37\\u533a\",\"\\u4e2d\\u91ce\\u533a\",\"\\u6749\\u4e26\\u533a\",\"\\u8c4a\\u5cf6\\u533a\",\"\\u5317\\u533a\",\"\\u8352\\u5ddd\\u533a\",\"\\u677f\\u6a4b\\u533a\",\"\\u7df4\\u99ac\\u533a\",\"\\u8db3\\u7acb\\u533a\",\"\\u845b\\u98fe\\u533a\",\"\\u6c5f\\u6238\\u5ddd\\u533a\"],\"yaxis\":\"y\",\"type\":\"bar\"},{\"alignmentgroup\":\"True\",\"hovertemplate\":\"\\u5e74\\u9f62=21\\u6b73<br>\\u4eba\\u53e3=%{x}<br>\\u5730\\u57df=%{y}<extra></extra>\",\"legendgroup\":\"21\\u6b73\",\"marker\":{\"color\":\"rgb(117, 127, 221)\",\"pattern\":{\"shape\":\"\"}},\"name\":\"21\\u6b73\",\"offsetgroup\":\"21\\u6b73\",\"orientation\":\"h\",\"showlegend\":true,\"textposition\":\"outside\",\"x\":[898,3067,4415,3263,2878,1731,3096,6727,5199,3087,6464,9977,3029,3451,6124,2627,3266,2144,5226,6127,5519,3735,5490],\"xaxis\":\"x\",\"y\":[\"\\u5343\\u4ee3\\u7530\\u533a\",\"\\u4e2d\\u592e\\u533a\",\"\\u6e2f\\u533a\",\"\\u65b0\\u5bbf\\u533a\",\"\\u6587\\u4eac\\u533a\",\"\\u53f0\\u6771\\u533a\",\"\\u58a8\\u7530\\u533a\",\"\\u6c5f\\u6771\\u533a\",\"\\u54c1\\u5ddd\\u533a\",\"\\u76ee\\u9ed2\\u533a\",\"\\u5927\\u7530\\u533a\",\"\\u4e16\\u7530\\u8c37\\u533a\",\"\\u6e0b\\u8c37\\u533a\",\"\\u4e2d\\u91ce\\u533a\",\"\\u6749\\u4e26\\u533a\",\"\\u8c4a\\u5cf6\\u533a\",\"\\u5317\\u533a\",\"\\u8352\\u5ddd\\u533a\",\"\\u677f\\u6a4b\\u533a\",\"\\u7df4\\u99ac\\u533a\",\"\\u8db3\\u7acb\\u533a\",\"\\u845b\\u98fe\\u533a\",\"\\u6c5f\\u6238\\u5ddd\\u533a\"],\"yaxis\":\"y\",\"type\":\"bar\"},{\"alignmentgroup\":\"True\",\"hovertemplate\":\"\\u5e74\\u9f62=20\\u6b73<br>\\u4eba\\u53e3=%{x}<br>\\u5730\\u57df=%{y}<extra></extra>\",\"legendgroup\":\"20\\u6b73\",\"marker\":{\"color\":\"rgb(115, 154, 228)\",\"pattern\":{\"shape\":\"\"}},\"name\":\"20\\u6b73\",\"offsetgroup\":\"20\\u6b73\",\"orientation\":\"h\",\"showlegend\":true,\"textposition\":\"outside\",\"x\":[931,3533,4914,3347,3124,1814,2786,5997,4971,3141,6243,9883,2846,3222,5862,2785,3719,2221,5516,6002,4617,4041,5241],\"xaxis\":\"x\",\"y\":[\"\\u5343\\u4ee3\\u7530\\u533a\",\"\\u4e2d\\u592e\\u533a\",\"\\u6e2f\\u533a\",\"\\u65b0\\u5bbf\\u533a\",\"\\u6587\\u4eac\\u533a\",\"\\u53f0\\u6771\\u533a\",\"\\u58a8\\u7530\\u533a\",\"\\u6c5f\\u6771\\u533a\",\"\\u54c1\\u5ddd\\u533a\",\"\\u76ee\\u9ed2\\u533a\",\"\\u5927\\u7530\\u533a\",\"\\u4e16\\u7530\\u8c37\\u533a\",\"\\u6e0b\\u8c37\\u533a\",\"\\u4e2d\\u91ce\\u533a\",\"\\u6749\\u4e26\\u533a\",\"\\u8c4a\\u5cf6\\u533a\",\"\\u5317\\u533a\",\"\\u8352\\u5ddd\\u533a\",\"\\u677f\\u6a4b\\u533a\",\"\\u7df4\\u99ac\\u533a\",\"\\u8db3\\u7acb\\u533a\",\"\\u845b\\u98fe\\u533a\",\"\\u6c5f\\u6238\\u5ddd\\u533a\"],\"yaxis\":\"y\",\"type\":\"bar\"},{\"alignmentgroup\":\"True\",\"hovertemplate\":\"\\u5e74\\u9f62=19\\u6b73<br>\\u4eba\\u53e3=%{x}<br>\\u5730\\u57df=%{y}<extra></extra>\",\"legendgroup\":\"19\\u6b73\",\"marker\":{\"color\":\"rgb(129, 180, 227)\",\"pattern\":{\"shape\":\"\"}},\"name\":\"19\\u6b73\",\"offsetgroup\":\"19\\u6b73\",\"orientation\":\"h\",\"showlegend\":true,\"textposition\":\"outside\",\"x\":[1089,3397,4516,3722,2801,1842,2952,5790,4957,3528,6178,8824,2816,3072,5393,2621,3388,1959,4589,6003,4422,3666,5191],\"xaxis\":\"x\",\"y\":[\"\\u5343\\u4ee3\\u7530\\u533a\",\"\\u4e2d\\u592e\\u533a\",\"\\u6e2f\\u533a\",\"\\u65b0\\u5bbf\\u533a\",\"\\u6587\\u4eac\\u533a\",\"\\u53f0\\u6771\\u533a\",\"\\u58a8\\u7530\\u533a\",\"\\u6c5f\\u6771\\u533a\",\"\\u54c1\\u5ddd\\u533a\",\"\\u76ee\\u9ed2\\u533a\",\"\\u5927\\u7530\\u533a\",\"\\u4e16\\u7530\\u8c37\\u533a\",\"\\u6e0b\\u8c37\\u533a\",\"\\u4e2d\\u91ce\\u533a\",\"\\u6749\\u4e26\\u533a\",\"\\u8c4a\\u5cf6\\u533a\",\"\\u5317\\u533a\",\"\\u8352\\u5ddd\\u533a\",\"\\u677f\\u6a4b\\u533a\",\"\\u7df4\\u99ac\\u533a\",\"\\u8db3\\u7acb\\u533a\",\"\\u845b\\u98fe\\u533a\",\"\\u6c5f\\u6238\\u5ddd\\u533a\"],\"yaxis\":\"y\",\"type\":\"bar\"},{\"alignmentgroup\":\"True\",\"hovertemplate\":\"\\u5e74\\u9f62=18\\u6b73<br>\\u4eba\\u53e3=%{x}<br>\\u5730\\u57df=%{y}<extra></extra>\",\"legendgroup\":\"18\\u6b73\",\"marker\":{\"color\":\"rgb(156, 201, 226)\",\"pattern\":{\"shape\":\"\"}},\"name\":\"18\\u6b73\",\"offsetgroup\":\"18\\u6b73\",\"orientation\":\"h\",\"showlegend\":true,\"textposition\":\"outside\",\"x\":[1028,3340,4281,3359,3064,1890,2720,5324,5071,3045,6214,8808,2665,2994,5739,2710,3736,1671,4779,5674,4322,3409,5151],\"xaxis\":\"x\",\"y\":[\"\\u5343\\u4ee3\\u7530\\u533a\",\"\\u4e2d\\u592e\\u533a\",\"\\u6e2f\\u533a\",\"\\u65b0\\u5bbf\\u533a\",\"\\u6587\\u4eac\\u533a\",\"\\u53f0\\u6771\\u533a\",\"\\u58a8\\u7530\\u533a\",\"\\u6c5f\\u6771\\u533a\",\"\\u54c1\\u5ddd\\u533a\",\"\\u76ee\\u9ed2\\u533a\",\"\\u5927\\u7530\\u533a\",\"\\u4e16\\u7530\\u8c37\\u533a\",\"\\u6e0b\\u8c37\\u533a\",\"\\u4e2d\\u91ce\\u533a\",\"\\u6749\\u4e26\\u533a\",\"\\u8c4a\\u5cf6\\u533a\",\"\\u5317\\u533a\",\"\\u8352\\u5ddd\\u533a\",\"\\u677f\\u6a4b\\u533a\",\"\\u7df4\\u99ac\\u533a\",\"\\u8db3\\u7acb\\u533a\",\"\\u845b\\u98fe\\u533a\",\"\\u6c5f\\u6238\\u5ddd\\u533a\"],\"yaxis\":\"y\",\"type\":\"bar\",\"text\":[\"8,491\",\"27,307\",\"41,804\",\"31,878\",\"26,194\",\"17,411\",\"25,971\",\"62,111\",\"46,371\",\"29,435\",\"62,258\",\"92,186\",\"26,191\",\"28,400\",\"53,372\",\"25,657\",\"32,227\",\"22,075\",\"48,914\",\"60,084\",\"53,732\",\"37,481\",\"55,074\"]}],                        {\"template\":{\"data\":{\"histogram2dcontour\":[{\"type\":\"histogram2dcontour\",\"colorbar\":{\"outlinewidth\":0,\"ticks\":\"\"},\"colorscale\":[[0.0,\"#0d0887\"],[0.1111111111111111,\"#46039f\"],[0.2222222222222222,\"#7201a8\"],[0.3333333333333333,\"#9c179e\"],[0.4444444444444444,\"#bd3786\"],[0.5555555555555556,\"#d8576b\"],[0.6666666666666666,\"#ed7953\"],[0.7777777777777778,\"#fb9f3a\"],[0.8888888888888888,\"#fdca26\"],[1.0,\"#f0f921\"]]}],\"choropleth\":[{\"type\":\"choropleth\",\"colorbar\":{\"outlinewidth\":0,\"ticks\":\"\"}}],\"histogram2d\":[{\"type\":\"histogram2d\",\"colorbar\":{\"outlinewidth\":0,\"ticks\":\"\"},\"colorscale\":[[0.0,\"#0d0887\"],[0.1111111111111111,\"#46039f\"],[0.2222222222222222,\"#7201a8\"],[0.3333333333333333,\"#9c179e\"],[0.4444444444444444,\"#bd3786\"],[0.5555555555555556,\"#d8576b\"],[0.6666666666666666,\"#ed7953\"],[0.7777777777777778,\"#fb9f3a\"],[0.8888888888888888,\"#fdca26\"],[1.0,\"#f0f921\"]]}],\"heatmap\":[{\"type\":\"heatmap\",\"colorbar\":{\"outlinewidth\":0,\"ticks\":\"\"},\"colorscale\":[[0.0,\"#0d0887\"],[0.1111111111111111,\"#46039f\"],[0.2222222222222222,\"#7201a8\"],[0.3333333333333333,\"#9c179e\"],[0.4444444444444444,\"#bd3786\"],[0.5555555555555556,\"#d8576b\"],[0.6666666666666666,\"#ed7953\"],[0.7777777777777778,\"#fb9f3a\"],[0.8888888888888888,\"#fdca26\"],[1.0,\"#f0f921\"]]}],\"heatmapgl\":[{\"type\":\"heatmapgl\",\"colorbar\":{\"outlinewidth\":0,\"ticks\":\"\"},\"colorscale\":[[0.0,\"#0d0887\"],[0.1111111111111111,\"#46039f\"],[0.2222222222222222,\"#7201a8\"],[0.3333333333333333,\"#9c179e\"],[0.4444444444444444,\"#bd3786\"],[0.5555555555555556,\"#d8576b\"],[0.6666666666666666,\"#ed7953\"],[0.7777777777777778,\"#fb9f3a\"],[0.8888888888888888,\"#fdca26\"],[1.0,\"#f0f921\"]]}],\"contourcarpet\":[{\"type\":\"contourcarpet\",\"colorbar\":{\"outlinewidth\":0,\"ticks\":\"\"}}],\"contour\":[{\"type\":\"contour\",\"colorbar\":{\"outlinewidth\":0,\"ticks\":\"\"},\"colorscale\":[[0.0,\"#0d0887\"],[0.1111111111111111,\"#46039f\"],[0.2222222222222222,\"#7201a8\"],[0.3333333333333333,\"#9c179e\"],[0.4444444444444444,\"#bd3786\"],[0.5555555555555556,\"#d8576b\"],[0.6666666666666666,\"#ed7953\"],[0.7777777777777778,\"#fb9f3a\"],[0.8888888888888888,\"#fdca26\"],[1.0,\"#f0f921\"]]}],\"surface\":[{\"type\":\"surface\",\"colorbar\":{\"outlinewidth\":0,\"ticks\":\"\"},\"colorscale\":[[0.0,\"#0d0887\"],[0.1111111111111111,\"#46039f\"],[0.2222222222222222,\"#7201a8\"],[0.3333333333333333,\"#9c179e\"],[0.4444444444444444,\"#bd3786\"],[0.5555555555555556,\"#d8576b\"],[0.6666666666666666,\"#ed7953\"],[0.7777777777777778,\"#fb9f3a\"],[0.8888888888888888,\"#fdca26\"],[1.0,\"#f0f921\"]]}],\"mesh3d\":[{\"type\":\"mesh3d\",\"colorbar\":{\"outlinewidth\":0,\"ticks\":\"\"}}],\"scatter\":[{\"fillpattern\":{\"fillmode\":\"overlay\",\"size\":10,\"solidity\":0.2},\"type\":\"scatter\"}],\"parcoords\":[{\"type\":\"parcoords\",\"line\":{\"colorbar\":{\"outlinewidth\":0,\"ticks\":\"\"}}}],\"scatterpolargl\":[{\"type\":\"scatterpolargl\",\"marker\":{\"colorbar\":{\"outlinewidth\":0,\"ticks\":\"\"}}}],\"bar\":[{\"error_x\":{\"color\":\"#2a3f5f\"},\"error_y\":{\"color\":\"#2a3f5f\"},\"marker\":{\"line\":{\"color\":\"#E5ECF6\",\"width\":0.5},\"pattern\":{\"fillmode\":\"overlay\",\"size\":10,\"solidity\":0.2}},\"type\":\"bar\"}],\"scattergeo\":[{\"type\":\"scattergeo\",\"marker\":{\"colorbar\":{\"outlinewidth\":0,\"ticks\":\"\"}}}],\"scatterpolar\":[{\"type\":\"scatterpolar\",\"marker\":{\"colorbar\":{\"outlinewidth\":0,\"ticks\":\"\"}}}],\"histogram\":[{\"marker\":{\"pattern\":{\"fillmode\":\"overlay\",\"size\":10,\"solidity\":0.2}},\"type\":\"histogram\"}],\"scattergl\":[{\"type\":\"scattergl\",\"marker\":{\"colorbar\":{\"outlinewidth\":0,\"ticks\":\"\"}}}],\"scatter3d\":[{\"type\":\"scatter3d\",\"line\":{\"colorbar\":{\"outlinewidth\":0,\"ticks\":\"\"}},\"marker\":{\"colorbar\":{\"outlinewidth\":0,\"ticks\":\"\"}}}],\"scattermapbox\":[{\"type\":\"scattermapbox\",\"marker\":{\"colorbar\":{\"outlinewidth\":0,\"ticks\":\"\"}}}],\"scatterternary\":[{\"type\":\"scatterternary\",\"marker\":{\"colorbar\":{\"outlinewidth\":0,\"ticks\":\"\"}}}],\"scattercarpet\":[{\"type\":\"scattercarpet\",\"marker\":{\"colorbar\":{\"outlinewidth\":0,\"ticks\":\"\"}}}],\"carpet\":[{\"aaxis\":{\"endlinecolor\":\"#2a3f5f\",\"gridcolor\":\"white\",\"linecolor\":\"white\",\"minorgridcolor\":\"white\",\"startlinecolor\":\"#2a3f5f\"},\"baxis\":{\"endlinecolor\":\"#2a3f5f\",\"gridcolor\":\"white\",\"linecolor\":\"white\",\"minorgridcolor\":\"white\",\"startlinecolor\":\"#2a3f5f\"},\"type\":\"carpet\"}],\"table\":[{\"cells\":{\"fill\":{\"color\":\"#EBF0F8\"},\"line\":{\"color\":\"white\"}},\"header\":{\"fill\":{\"color\":\"#C8D4E3\"},\"line\":{\"color\":\"white\"}},\"type\":\"table\"}],\"barpolar\":[{\"marker\":{\"line\":{\"color\":\"#E5ECF6\",\"width\":0.5},\"pattern\":{\"fillmode\":\"overlay\",\"size\":10,\"solidity\":0.2}},\"type\":\"barpolar\"}],\"pie\":[{\"automargin\":true,\"type\":\"pie\"}]},\"layout\":{\"autotypenumbers\":\"strict\",\"colorway\":[\"#636efa\",\"#EF553B\",\"#00cc96\",\"#ab63fa\",\"#FFA15A\",\"#19d3f3\",\"#FF6692\",\"#B6E880\",\"#FF97FF\",\"#FECB52\"],\"font\":{\"color\":\"#2a3f5f\"},\"hovermode\":\"closest\",\"hoverlabel\":{\"align\":\"left\"},\"paper_bgcolor\":\"white\",\"plot_bgcolor\":\"#E5ECF6\",\"polar\":{\"bgcolor\":\"#E5ECF6\",\"angularaxis\":{\"gridcolor\":\"white\",\"linecolor\":\"white\",\"ticks\":\"\"},\"radialaxis\":{\"gridcolor\":\"white\",\"linecolor\":\"white\",\"ticks\":\"\"}},\"ternary\":{\"bgcolor\":\"#E5ECF6\",\"aaxis\":{\"gridcolor\":\"white\",\"linecolor\":\"white\",\"ticks\":\"\"},\"baxis\":{\"gridcolor\":\"white\",\"linecolor\":\"white\",\"ticks\":\"\"},\"caxis\":{\"gridcolor\":\"white\",\"linecolor\":\"white\",\"ticks\":\"\"}},\"coloraxis\":{\"colorbar\":{\"outlinewidth\":0,\"ticks\":\"\"}},\"colorscale\":{\"sequential\":[[0.0,\"#0d0887\"],[0.1111111111111111,\"#46039f\"],[0.2222222222222222,\"#7201a8\"],[0.3333333333333333,\"#9c179e\"],[0.4444444444444444,\"#bd3786\"],[0.5555555555555556,\"#d8576b\"],[0.6666666666666666,\"#ed7953\"],[0.7777777777777778,\"#fb9f3a\"],[0.8888888888888888,\"#fdca26\"],[1.0,\"#f0f921\"]],\"sequentialminus\":[[0.0,\"#0d0887\"],[0.1111111111111111,\"#46039f\"],[0.2222222222222222,\"#7201a8\"],[0.3333333333333333,\"#9c179e\"],[0.4444444444444444,\"#bd3786\"],[0.5555555555555556,\"#d8576b\"],[0.6666666666666666,\"#ed7953\"],[0.7777777777777778,\"#fb9f3a\"],[0.8888888888888888,\"#fdca26\"],[1.0,\"#f0f921\"]],\"diverging\":[[0,\"#8e0152\"],[0.1,\"#c51b7d\"],[0.2,\"#de77ae\"],[0.3,\"#f1b6da\"],[0.4,\"#fde0ef\"],[0.5,\"#f7f7f7\"],[0.6,\"#e6f5d0\"],[0.7,\"#b8e186\"],[0.8,\"#7fbc41\"],[0.9,\"#4d9221\"],[1,\"#276419\"]]},\"xaxis\":{\"gridcolor\":\"white\",\"linecolor\":\"white\",\"ticks\":\"\",\"title\":{\"standoff\":15},\"zerolinecolor\":\"white\",\"automargin\":true,\"zerolinewidth\":2},\"yaxis\":{\"gridcolor\":\"white\",\"linecolor\":\"white\",\"ticks\":\"\",\"title\":{\"standoff\":15},\"zerolinecolor\":\"white\",\"automargin\":true,\"zerolinewidth\":2},\"scene\":{\"xaxis\":{\"backgroundcolor\":\"#E5ECF6\",\"gridcolor\":\"white\",\"linecolor\":\"white\",\"showbackground\":true,\"ticks\":\"\",\"zerolinecolor\":\"white\",\"gridwidth\":2},\"yaxis\":{\"backgroundcolor\":\"#E5ECF6\",\"gridcolor\":\"white\",\"linecolor\":\"white\",\"showbackground\":true,\"ticks\":\"\",\"zerolinecolor\":\"white\",\"gridwidth\":2},\"zaxis\":{\"backgroundcolor\":\"#E5ECF6\",\"gridcolor\":\"white\",\"linecolor\":\"white\",\"showbackground\":true,\"ticks\":\"\",\"zerolinecolor\":\"white\",\"gridwidth\":2}},\"shapedefaults\":{\"line\":{\"color\":\"#2a3f5f\"}},\"annotationdefaults\":{\"arrowcolor\":\"#2a3f5f\",\"arrowhead\":0,\"arrowwidth\":1},\"geo\":{\"bgcolor\":\"white\",\"landcolor\":\"#E5ECF6\",\"subunitcolor\":\"white\",\"showland\":true,\"showlakes\":true,\"lakecolor\":\"white\"},\"title\":{\"x\":0.05},\"mapbox\":{\"style\":\"light\"}}},\"xaxis\":{\"anchor\":\"y\",\"domain\":[0.0,1.0],\"title\":{\"text\":\"\\u4eba\\u53e3\"},\"range\":[0,200000]},\"yaxis\":{\"anchor\":\"x\",\"domain\":[0.0,1.0],\"title\":{\"text\":\"\\u5730\\u57df\"},\"categoryorder\":\"array\",\"categoryarray\":[\"\\u6c5f\\u6238\\u5ddd\\u533a\",\"\\u845b\\u98fe\\u533a\",\"\\u8db3\\u7acb\\u533a\",\"\\u7df4\\u99ac\\u533a\",\"\\u677f\\u6a4b\\u533a\",\"\\u8352\\u5ddd\\u533a\",\"\\u5317\\u533a\",\"\\u8c4a\\u5cf6\\u533a\",\"\\u6749\\u4e26\\u533a\",\"\\u4e2d\\u91ce\\u533a\",\"\\u6e0b\\u8c37\\u533a\",\"\\u4e16\\u7530\\u8c37\\u533a\",\"\\u5927\\u7530\\u533a\",\"\\u76ee\\u9ed2\\u533a\",\"\\u54c1\\u5ddd\\u533a\",\"\\u6c5f\\u6771\\u533a\",\"\\u58a8\\u7530\\u533a\",\"\\u53f0\\u6771\\u533a\",\"\\u6587\\u4eac\\u533a\",\"\\u65b0\\u5bbf\\u533a\",\"\\u6e2f\\u533a\",\"\\u4e2d\\u592e\\u533a\",\"\\u5343\\u4ee3\\u7530\\u533a\"]},\"legend\":{\"title\":{\"text\":\"\\u5e74\\u9f62\"},\"tracegroupgap\":0},\"title\":{\"text\":\"18\\u301c27\\u6b73\\u4eba\\u53e3\\uff08\\u30c8\\u30c3\\u30d7\\u306e\\u6570\\u306f\\u548c\\uff09\"},\"barmode\":\"relative\",\"height\":800,\"width\":920},                        {\"responsive\": true}                    ).then(function(){\n",
       "                            \n",
       "var gd = document.getElementById('edf4d94f-92f0-4b78-ac80-3568fde86920');\n",
       "var x = new MutationObserver(function (mutations, observer) {{\n",
       "        var display = window.getComputedStyle(gd).display;\n",
       "        if (!display || display === 'none') {{\n",
       "            console.log([gd, 'removed!']);\n",
       "            Plotly.purge(gd);\n",
       "            observer.disconnect();\n",
       "        }}\n",
       "}});\n",
       "\n",
       "// Listen for the removal of the full notebook cells\n",
       "var notebookContainer = gd.closest('#notebook-container');\n",
       "if (notebookContainer) {{\n",
       "    x.observe(notebookContainer, {childList: true});\n",
       "}}\n",
       "\n",
       "// Listen for the clearing of the current output cell\n",
       "var outputEl = gd.closest('.output');\n",
       "if (outputEl) {{\n",
       "    x.observe(outputEl, {childList: true});\n",
       "}}\n",
       "\n",
       "                        })                };                });            </script>        </div>"
      ]
     },
     "metadata": {},
     "output_type": "display_data"
    },
    {
     "data": {
      "application/vnd.plotly.v1+json": {
       "config": {
        "plotlyServerURL": "https://plot.ly"
       },
       "data": [
        {
         "hovertemplate": "地域=千代田区<br>年=%{x}<br>15歳人口=%{text}<extra></extra>",
         "legendgroup": "千代田区",
         "line": {
          "color": "#636efa",
          "dash": "solid"
         },
         "marker": {
          "symbol": "circle"
         },
         "mode": "lines+markers+text",
         "name": "千代田区",
         "orientation": "v",
         "showlegend": true,
         "text": [
          612,
          549,
          525,
          872,
          781,
          1206,
          898,
          931,
          1089,
          1028,
          1135,
          1047,
          567
         ],
         "type": "scatter",
         "x": [
          2009,
          2010,
          2011,
          2012,
          2013,
          2014,
          2015,
          2016,
          2017,
          2018,
          2019,
          2020,
          2021
         ],
         "xaxis": "x",
         "y": [
          612,
          549,
          525,
          872,
          781,
          1206,
          898,
          931,
          1089,
          1028,
          1135,
          1047,
          567
         ],
         "yaxis": "y"
        },
        {
         "hovertemplate": "地域=中央区<br>年=%{x}<br>15歳人口=%{text}<extra></extra>",
         "legendgroup": "中央区",
         "line": {
          "color": "#EF553B",
          "dash": "solid"
         },
         "marker": {
          "symbol": "circle"
         },
         "mode": "lines+markers+text",
         "name": "中央区",
         "orientation": "v",
         "showlegend": true,
         "text": [
          1769,
          2154,
          2016,
          2534,
          2500,
          2997,
          3067,
          3533,
          3397,
          3340,
          3314,
          2857,
          2093
         ],
         "type": "scatter",
         "x": [
          2009,
          2010,
          2011,
          2012,
          2013,
          2014,
          2015,
          2016,
          2017,
          2018,
          2019,
          2020,
          2021
         ],
         "xaxis": "x",
         "y": [
          1769,
          2154,
          2016,
          2534,
          2500,
          2997,
          3067,
          3533,
          3397,
          3340,
          3314,
          2857,
          2093
         ],
         "yaxis": "y"
        },
        {
         "hovertemplate": "地域=港区<br>年=%{x}<br>15歳人口=%{text}<extra></extra>",
         "legendgroup": "港区",
         "line": {
          "color": "#00cc96",
          "dash": "solid"
         },
         "marker": {
          "symbol": "circle"
         },
         "mode": "lines+markers+text",
         "name": "港区",
         "orientation": "v",
         "showlegend": true,
         "text": [
          3122,
          3611,
          3038,
          5881,
          3578,
          4448,
          4415,
          4914,
          4516,
          4281,
          3548,
          3013,
          2040
         ],
         "type": "scatter",
         "x": [
          2009,
          2010,
          2011,
          2012,
          2013,
          2014,
          2015,
          2016,
          2017,
          2018,
          2019,
          2020,
          2021
         ],
         "xaxis": "x",
         "y": [
          3122,
          3611,
          3038,
          5881,
          3578,
          4448,
          4415,
          4914,
          4516,
          4281,
          3548,
          3013,
          2040
         ],
         "yaxis": "y"
        },
        {
         "hovertemplate": "地域=新宿区<br>年=%{x}<br>15歳人口=%{text}<extra></extra>",
         "legendgroup": "新宿区",
         "line": {
          "color": "#ab63fa",
          "dash": "solid"
         },
         "marker": {
          "symbol": "circle"
         },
         "mode": "lines+markers+text",
         "name": "新宿区",
         "orientation": "v",
         "showlegend": true,
         "text": [
          2343,
          2598,
          2236,
          5413,
          2718,
          2879,
          3263,
          3347,
          3722,
          3359,
          2786,
          2651,
          2219
         ],
         "type": "scatter",
         "x": [
          2009,
          2010,
          2011,
          2012,
          2013,
          2014,
          2015,
          2016,
          2017,
          2018,
          2019,
          2020,
          2021
         ],
         "xaxis": "x",
         "y": [
          2343,
          2598,
          2236,
          5413,
          2718,
          2879,
          3263,
          3347,
          3722,
          3359,
          2786,
          2651,
          2219
         ],
         "yaxis": "y"
        },
        {
         "hovertemplate": "地域=文京区<br>年=%{x}<br>15歳人口=%{text}<extra></extra>",
         "legendgroup": "文京区",
         "line": {
          "color": "#FFA15A",
          "dash": "solid"
         },
         "marker": {
          "symbol": "circle"
         },
         "mode": "lines+markers+text",
         "name": "文京区",
         "orientation": "v",
         "showlegend": true,
         "text": [
          1858,
          2141,
          2320,
          2622,
          2724,
          2662,
          2878,
          3124,
          2801,
          3064,
          2980,
          2949,
          2144
         ],
         "type": "scatter",
         "x": [
          2009,
          2010,
          2011,
          2012,
          2013,
          2014,
          2015,
          2016,
          2017,
          2018,
          2019,
          2020,
          2021
         ],
         "xaxis": "x",
         "y": [
          1858,
          2141,
          2320,
          2622,
          2724,
          2662,
          2878,
          3124,
          2801,
          3064,
          2980,
          2949,
          2144
         ],
         "yaxis": "y"
        },
        {
         "hovertemplate": "地域=台東区<br>年=%{x}<br>15歳人口=%{text}<extra></extra>",
         "legendgroup": "台東区",
         "line": {
          "color": "#19d3f3",
          "dash": "solid"
         },
         "marker": {
          "symbol": "circle"
         },
         "mode": "lines+markers+text",
         "name": "台東区",
         "orientation": "v",
         "showlegend": true,
         "text": [
          1180,
          1442,
          1388,
          2590,
          1655,
          1879,
          1731,
          1814,
          1842,
          1890,
          1779,
          1642,
          1242
         ],
         "type": "scatter",
         "x": [
          2009,
          2010,
          2011,
          2012,
          2013,
          2014,
          2015,
          2016,
          2017,
          2018,
          2019,
          2020,
          2021
         ],
         "xaxis": "x",
         "y": [
          1180,
          1442,
          1388,
          2590,
          1655,
          1879,
          1731,
          1814,
          1842,
          1890,
          1779,
          1642,
          1242
         ],
         "yaxis": "y"
        },
        {
         "hovertemplate": "地域=墨田区<br>年=%{x}<br>15歳人口=%{text}<extra></extra>",
         "legendgroup": "墨田区",
         "line": {
          "color": "#FF6692",
          "dash": "solid"
         },
         "marker": {
          "symbol": "circle"
         },
         "mode": "lines+markers+text",
         "name": "墨田区",
         "orientation": "v",
         "showlegend": true,
         "text": [
          2261,
          2311,
          1918,
          2997,
          2273,
          2657,
          3096,
          2786,
          2952,
          2720,
          2580,
          2282,
          1823
         ],
         "type": "scatter",
         "x": [
          2009,
          2010,
          2011,
          2012,
          2013,
          2014,
          2015,
          2016,
          2017,
          2018,
          2019,
          2020,
          2021
         ],
         "xaxis": "x",
         "y": [
          2261,
          2311,
          1918,
          2997,
          2273,
          2657,
          3096,
          2786,
          2952,
          2720,
          2580,
          2282,
          1823
         ],
         "yaxis": "y"
        },
        {
         "hovertemplate": "地域=江東区<br>年=%{x}<br>15歳人口=%{text}<extra></extra>",
         "legendgroup": "江東区",
         "line": {
          "color": "#B6E880",
          "dash": "solid"
         },
         "marker": {
          "symbol": "circle"
         },
         "mode": "lines+markers+text",
         "name": "江東区",
         "orientation": "v",
         "showlegend": true,
         "text": [
          6350,
          5755,
          5518,
          8006,
          6294,
          6350,
          6727,
          5997,
          5790,
          5324,
          4342,
          4876,
          3332
         ],
         "type": "scatter",
         "x": [
          2009,
          2010,
          2011,
          2012,
          2013,
          2014,
          2015,
          2016,
          2017,
          2018,
          2019,
          2020,
          2021
         ],
         "xaxis": "x",
         "y": [
          6350,
          5755,
          5518,
          8006,
          6294,
          6350,
          6727,
          5997,
          5790,
          5324,
          4342,
          4876,
          3332
         ],
         "yaxis": "y"
        },
        {
         "hovertemplate": "地域=品川区<br>年=%{x}<br>15歳人口=%{text}<extra></extra>",
         "legendgroup": "品川区",
         "line": {
          "color": "#FF97FF",
          "dash": "solid"
         },
         "marker": {
          "symbol": "circle"
         },
         "mode": "lines+markers+text",
         "name": "品川区",
         "orientation": "v",
         "showlegend": true,
         "text": [
          4320,
          3896,
          3960,
          5259,
          4327,
          4411,
          5199,
          4971,
          4957,
          5071,
          5219,
          5034,
          3380
         ],
         "type": "scatter",
         "x": [
          2009,
          2010,
          2011,
          2012,
          2013,
          2014,
          2015,
          2016,
          2017,
          2018,
          2019,
          2020,
          2021
         ],
         "xaxis": "x",
         "y": [
          4320,
          3896,
          3960,
          5259,
          4327,
          4411,
          5199,
          4971,
          4957,
          5071,
          5219,
          5034,
          3380
         ],
         "yaxis": "y"
        },
        {
         "hovertemplate": "地域=目黒区<br>年=%{x}<br>15歳人口=%{text}<extra></extra>",
         "legendgroup": "目黒区",
         "line": {
          "color": "#FECB52",
          "dash": "solid"
         },
         "marker": {
          "symbol": "circle"
         },
         "mode": "lines+markers+text",
         "name": "目黒区",
         "orientation": "v",
         "showlegend": true,
         "text": [
          2211,
          2582,
          2417,
          3279,
          2836,
          3309,
          3087,
          3141,
          3528,
          3045,
          2938,
          2540,
          1810
         ],
         "type": "scatter",
         "x": [
          2009,
          2010,
          2011,
          2012,
          2013,
          2014,
          2015,
          2016,
          2017,
          2018,
          2019,
          2020,
          2021
         ],
         "xaxis": "x",
         "y": [
          2211,
          2582,
          2417,
          3279,
          2836,
          3309,
          3087,
          3141,
          3528,
          3045,
          2938,
          2540,
          1810
         ],
         "yaxis": "y"
        },
        {
         "hovertemplate": "地域=大田区<br>年=%{x}<br>15歳人口=%{text}<extra></extra>",
         "legendgroup": "大田区",
         "line": {
          "color": "#636efa",
          "dash": "solid"
         },
         "marker": {
          "symbol": "circle"
         },
         "mode": "lines+markers+text",
         "name": "大田区",
         "orientation": "v",
         "showlegend": true,
         "text": [
          5978,
          5815,
          5522,
          7088,
          6197,
          6559,
          6464,
          6243,
          6178,
          6214,
          5198,
          5341,
          3879
         ],
         "type": "scatter",
         "x": [
          2009,
          2010,
          2011,
          2012,
          2013,
          2014,
          2015,
          2016,
          2017,
          2018,
          2019,
          2020,
          2021
         ],
         "xaxis": "x",
         "y": [
          5978,
          5815,
          5522,
          7088,
          6197,
          6559,
          6464,
          6243,
          6178,
          6214,
          5198,
          5341,
          3879
         ],
         "yaxis": "y"
        },
        {
         "hovertemplate": "地域=世田谷区<br>年=%{x}<br>15歳人口=%{text}<extra></extra>",
         "legendgroup": "世田谷区",
         "line": {
          "color": "#EF553B",
          "dash": "solid"
         },
         "marker": {
          "symbol": "circle"
         },
         "mode": "lines+markers+text",
         "name": "世田谷区",
         "orientation": "v",
         "showlegend": true,
         "text": [
          8287,
          8855,
          8384,
          9974,
          9298,
          9896,
          9977,
          9883,
          8824,
          8808,
          7526,
          7078,
          5915
         ],
         "type": "scatter",
         "x": [
          2009,
          2010,
          2011,
          2012,
          2013,
          2014,
          2015,
          2016,
          2017,
          2018,
          2019,
          2020,
          2021
         ],
         "xaxis": "x",
         "y": [
          8287,
          8855,
          8384,
          9974,
          9298,
          9896,
          9977,
          9883,
          8824,
          8808,
          7526,
          7078,
          5915
         ],
         "yaxis": "y"
        },
        {
         "hovertemplate": "地域=渋谷区<br>年=%{x}<br>15歳人口=%{text}<extra></extra>",
         "legendgroup": "渋谷区",
         "line": {
          "color": "#00cc96",
          "dash": "solid"
         },
         "marker": {
          "symbol": "circle"
         },
         "mode": "lines+markers+text",
         "name": "渋谷区",
         "orientation": "v",
         "showlegend": true,
         "text": [
          2117,
          2186,
          2044,
          3343,
          2454,
          2691,
          3029,
          2846,
          2816,
          2665,
          2658,
          2416,
          1871
         ],
         "type": "scatter",
         "x": [
          2009,
          2010,
          2011,
          2012,
          2013,
          2014,
          2015,
          2016,
          2017,
          2018,
          2019,
          2020,
          2021
         ],
         "xaxis": "x",
         "y": [
          2117,
          2186,
          2044,
          3343,
          2454,
          2691,
          3029,
          2846,
          2816,
          2665,
          2658,
          2416,
          1871
         ],
         "yaxis": "y"
        },
        {
         "hovertemplate": "地域=中野区<br>年=%{x}<br>15歳人口=%{text}<extra></extra>",
         "legendgroup": "中野区",
         "line": {
          "color": "#ab63fa",
          "dash": "solid"
         },
         "marker": {
          "symbol": "circle"
         },
         "mode": "lines+markers+text",
         "name": "中野区",
         "orientation": "v",
         "showlegend": true,
         "text": [
          2291,
          2201,
          2202,
          3095,
          2805,
          3067,
          3451,
          3222,
          3072,
          2994,
          2862,
          3061,
          2559
         ],
         "type": "scatter",
         "x": [
          2009,
          2010,
          2011,
          2012,
          2013,
          2014,
          2015,
          2016,
          2017,
          2018,
          2019,
          2020,
          2021
         ],
         "xaxis": "x",
         "y": [
          2291,
          2201,
          2202,
          3095,
          2805,
          3067,
          3451,
          3222,
          3072,
          2994,
          2862,
          3061,
          2559
         ],
         "yaxis": "y"
        },
        {
         "hovertemplate": "地域=杉並区<br>年=%{x}<br>15歳人口=%{text}<extra></extra>",
         "legendgroup": "杉並区",
         "line": {
          "color": "#FFA15A",
          "dash": "solid"
         },
         "marker": {
          "symbol": "circle"
         },
         "mode": "lines+markers+text",
         "name": "杉並区",
         "orientation": "v",
         "showlegend": true,
         "text": [
          4376,
          5029,
          4603,
          5248,
          5367,
          5631,
          6124,
          5862,
          5393,
          5739,
          5227,
          5184,
          3991
         ],
         "type": "scatter",
         "x": [
          2009,
          2010,
          2011,
          2012,
          2013,
          2014,
          2015,
          2016,
          2017,
          2018,
          2019,
          2020,
          2021
         ],
         "xaxis": "x",
         "y": [
          4376,
          5029,
          4603,
          5248,
          5367,
          5631,
          6124,
          5862,
          5393,
          5739,
          5227,
          5184,
          3991
         ],
         "yaxis": "y"
        },
        {
         "hovertemplate": "地域=豊島区<br>年=%{x}<br>15歳人口=%{text}<extra></extra>",
         "legendgroup": "豊島区",
         "line": {
          "color": "#19d3f3",
          "dash": "solid"
         },
         "marker": {
          "symbol": "circle"
         },
         "mode": "lines+markers+text",
         "name": "豊島区",
         "orientation": "v",
         "showlegend": true,
         "text": [
          2086,
          2122,
          2349,
          3065,
          2595,
          2697,
          2627,
          2785,
          2621,
          2710,
          2502,
          2081,
          1786
         ],
         "type": "scatter",
         "x": [
          2009,
          2010,
          2011,
          2012,
          2013,
          2014,
          2015,
          2016,
          2017,
          2018,
          2019,
          2020,
          2021
         ],
         "xaxis": "x",
         "y": [
          2086,
          2122,
          2349,
          3065,
          2595,
          2697,
          2627,
          2785,
          2621,
          2710,
          2502,
          2081,
          1786
         ],
         "yaxis": "y"
        },
        {
         "hovertemplate": "地域=北区<br>年=%{x}<br>15歳人口=%{text}<extra></extra>",
         "legendgroup": "北区",
         "line": {
          "color": "#FF6692",
          "dash": "solid"
         },
         "marker": {
          "symbol": "circle"
         },
         "mode": "lines+markers+text",
         "name": "北区",
         "orientation": "v",
         "showlegend": true,
         "text": [
          2397,
          2556,
          2262,
          4006,
          3246,
          3651,
          3266,
          3719,
          3388,
          3736,
          3265,
          3100,
          2593
         ],
         "type": "scatter",
         "x": [
          2009,
          2010,
          2011,
          2012,
          2013,
          2014,
          2015,
          2016,
          2017,
          2018,
          2019,
          2020,
          2021
         ],
         "xaxis": "x",
         "y": [
          2397,
          2556,
          2262,
          4006,
          3246,
          3651,
          3266,
          3719,
          3388,
          3736,
          3265,
          3100,
          2593
         ],
         "yaxis": "y"
        },
        {
         "hovertemplate": "地域=荒川区<br>年=%{x}<br>15歳人口=%{text}<extra></extra>",
         "legendgroup": "荒川区",
         "line": {
          "color": "#B6E880",
          "dash": "solid"
         },
         "marker": {
          "symbol": "circle"
         },
         "mode": "lines+markers+text",
         "name": "荒川区",
         "orientation": "v",
         "showlegend": true,
         "text": [
          2021,
          2282,
          2142,
          3255,
          2131,
          2249,
          2144,
          2221,
          1959,
          1671,
          1769,
          1661,
          1380
         ],
         "type": "scatter",
         "x": [
          2009,
          2010,
          2011,
          2012,
          2013,
          2014,
          2015,
          2016,
          2017,
          2018,
          2019,
          2020,
          2021
         ],
         "xaxis": "x",
         "y": [
          2021,
          2282,
          2142,
          3255,
          2131,
          2249,
          2144,
          2221,
          1959,
          1671,
          1769,
          1661,
          1380
         ],
         "yaxis": "y"
        },
        {
         "hovertemplate": "地域=板橋区<br>年=%{x}<br>15歳人口=%{text}<extra></extra>",
         "legendgroup": "板橋区",
         "line": {
          "color": "#FF97FF",
          "dash": "solid"
         },
         "marker": {
          "symbol": "circle"
         },
         "mode": "lines+markers+text",
         "name": "板橋区",
         "orientation": "v",
         "showlegend": true,
         "text": [
          4422,
          4247,
          4424,
          5958,
          4878,
          4875,
          5226,
          5516,
          4589,
          4779,
          4159,
          3614,
          2710
         ],
         "type": "scatter",
         "x": [
          2009,
          2010,
          2011,
          2012,
          2013,
          2014,
          2015,
          2016,
          2017,
          2018,
          2019,
          2020,
          2021
         ],
         "xaxis": "x",
         "y": [
          4422,
          4247,
          4424,
          5958,
          4878,
          4875,
          5226,
          5516,
          4589,
          4779,
          4159,
          3614,
          2710
         ],
         "yaxis": "y"
        },
        {
         "hovertemplate": "地域=練馬区<br>年=%{x}<br>15歳人口=%{text}<extra></extra>",
         "legendgroup": "練馬区",
         "line": {
          "color": "#FECB52",
          "dash": "solid"
         },
         "marker": {
          "symbol": "circle"
         },
         "mode": "lines+markers+text",
         "name": "練馬区",
         "orientation": "v",
         "showlegend": true,
         "text": [
          5814,
          6178,
          5860,
          6482,
          5849,
          6095,
          6127,
          6002,
          6003,
          5674,
          5679,
          5164,
          4547
         ],
         "type": "scatter",
         "x": [
          2009,
          2010,
          2011,
          2012,
          2013,
          2014,
          2015,
          2016,
          2017,
          2018,
          2019,
          2020,
          2021
         ],
         "xaxis": "x",
         "y": [
          5814,
          6178,
          5860,
          6482,
          5849,
          6095,
          6127,
          6002,
          6003,
          5674,
          5679,
          5164,
          4547
         ],
         "yaxis": "y"
        },
        {
         "hovertemplate": "地域=足立区<br>年=%{x}<br>15歳人口=%{text}<extra></extra>",
         "legendgroup": "足立区",
         "line": {
          "color": "#636efa",
          "dash": "solid"
         },
         "marker": {
          "symbol": "circle"
         },
         "mode": "lines+markers+text",
         "name": "足立区",
         "orientation": "v",
         "showlegend": true,
         "text": [
          5937,
          5466,
          5023,
          7793,
          5175,
          5458,
          5519,
          4617,
          4422,
          4322,
          3466,
          3528,
          2435
         ],
         "type": "scatter",
         "x": [
          2009,
          2010,
          2011,
          2012,
          2013,
          2014,
          2015,
          2016,
          2017,
          2018,
          2019,
          2020,
          2021
         ],
         "xaxis": "x",
         "y": [
          5937,
          5466,
          5023,
          7793,
          5175,
          5458,
          5519,
          4617,
          4422,
          4322,
          3466,
          3528,
          2435
         ],
         "yaxis": "y"
        },
        {
         "hovertemplate": "地域=葛飾区<br>年=%{x}<br>15歳人口=%{text}<extra></extra>",
         "legendgroup": "葛飾区",
         "line": {
          "color": "#EF553B",
          "dash": "solid"
         },
         "marker": {
          "symbol": "circle"
         },
         "mode": "lines+markers+text",
         "name": "葛飾区",
         "orientation": "v",
         "showlegend": true,
         "text": [
          3550,
          4114,
          3205,
          4372,
          3588,
          3801,
          3735,
          4041,
          3666,
          3409,
          3157,
          2795,
          2272
         ],
         "type": "scatter",
         "x": [
          2009,
          2010,
          2011,
          2012,
          2013,
          2014,
          2015,
          2016,
          2017,
          2018,
          2019,
          2020,
          2021
         ],
         "xaxis": "x",
         "y": [
          3550,
          4114,
          3205,
          4372,
          3588,
          3801,
          3735,
          4041,
          3666,
          3409,
          3157,
          2795,
          2272
         ],
         "yaxis": "y"
        },
        {
         "hovertemplate": "地域=江戸川区<br>年=%{x}<br>15歳人口=%{text}<extra></extra>",
         "legendgroup": "江戸川区",
         "line": {
          "color": "#00cc96",
          "dash": "solid"
         },
         "marker": {
          "symbol": "circle"
         },
         "mode": "lines+markers+text",
         "name": "江戸川区",
         "orientation": "v",
         "showlegend": true,
         "text": [
          5848,
          6142,
          4606,
          7164,
          4922,
          5319,
          5490,
          5241,
          5191,
          5151,
          4646,
          3234,
          2646
         ],
         "type": "scatter",
         "x": [
          2009,
          2010,
          2011,
          2012,
          2013,
          2014,
          2015,
          2016,
          2017,
          2018,
          2019,
          2020,
          2021
         ],
         "xaxis": "x",
         "y": [
          5848,
          6142,
          4606,
          7164,
          4922,
          5319,
          5490,
          5241,
          5191,
          5151,
          4646,
          3234,
          2646
         ],
         "yaxis": "y"
        }
       ],
       "layout": {
        "height": 800,
        "legend": {
         "title": {
          "text": "地域"
         },
         "tracegroupgap": 0
        },
        "template": {
         "data": {
          "bar": [
           {
            "error_x": {
             "color": "#2a3f5f"
            },
            "error_y": {
             "color": "#2a3f5f"
            },
            "marker": {
             "line": {
              "color": "#E5ECF6",
              "width": 0.5
             },
             "pattern": {
              "fillmode": "overlay",
              "size": 10,
              "solidity": 0.2
             }
            },
            "type": "bar"
           }
          ],
          "barpolar": [
           {
            "marker": {
             "line": {
              "color": "#E5ECF6",
              "width": 0.5
             },
             "pattern": {
              "fillmode": "overlay",
              "size": 10,
              "solidity": 0.2
             }
            },
            "type": "barpolar"
           }
          ],
          "carpet": [
           {
            "aaxis": {
             "endlinecolor": "#2a3f5f",
             "gridcolor": "white",
             "linecolor": "white",
             "minorgridcolor": "white",
             "startlinecolor": "#2a3f5f"
            },
            "baxis": {
             "endlinecolor": "#2a3f5f",
             "gridcolor": "white",
             "linecolor": "white",
             "minorgridcolor": "white",
             "startlinecolor": "#2a3f5f"
            },
            "type": "carpet"
           }
          ],
          "choropleth": [
           {
            "colorbar": {
             "outlinewidth": 0,
             "ticks": ""
            },
            "type": "choropleth"
           }
          ],
          "contour": [
           {
            "colorbar": {
             "outlinewidth": 0,
             "ticks": ""
            },
            "colorscale": [
             [
              0,
              "#0d0887"
             ],
             [
              0.1111111111111111,
              "#46039f"
             ],
             [
              0.2222222222222222,
              "#7201a8"
             ],
             [
              0.3333333333333333,
              "#9c179e"
             ],
             [
              0.4444444444444444,
              "#bd3786"
             ],
             [
              0.5555555555555556,
              "#d8576b"
             ],
             [
              0.6666666666666666,
              "#ed7953"
             ],
             [
              0.7777777777777778,
              "#fb9f3a"
             ],
             [
              0.8888888888888888,
              "#fdca26"
             ],
             [
              1,
              "#f0f921"
             ]
            ],
            "type": "contour"
           }
          ],
          "contourcarpet": [
           {
            "colorbar": {
             "outlinewidth": 0,
             "ticks": ""
            },
            "type": "contourcarpet"
           }
          ],
          "heatmap": [
           {
            "colorbar": {
             "outlinewidth": 0,
             "ticks": ""
            },
            "colorscale": [
             [
              0,
              "#0d0887"
             ],
             [
              0.1111111111111111,
              "#46039f"
             ],
             [
              0.2222222222222222,
              "#7201a8"
             ],
             [
              0.3333333333333333,
              "#9c179e"
             ],
             [
              0.4444444444444444,
              "#bd3786"
             ],
             [
              0.5555555555555556,
              "#d8576b"
             ],
             [
              0.6666666666666666,
              "#ed7953"
             ],
             [
              0.7777777777777778,
              "#fb9f3a"
             ],
             [
              0.8888888888888888,
              "#fdca26"
             ],
             [
              1,
              "#f0f921"
             ]
            ],
            "type": "heatmap"
           }
          ],
          "heatmapgl": [
           {
            "colorbar": {
             "outlinewidth": 0,
             "ticks": ""
            },
            "colorscale": [
             [
              0,
              "#0d0887"
             ],
             [
              0.1111111111111111,
              "#46039f"
             ],
             [
              0.2222222222222222,
              "#7201a8"
             ],
             [
              0.3333333333333333,
              "#9c179e"
             ],
             [
              0.4444444444444444,
              "#bd3786"
             ],
             [
              0.5555555555555556,
              "#d8576b"
             ],
             [
              0.6666666666666666,
              "#ed7953"
             ],
             [
              0.7777777777777778,
              "#fb9f3a"
             ],
             [
              0.8888888888888888,
              "#fdca26"
             ],
             [
              1,
              "#f0f921"
             ]
            ],
            "type": "heatmapgl"
           }
          ],
          "histogram": [
           {
            "marker": {
             "pattern": {
              "fillmode": "overlay",
              "size": 10,
              "solidity": 0.2
             }
            },
            "type": "histogram"
           }
          ],
          "histogram2d": [
           {
            "colorbar": {
             "outlinewidth": 0,
             "ticks": ""
            },
            "colorscale": [
             [
              0,
              "#0d0887"
             ],
             [
              0.1111111111111111,
              "#46039f"
             ],
             [
              0.2222222222222222,
              "#7201a8"
             ],
             [
              0.3333333333333333,
              "#9c179e"
             ],
             [
              0.4444444444444444,
              "#bd3786"
             ],
             [
              0.5555555555555556,
              "#d8576b"
             ],
             [
              0.6666666666666666,
              "#ed7953"
             ],
             [
              0.7777777777777778,
              "#fb9f3a"
             ],
             [
              0.8888888888888888,
              "#fdca26"
             ],
             [
              1,
              "#f0f921"
             ]
            ],
            "type": "histogram2d"
           }
          ],
          "histogram2dcontour": [
           {
            "colorbar": {
             "outlinewidth": 0,
             "ticks": ""
            },
            "colorscale": [
             [
              0,
              "#0d0887"
             ],
             [
              0.1111111111111111,
              "#46039f"
             ],
             [
              0.2222222222222222,
              "#7201a8"
             ],
             [
              0.3333333333333333,
              "#9c179e"
             ],
             [
              0.4444444444444444,
              "#bd3786"
             ],
             [
              0.5555555555555556,
              "#d8576b"
             ],
             [
              0.6666666666666666,
              "#ed7953"
             ],
             [
              0.7777777777777778,
              "#fb9f3a"
             ],
             [
              0.8888888888888888,
              "#fdca26"
             ],
             [
              1,
              "#f0f921"
             ]
            ],
            "type": "histogram2dcontour"
           }
          ],
          "mesh3d": [
           {
            "colorbar": {
             "outlinewidth": 0,
             "ticks": ""
            },
            "type": "mesh3d"
           }
          ],
          "parcoords": [
           {
            "line": {
             "colorbar": {
              "outlinewidth": 0,
              "ticks": ""
             }
            },
            "type": "parcoords"
           }
          ],
          "pie": [
           {
            "automargin": true,
            "type": "pie"
           }
          ],
          "scatter": [
           {
            "fillpattern": {
             "fillmode": "overlay",
             "size": 10,
             "solidity": 0.2
            },
            "type": "scatter"
           }
          ],
          "scatter3d": [
           {
            "line": {
             "colorbar": {
              "outlinewidth": 0,
              "ticks": ""
             }
            },
            "marker": {
             "colorbar": {
              "outlinewidth": 0,
              "ticks": ""
             }
            },
            "type": "scatter3d"
           }
          ],
          "scattercarpet": [
           {
            "marker": {
             "colorbar": {
              "outlinewidth": 0,
              "ticks": ""
             }
            },
            "type": "scattercarpet"
           }
          ],
          "scattergeo": [
           {
            "marker": {
             "colorbar": {
              "outlinewidth": 0,
              "ticks": ""
             }
            },
            "type": "scattergeo"
           }
          ],
          "scattergl": [
           {
            "marker": {
             "colorbar": {
              "outlinewidth": 0,
              "ticks": ""
             }
            },
            "type": "scattergl"
           }
          ],
          "scattermapbox": [
           {
            "marker": {
             "colorbar": {
              "outlinewidth": 0,
              "ticks": ""
             }
            },
            "type": "scattermapbox"
           }
          ],
          "scatterpolar": [
           {
            "marker": {
             "colorbar": {
              "outlinewidth": 0,
              "ticks": ""
             }
            },
            "type": "scatterpolar"
           }
          ],
          "scatterpolargl": [
           {
            "marker": {
             "colorbar": {
              "outlinewidth": 0,
              "ticks": ""
             }
            },
            "type": "scatterpolargl"
           }
          ],
          "scatterternary": [
           {
            "marker": {
             "colorbar": {
              "outlinewidth": 0,
              "ticks": ""
             }
            },
            "type": "scatterternary"
           }
          ],
          "surface": [
           {
            "colorbar": {
             "outlinewidth": 0,
             "ticks": ""
            },
            "colorscale": [
             [
              0,
              "#0d0887"
             ],
             [
              0.1111111111111111,
              "#46039f"
             ],
             [
              0.2222222222222222,
              "#7201a8"
             ],
             [
              0.3333333333333333,
              "#9c179e"
             ],
             [
              0.4444444444444444,
              "#bd3786"
             ],
             [
              0.5555555555555556,
              "#d8576b"
             ],
             [
              0.6666666666666666,
              "#ed7953"
             ],
             [
              0.7777777777777778,
              "#fb9f3a"
             ],
             [
              0.8888888888888888,
              "#fdca26"
             ],
             [
              1,
              "#f0f921"
             ]
            ],
            "type": "surface"
           }
          ],
          "table": [
           {
            "cells": {
             "fill": {
              "color": "#EBF0F8"
             },
             "line": {
              "color": "white"
             }
            },
            "header": {
             "fill": {
              "color": "#C8D4E3"
             },
             "line": {
              "color": "white"
             }
            },
            "type": "table"
           }
          ]
         },
         "layout": {
          "annotationdefaults": {
           "arrowcolor": "#2a3f5f",
           "arrowhead": 0,
           "arrowwidth": 1
          },
          "autotypenumbers": "strict",
          "coloraxis": {
           "colorbar": {
            "outlinewidth": 0,
            "ticks": ""
           }
          },
          "colorscale": {
           "diverging": [
            [
             0,
             "#8e0152"
            ],
            [
             0.1,
             "#c51b7d"
            ],
            [
             0.2,
             "#de77ae"
            ],
            [
             0.3,
             "#f1b6da"
            ],
            [
             0.4,
             "#fde0ef"
            ],
            [
             0.5,
             "#f7f7f7"
            ],
            [
             0.6,
             "#e6f5d0"
            ],
            [
             0.7,
             "#b8e186"
            ],
            [
             0.8,
             "#7fbc41"
            ],
            [
             0.9,
             "#4d9221"
            ],
            [
             1,
             "#276419"
            ]
           ],
           "sequential": [
            [
             0,
             "#0d0887"
            ],
            [
             0.1111111111111111,
             "#46039f"
            ],
            [
             0.2222222222222222,
             "#7201a8"
            ],
            [
             0.3333333333333333,
             "#9c179e"
            ],
            [
             0.4444444444444444,
             "#bd3786"
            ],
            [
             0.5555555555555556,
             "#d8576b"
            ],
            [
             0.6666666666666666,
             "#ed7953"
            ],
            [
             0.7777777777777778,
             "#fb9f3a"
            ],
            [
             0.8888888888888888,
             "#fdca26"
            ],
            [
             1,
             "#f0f921"
            ]
           ],
           "sequentialminus": [
            [
             0,
             "#0d0887"
            ],
            [
             0.1111111111111111,
             "#46039f"
            ],
            [
             0.2222222222222222,
             "#7201a8"
            ],
            [
             0.3333333333333333,
             "#9c179e"
            ],
            [
             0.4444444444444444,
             "#bd3786"
            ],
            [
             0.5555555555555556,
             "#d8576b"
            ],
            [
             0.6666666666666666,
             "#ed7953"
            ],
            [
             0.7777777777777778,
             "#fb9f3a"
            ],
            [
             0.8888888888888888,
             "#fdca26"
            ],
            [
             1,
             "#f0f921"
            ]
           ]
          },
          "colorway": [
           "#636efa",
           "#EF553B",
           "#00cc96",
           "#ab63fa",
           "#FFA15A",
           "#19d3f3",
           "#FF6692",
           "#B6E880",
           "#FF97FF",
           "#FECB52"
          ],
          "font": {
           "color": "#2a3f5f"
          },
          "geo": {
           "bgcolor": "white",
           "lakecolor": "white",
           "landcolor": "#E5ECF6",
           "showlakes": true,
           "showland": true,
           "subunitcolor": "white"
          },
          "hoverlabel": {
           "align": "left"
          },
          "hovermode": "closest",
          "mapbox": {
           "style": "light"
          },
          "paper_bgcolor": "white",
          "plot_bgcolor": "#E5ECF6",
          "polar": {
           "angularaxis": {
            "gridcolor": "white",
            "linecolor": "white",
            "ticks": ""
           },
           "bgcolor": "#E5ECF6",
           "radialaxis": {
            "gridcolor": "white",
            "linecolor": "white",
            "ticks": ""
           }
          },
          "scene": {
           "xaxis": {
            "backgroundcolor": "#E5ECF6",
            "gridcolor": "white",
            "gridwidth": 2,
            "linecolor": "white",
            "showbackground": true,
            "ticks": "",
            "zerolinecolor": "white"
           },
           "yaxis": {
            "backgroundcolor": "#E5ECF6",
            "gridcolor": "white",
            "gridwidth": 2,
            "linecolor": "white",
            "showbackground": true,
            "ticks": "",
            "zerolinecolor": "white"
           },
           "zaxis": {
            "backgroundcolor": "#E5ECF6",
            "gridcolor": "white",
            "gridwidth": 2,
            "linecolor": "white",
            "showbackground": true,
            "ticks": "",
            "zerolinecolor": "white"
           }
          },
          "shapedefaults": {
           "line": {
            "color": "#2a3f5f"
           }
          },
          "ternary": {
           "aaxis": {
            "gridcolor": "white",
            "linecolor": "white",
            "ticks": ""
           },
           "baxis": {
            "gridcolor": "white",
            "linecolor": "white",
            "ticks": ""
           },
           "bgcolor": "#E5ECF6",
           "caxis": {
            "gridcolor": "white",
            "linecolor": "white",
            "ticks": ""
           }
          },
          "title": {
           "x": 0.05
          },
          "xaxis": {
           "automargin": true,
           "gridcolor": "white",
           "linecolor": "white",
           "ticks": "",
           "title": {
            "standoff": 15
           },
           "zerolinecolor": "white",
           "zerolinewidth": 2
          },
          "yaxis": {
           "automargin": true,
           "gridcolor": "white",
           "linecolor": "white",
           "ticks": "",
           "title": {
            "standoff": 15
           },
           "zerolinecolor": "white",
           "zerolinewidth": 2
          }
         }
        },
        "title": {
         "text": "15歳人口の推移"
        },
        "width": 1000,
        "xaxis": {
         "anchor": "y",
         "autorange": true,
         "domain": [
          0,
          1
         ],
         "range": [
          2008.2630691399663,
          2021.7369308600337
         ],
         "title": {
          "text": "年"
         },
         "type": "linear"
        },
        "yaxis": {
         "anchor": "x",
         "autorange": true,
         "domain": [
          0,
          1
         ],
         "range": [
          -71.6521344232516,
          10573.652134423251
         ],
         "title": {
          "text": "15歳人口"
         },
         "type": "linear"
        }
       }
      },
      "image/png": "[encoded data removed]",
      "text/html": [
       "<div>                            <div id=\"13b6b058-5b36-4165-9224-b22fd326772a\" class=\"plotly-graph-div\" style=\"height:800px; width:1000px;\"></div>            <script type=\"text/javascript\">                require([\"plotly\"], function(Plotly) {                    window.PLOTLYENV=window.PLOTLYENV || {};                                    if (document.getElementById(\"13b6b058-5b36-4165-9224-b22fd326772a\")) {                    Plotly.newPlot(                        \"13b6b058-5b36-4165-9224-b22fd326772a\",                        [{\"hovertemplate\":\"\\u5730\\u57df=\\u5343\\u4ee3\\u7530\\u533a<br>\\u5e74=%{x}<br>15\\u6b73\\u4eba\\u53e3=%{text}<extra></extra>\",\"legendgroup\":\"\\u5343\\u4ee3\\u7530\\u533a\",\"line\":{\"color\":\"#636efa\",\"dash\":\"solid\"},\"marker\":{\"symbol\":\"circle\"},\"mode\":\"lines+markers+text\",\"name\":\"\\u5343\\u4ee3\\u7530\\u533a\",\"orientation\":\"v\",\"showlegend\":true,\"text\":[612.0,549.0,525.0,872.0,781.0,1206.0,898.0,931.0,1089.0,1028.0,1135.0,1047.0,567.0],\"x\":[2009,2010,2011,2012,2013,2014,2015,2016,2017,2018,2019,2020,2021],\"xaxis\":\"x\",\"y\":[612,549,525,872,781,1206,898,931,1089,1028,1135,1047,567],\"yaxis\":\"y\",\"type\":\"scatter\"},{\"hovertemplate\":\"\\u5730\\u57df=\\u4e2d\\u592e\\u533a<br>\\u5e74=%{x}<br>15\\u6b73\\u4eba\\u53e3=%{text}<extra></extra>\",\"legendgroup\":\"\\u4e2d\\u592e\\u533a\",\"line\":{\"color\":\"#EF553B\",\"dash\":\"solid\"},\"marker\":{\"symbol\":\"circle\"},\"mode\":\"lines+markers+text\",\"name\":\"\\u4e2d\\u592e\\u533a\",\"orientation\":\"v\",\"showlegend\":true,\"text\":[1769.0,2154.0,2016.0,2534.0,2500.0,2997.0,3067.0,3533.0,3397.0,3340.0,3314.0,2857.0,2093.0],\"x\":[2009,2010,2011,2012,2013,2014,2015,2016,2017,2018,2019,2020,2021],\"xaxis\":\"x\",\"y\":[1769,2154,2016,2534,2500,2997,3067,3533,3397,3340,3314,2857,2093],\"yaxis\":\"y\",\"type\":\"scatter\"},{\"hovertemplate\":\"\\u5730\\u57df=\\u6e2f\\u533a<br>\\u5e74=%{x}<br>15\\u6b73\\u4eba\\u53e3=%{text}<extra></extra>\",\"legendgroup\":\"\\u6e2f\\u533a\",\"line\":{\"color\":\"#00cc96\",\"dash\":\"solid\"},\"marker\":{\"symbol\":\"circle\"},\"mode\":\"lines+markers+text\",\"name\":\"\\u6e2f\\u533a\",\"orientation\":\"v\",\"showlegend\":true,\"text\":[3122.0,3611.0,3038.0,5881.0,3578.0,4448.0,4415.0,4914.0,4516.0,4281.0,3548.0,3013.0,2040.0],\"x\":[2009,2010,2011,2012,2013,2014,2015,2016,2017,2018,2019,2020,2021],\"xaxis\":\"x\",\"y\":[3122,3611,3038,5881,3578,4448,4415,4914,4516,4281,3548,3013,2040],\"yaxis\":\"y\",\"type\":\"scatter\"},{\"hovertemplate\":\"\\u5730\\u57df=\\u65b0\\u5bbf\\u533a<br>\\u5e74=%{x}<br>15\\u6b73\\u4eba\\u53e3=%{text}<extra></extra>\",\"legendgroup\":\"\\u65b0\\u5bbf\\u533a\",\"line\":{\"color\":\"#ab63fa\",\"dash\":\"solid\"},\"marker\":{\"symbol\":\"circle\"},\"mode\":\"lines+markers+text\",\"name\":\"\\u65b0\\u5bbf\\u533a\",\"orientation\":\"v\",\"showlegend\":true,\"text\":[2343.0,2598.0,2236.0,5413.0,2718.0,2879.0,3263.0,3347.0,3722.0,3359.0,2786.0,2651.0,2219.0],\"x\":[2009,2010,2011,2012,2013,2014,2015,2016,2017,2018,2019,2020,2021],\"xaxis\":\"x\",\"y\":[2343,2598,2236,5413,2718,2879,3263,3347,3722,3359,2786,2651,2219],\"yaxis\":\"y\",\"type\":\"scatter\"},{\"hovertemplate\":\"\\u5730\\u57df=\\u6587\\u4eac\\u533a<br>\\u5e74=%{x}<br>15\\u6b73\\u4eba\\u53e3=%{text}<extra></extra>\",\"legendgroup\":\"\\u6587\\u4eac\\u533a\",\"line\":{\"color\":\"#FFA15A\",\"dash\":\"solid\"},\"marker\":{\"symbol\":\"circle\"},\"mode\":\"lines+markers+text\",\"name\":\"\\u6587\\u4eac\\u533a\",\"orientation\":\"v\",\"showlegend\":true,\"text\":[1858.0,2141.0,2320.0,2622.0,2724.0,2662.0,2878.0,3124.0,2801.0,3064.0,2980.0,2949.0,2144.0],\"x\":[2009,2010,2011,2012,2013,2014,2015,2016,2017,2018,2019,2020,2021],\"xaxis\":\"x\",\"y\":[1858,2141,2320,2622,2724,2662,2878,3124,2801,3064,2980,2949,2144],\"yaxis\":\"y\",\"type\":\"scatter\"},{\"hovertemplate\":\"\\u5730\\u57df=\\u53f0\\u6771\\u533a<br>\\u5e74=%{x}<br>15\\u6b73\\u4eba\\u53e3=%{text}<extra></extra>\",\"legendgroup\":\"\\u53f0\\u6771\\u533a\",\"line\":{\"color\":\"#19d3f3\",\"dash\":\"solid\"},\"marker\":{\"symbol\":\"circle\"},\"mode\":\"lines+markers+text\",\"name\":\"\\u53f0\\u6771\\u533a\",\"orientation\":\"v\",\"showlegend\":true,\"text\":[1180.0,1442.0,1388.0,2590.0,1655.0,1879.0,1731.0,1814.0,1842.0,1890.0,1779.0,1642.0,1242.0],\"x\":[2009,2010,2011,2012,2013,2014,2015,2016,2017,2018,2019,2020,2021],\"xaxis\":\"x\",\"y\":[1180,1442,1388,2590,1655,1879,1731,1814,1842,1890,1779,1642,1242],\"yaxis\":\"y\",\"type\":\"scatter\"},{\"hovertemplate\":\"\\u5730\\u57df=\\u58a8\\u7530\\u533a<br>\\u5e74=%{x}<br>15\\u6b73\\u4eba\\u53e3=%{text}<extra></extra>\",\"legendgroup\":\"\\u58a8\\u7530\\u533a\",\"line\":{\"color\":\"#FF6692\",\"dash\":\"solid\"},\"marker\":{\"symbol\":\"circle\"},\"mode\":\"lines+markers+text\",\"name\":\"\\u58a8\\u7530\\u533a\",\"orientation\":\"v\",\"showlegend\":true,\"text\":[2261.0,2311.0,1918.0,2997.0,2273.0,2657.0,3096.0,2786.0,2952.0,2720.0,2580.0,2282.0,1823.0],\"x\":[2009,2010,2011,2012,2013,2014,2015,2016,2017,2018,2019,2020,2021],\"xaxis\":\"x\",\"y\":[2261,2311,1918,2997,2273,2657,3096,2786,2952,2720,2580,2282,1823],\"yaxis\":\"y\",\"type\":\"scatter\"},{\"hovertemplate\":\"\\u5730\\u57df=\\u6c5f\\u6771\\u533a<br>\\u5e74=%{x}<br>15\\u6b73\\u4eba\\u53e3=%{text}<extra></extra>\",\"legendgroup\":\"\\u6c5f\\u6771\\u533a\",\"line\":{\"color\":\"#B6E880\",\"dash\":\"solid\"},\"marker\":{\"symbol\":\"circle\"},\"mode\":\"lines+markers+text\",\"name\":\"\\u6c5f\\u6771\\u533a\",\"orientation\":\"v\",\"showlegend\":true,\"text\":[6350.0,5755.0,5518.0,8006.0,6294.0,6350.0,6727.0,5997.0,5790.0,5324.0,4342.0,4876.0,3332.0],\"x\":[2009,2010,2011,2012,2013,2014,2015,2016,2017,2018,2019,2020,2021],\"xaxis\":\"x\",\"y\":[6350,5755,5518,8006,6294,6350,6727,5997,5790,5324,4342,4876,3332],\"yaxis\":\"y\",\"type\":\"scatter\"},{\"hovertemplate\":\"\\u5730\\u57df=\\u54c1\\u5ddd\\u533a<br>\\u5e74=%{x}<br>15\\u6b73\\u4eba\\u53e3=%{text}<extra></extra>\",\"legendgroup\":\"\\u54c1\\u5ddd\\u533a\",\"line\":{\"color\":\"#FF97FF\",\"dash\":\"solid\"},\"marker\":{\"symbol\":\"circle\"},\"mode\":\"lines+markers+text\",\"name\":\"\\u54c1\\u5ddd\\u533a\",\"orientation\":\"v\",\"showlegend\":true,\"text\":[4320.0,3896.0,3960.0,5259.0,4327.0,4411.0,5199.0,4971.0,4957.0,5071.0,5219.0,5034.0,3380.0],\"x\":[2009,2010,2011,2012,2013,2014,2015,2016,2017,2018,2019,2020,2021],\"xaxis\":\"x\",\"y\":[4320,3896,3960,5259,4327,4411,5199,4971,4957,5071,5219,5034,3380],\"yaxis\":\"y\",\"type\":\"scatter\"},{\"hovertemplate\":\"\\u5730\\u57df=\\u76ee\\u9ed2\\u533a<br>\\u5e74=%{x}<br>15\\u6b73\\u4eba\\u53e3=%{text}<extra></extra>\",\"legendgroup\":\"\\u76ee\\u9ed2\\u533a\",\"line\":{\"color\":\"#FECB52\",\"dash\":\"solid\"},\"marker\":{\"symbol\":\"circle\"},\"mode\":\"lines+markers+text\",\"name\":\"\\u76ee\\u9ed2\\u533a\",\"orientation\":\"v\",\"showlegend\":true,\"text\":[2211.0,2582.0,2417.0,3279.0,2836.0,3309.0,3087.0,3141.0,3528.0,3045.0,2938.0,2540.0,1810.0],\"x\":[2009,2010,2011,2012,2013,2014,2015,2016,2017,2018,2019,2020,2021],\"xaxis\":\"x\",\"y\":[2211,2582,2417,3279,2836,3309,3087,3141,3528,3045,2938,2540,1810],\"yaxis\":\"y\",\"type\":\"scatter\"},{\"hovertemplate\":\"\\u5730\\u57df=\\u5927\\u7530\\u533a<br>\\u5e74=%{x}<br>15\\u6b73\\u4eba\\u53e3=%{text}<extra></extra>\",\"legendgroup\":\"\\u5927\\u7530\\u533a\",\"line\":{\"color\":\"#636efa\",\"dash\":\"solid\"},\"marker\":{\"symbol\":\"circle\"},\"mode\":\"lines+markers+text\",\"name\":\"\\u5927\\u7530\\u533a\",\"orientation\":\"v\",\"showlegend\":true,\"text\":[5978.0,5815.0,5522.0,7088.0,6197.0,6559.0,6464.0,6243.0,6178.0,6214.0,5198.0,5341.0,3879.0],\"x\":[2009,2010,2011,2012,2013,2014,2015,2016,2017,2018,2019,2020,2021],\"xaxis\":\"x\",\"y\":[5978,5815,5522,7088,6197,6559,6464,6243,6178,6214,5198,5341,3879],\"yaxis\":\"y\",\"type\":\"scatter\"},{\"hovertemplate\":\"\\u5730\\u57df=\\u4e16\\u7530\\u8c37\\u533a<br>\\u5e74=%{x}<br>15\\u6b73\\u4eba\\u53e3=%{text}<extra></extra>\",\"legendgroup\":\"\\u4e16\\u7530\\u8c37\\u533a\",\"line\":{\"color\":\"#EF553B\",\"dash\":\"solid\"},\"marker\":{\"symbol\":\"circle\"},\"mode\":\"lines+markers+text\",\"name\":\"\\u4e16\\u7530\\u8c37\\u533a\",\"orientation\":\"v\",\"showlegend\":true,\"text\":[8287.0,8855.0,8384.0,9974.0,9298.0,9896.0,9977.0,9883.0,8824.0,8808.0,7526.0,7078.0,5915.0],\"x\":[2009,2010,2011,2012,2013,2014,2015,2016,2017,2018,2019,2020,2021],\"xaxis\":\"x\",\"y\":[8287,8855,8384,9974,9298,9896,9977,9883,8824,8808,7526,7078,5915],\"yaxis\":\"y\",\"type\":\"scatter\"},{\"hovertemplate\":\"\\u5730\\u57df=\\u6e0b\\u8c37\\u533a<br>\\u5e74=%{x}<br>15\\u6b73\\u4eba\\u53e3=%{text}<extra></extra>\",\"legendgroup\":\"\\u6e0b\\u8c37\\u533a\",\"line\":{\"color\":\"#00cc96\",\"dash\":\"solid\"},\"marker\":{\"symbol\":\"circle\"},\"mode\":\"lines+markers+text\",\"name\":\"\\u6e0b\\u8c37\\u533a\",\"orientation\":\"v\",\"showlegend\":true,\"text\":[2117.0,2186.0,2044.0,3343.0,2454.0,2691.0,3029.0,2846.0,2816.0,2665.0,2658.0,2416.0,1871.0],\"x\":[2009,2010,2011,2012,2013,2014,2015,2016,2017,2018,2019,2020,2021],\"xaxis\":\"x\",\"y\":[2117,2186,2044,3343,2454,2691,3029,2846,2816,2665,2658,2416,1871],\"yaxis\":\"y\",\"type\":\"scatter\"},{\"hovertemplate\":\"\\u5730\\u57df=\\u4e2d\\u91ce\\u533a<br>\\u5e74=%{x}<br>15\\u6b73\\u4eba\\u53e3=%{text}<extra></extra>\",\"legendgroup\":\"\\u4e2d\\u91ce\\u533a\",\"line\":{\"color\":\"#ab63fa\",\"dash\":\"solid\"},\"marker\":{\"symbol\":\"circle\"},\"mode\":\"lines+markers+text\",\"name\":\"\\u4e2d\\u91ce\\u533a\",\"orientation\":\"v\",\"showlegend\":true,\"text\":[2291.0,2201.0,2202.0,3095.0,2805.0,3067.0,3451.0,3222.0,3072.0,2994.0,2862.0,3061.0,2559.0],\"x\":[2009,2010,2011,2012,2013,2014,2015,2016,2017,2018,2019,2020,2021],\"xaxis\":\"x\",\"y\":[2291,2201,2202,3095,2805,3067,3451,3222,3072,2994,2862,3061,2559],\"yaxis\":\"y\",\"type\":\"scatter\"},{\"hovertemplate\":\"\\u5730\\u57df=\\u6749\\u4e26\\u533a<br>\\u5e74=%{x}<br>15\\u6b73\\u4eba\\u53e3=%{text}<extra></extra>\",\"legendgroup\":\"\\u6749\\u4e26\\u533a\",\"line\":{\"color\":\"#FFA15A\",\"dash\":\"solid\"},\"marker\":{\"symbol\":\"circle\"},\"mode\":\"lines+markers+text\",\"name\":\"\\u6749\\u4e26\\u533a\",\"orientation\":\"v\",\"showlegend\":true,\"text\":[4376.0,5029.0,4603.0,5248.0,5367.0,5631.0,6124.0,5862.0,5393.0,5739.0,5227.0,5184.0,3991.0],\"x\":[2009,2010,2011,2012,2013,2014,2015,2016,2017,2018,2019,2020,2021],\"xaxis\":\"x\",\"y\":[4376,5029,4603,5248,5367,5631,6124,5862,5393,5739,5227,5184,3991],\"yaxis\":\"y\",\"type\":\"scatter\"},{\"hovertemplate\":\"\\u5730\\u57df=\\u8c4a\\u5cf6\\u533a<br>\\u5e74=%{x}<br>15\\u6b73\\u4eba\\u53e3=%{text}<extra></extra>\",\"legendgroup\":\"\\u8c4a\\u5cf6\\u533a\",\"line\":{\"color\":\"#19d3f3\",\"dash\":\"solid\"},\"marker\":{\"symbol\":\"circle\"},\"mode\":\"lines+markers+text\",\"name\":\"\\u8c4a\\u5cf6\\u533a\",\"orientation\":\"v\",\"showlegend\":true,\"text\":[2086.0,2122.0,2349.0,3065.0,2595.0,2697.0,2627.0,2785.0,2621.0,2710.0,2502.0,2081.0,1786.0],\"x\":[2009,2010,2011,2012,2013,2014,2015,2016,2017,2018,2019,2020,2021],\"xaxis\":\"x\",\"y\":[2086,2122,2349,3065,2595,2697,2627,2785,2621,2710,2502,2081,1786],\"yaxis\":\"y\",\"type\":\"scatter\"},{\"hovertemplate\":\"\\u5730\\u57df=\\u5317\\u533a<br>\\u5e74=%{x}<br>15\\u6b73\\u4eba\\u53e3=%{text}<extra></extra>\",\"legendgroup\":\"\\u5317\\u533a\",\"line\":{\"color\":\"#FF6692\",\"dash\":\"solid\"},\"marker\":{\"symbol\":\"circle\"},\"mode\":\"lines+markers+text\",\"name\":\"\\u5317\\u533a\",\"orientation\":\"v\",\"showlegend\":true,\"text\":[2397.0,2556.0,2262.0,4006.0,3246.0,3651.0,3266.0,3719.0,3388.0,3736.0,3265.0,3100.0,2593.0],\"x\":[2009,2010,2011,2012,2013,2014,2015,2016,2017,2018,2019,2020,2021],\"xaxis\":\"x\",\"y\":[2397,2556,2262,4006,3246,3651,3266,3719,3388,3736,3265,3100,2593],\"yaxis\":\"y\",\"type\":\"scatter\"},{\"hovertemplate\":\"\\u5730\\u57df=\\u8352\\u5ddd\\u533a<br>\\u5e74=%{x}<br>15\\u6b73\\u4eba\\u53e3=%{text}<extra></extra>\",\"legendgroup\":\"\\u8352\\u5ddd\\u533a\",\"line\":{\"color\":\"#B6E880\",\"dash\":\"solid\"},\"marker\":{\"symbol\":\"circle\"},\"mode\":\"lines+markers+text\",\"name\":\"\\u8352\\u5ddd\\u533a\",\"orientation\":\"v\",\"showlegend\":true,\"text\":[2021.0,2282.0,2142.0,3255.0,2131.0,2249.0,2144.0,2221.0,1959.0,1671.0,1769.0,1661.0,1380.0],\"x\":[2009,2010,2011,2012,2013,2014,2015,2016,2017,2018,2019,2020,2021],\"xaxis\":\"x\",\"y\":[2021,2282,2142,3255,2131,2249,2144,2221,1959,1671,1769,1661,1380],\"yaxis\":\"y\",\"type\":\"scatter\"},{\"hovertemplate\":\"\\u5730\\u57df=\\u677f\\u6a4b\\u533a<br>\\u5e74=%{x}<br>15\\u6b73\\u4eba\\u53e3=%{text}<extra></extra>\",\"legendgroup\":\"\\u677f\\u6a4b\\u533a\",\"line\":{\"color\":\"#FF97FF\",\"dash\":\"solid\"},\"marker\":{\"symbol\":\"circle\"},\"mode\":\"lines+markers+text\",\"name\":\"\\u677f\\u6a4b\\u533a\",\"orientation\":\"v\",\"showlegend\":true,\"text\":[4422.0,4247.0,4424.0,5958.0,4878.0,4875.0,5226.0,5516.0,4589.0,4779.0,4159.0,3614.0,2710.0],\"x\":[2009,2010,2011,2012,2013,2014,2015,2016,2017,2018,2019,2020,2021],\"xaxis\":\"x\",\"y\":[4422,4247,4424,5958,4878,4875,5226,5516,4589,4779,4159,3614,2710],\"yaxis\":\"y\",\"type\":\"scatter\"},{\"hovertemplate\":\"\\u5730\\u57df=\\u7df4\\u99ac\\u533a<br>\\u5e74=%{x}<br>15\\u6b73\\u4eba\\u53e3=%{text}<extra></extra>\",\"legendgroup\":\"\\u7df4\\u99ac\\u533a\",\"line\":{\"color\":\"#FECB52\",\"dash\":\"solid\"},\"marker\":{\"symbol\":\"circle\"},\"mode\":\"lines+markers+text\",\"name\":\"\\u7df4\\u99ac\\u533a\",\"orientation\":\"v\",\"showlegend\":true,\"text\":[5814.0,6178.0,5860.0,6482.0,5849.0,6095.0,6127.0,6002.0,6003.0,5674.0,5679.0,5164.0,4547.0],\"x\":[2009,2010,2011,2012,2013,2014,2015,2016,2017,2018,2019,2020,2021],\"xaxis\":\"x\",\"y\":[5814,6178,5860,6482,5849,6095,6127,6002,6003,5674,5679,5164,4547],\"yaxis\":\"y\",\"type\":\"scatter\"},{\"hovertemplate\":\"\\u5730\\u57df=\\u8db3\\u7acb\\u533a<br>\\u5e74=%{x}<br>15\\u6b73\\u4eba\\u53e3=%{text}<extra></extra>\",\"legendgroup\":\"\\u8db3\\u7acb\\u533a\",\"line\":{\"color\":\"#636efa\",\"dash\":\"solid\"},\"marker\":{\"symbol\":\"circle\"},\"mode\":\"lines+markers+text\",\"name\":\"\\u8db3\\u7acb\\u533a\",\"orientation\":\"v\",\"showlegend\":true,\"text\":[5937.0,5466.0,5023.0,7793.0,5175.0,5458.0,5519.0,4617.0,4422.0,4322.0,3466.0,3528.0,2435.0],\"x\":[2009,2010,2011,2012,2013,2014,2015,2016,2017,2018,2019,2020,2021],\"xaxis\":\"x\",\"y\":[5937,5466,5023,7793,5175,5458,5519,4617,4422,4322,3466,3528,2435],\"yaxis\":\"y\",\"type\":\"scatter\"},{\"hovertemplate\":\"\\u5730\\u57df=\\u845b\\u98fe\\u533a<br>\\u5e74=%{x}<br>15\\u6b73\\u4eba\\u53e3=%{text}<extra></extra>\",\"legendgroup\":\"\\u845b\\u98fe\\u533a\",\"line\":{\"color\":\"#EF553B\",\"dash\":\"solid\"},\"marker\":{\"symbol\":\"circle\"},\"mode\":\"lines+markers+text\",\"name\":\"\\u845b\\u98fe\\u533a\",\"orientation\":\"v\",\"showlegend\":true,\"text\":[3550.0,4114.0,3205.0,4372.0,3588.0,3801.0,3735.0,4041.0,3666.0,3409.0,3157.0,2795.0,2272.0],\"x\":[2009,2010,2011,2012,2013,2014,2015,2016,2017,2018,2019,2020,2021],\"xaxis\":\"x\",\"y\":[3550,4114,3205,4372,3588,3801,3735,4041,3666,3409,3157,2795,2272],\"yaxis\":\"y\",\"type\":\"scatter\"},{\"hovertemplate\":\"\\u5730\\u57df=\\u6c5f\\u6238\\u5ddd\\u533a<br>\\u5e74=%{x}<br>15\\u6b73\\u4eba\\u53e3=%{text}<extra></extra>\",\"legendgroup\":\"\\u6c5f\\u6238\\u5ddd\\u533a\",\"line\":{\"color\":\"#00cc96\",\"dash\":\"solid\"},\"marker\":{\"symbol\":\"circle\"},\"mode\":\"lines+markers+text\",\"name\":\"\\u6c5f\\u6238\\u5ddd\\u533a\",\"orientation\":\"v\",\"showlegend\":true,\"text\":[5848.0,6142.0,4606.0,7164.0,4922.0,5319.0,5490.0,5241.0,5191.0,5151.0,4646.0,3234.0,2646.0],\"x\":[2009,2010,2011,2012,2013,2014,2015,2016,2017,2018,2019,2020,2021],\"xaxis\":\"x\",\"y\":[5848,6142,4606,7164,4922,5319,5490,5241,5191,5151,4646,3234,2646],\"yaxis\":\"y\",\"type\":\"scatter\"}],                        {\"template\":{\"data\":{\"histogram2dcontour\":[{\"type\":\"histogram2dcontour\",\"colorbar\":{\"outlinewidth\":0,\"ticks\":\"\"},\"colorscale\":[[0.0,\"#0d0887\"],[0.1111111111111111,\"#46039f\"],[0.2222222222222222,\"#7201a8\"],[0.3333333333333333,\"#9c179e\"],[0.4444444444444444,\"#bd3786\"],[0.5555555555555556,\"#d8576b\"],[0.6666666666666666,\"#ed7953\"],[0.7777777777777778,\"#fb9f3a\"],[0.8888888888888888,\"#fdca26\"],[1.0,\"#f0f921\"]]}],\"choropleth\":[{\"type\":\"choropleth\",\"colorbar\":{\"outlinewidth\":0,\"ticks\":\"\"}}],\"histogram2d\":[{\"type\":\"histogram2d\",\"colorbar\":{\"outlinewidth\":0,\"ticks\":\"\"},\"colorscale\":[[0.0,\"#0d0887\"],[0.1111111111111111,\"#46039f\"],[0.2222222222222222,\"#7201a8\"],[0.3333333333333333,\"#9c179e\"],[0.4444444444444444,\"#bd3786\"],[0.5555555555555556,\"#d8576b\"],[0.6666666666666666,\"#ed7953\"],[0.7777777777777778,\"#fb9f3a\"],[0.8888888888888888,\"#fdca26\"],[1.0,\"#f0f921\"]]}],\"heatmap\":[{\"type\":\"heatmap\",\"colorbar\":{\"outlinewidth\":0,\"ticks\":\"\"},\"colorscale\":[[0.0,\"#0d0887\"],[0.1111111111111111,\"#46039f\"],[0.2222222222222222,\"#7201a8\"],[0.3333333333333333,\"#9c179e\"],[0.4444444444444444,\"#bd3786\"],[0.5555555555555556,\"#d8576b\"],[0.6666666666666666,\"#ed7953\"],[0.7777777777777778,\"#fb9f3a\"],[0.8888888888888888,\"#fdca26\"],[1.0,\"#f0f921\"]]}],\"heatmapgl\":[{\"type\":\"heatmapgl\",\"colorbar\":{\"outlinewidth\":0,\"ticks\":\"\"},\"colorscale\":[[0.0,\"#0d0887\"],[0.1111111111111111,\"#46039f\"],[0.2222222222222222,\"#7201a8\"],[0.3333333333333333,\"#9c179e\"],[0.4444444444444444,\"#bd3786\"],[0.5555555555555556,\"#d8576b\"],[0.6666666666666666,\"#ed7953\"],[0.7777777777777778,\"#fb9f3a\"],[0.8888888888888888,\"#fdca26\"],[1.0,\"#f0f921\"]]}],\"contourcarpet\":[{\"type\":\"contourcarpet\",\"colorbar\":{\"outlinewidth\":0,\"ticks\":\"\"}}],\"contour\":[{\"type\":\"contour\",\"colorbar\":{\"outlinewidth\":0,\"ticks\":\"\"},\"colorscale\":[[0.0,\"#0d0887\"],[0.1111111111111111,\"#46039f\"],[0.2222222222222222,\"#7201a8\"],[0.3333333333333333,\"#9c179e\"],[0.4444444444444444,\"#bd3786\"],[0.5555555555555556,\"#d8576b\"],[0.6666666666666666,\"#ed7953\"],[0.7777777777777778,\"#fb9f3a\"],[0.8888888888888888,\"#fdca26\"],[1.0,\"#f0f921\"]]}],\"surface\":[{\"type\":\"surface\",\"colorbar\":{\"outlinewidth\":0,\"ticks\":\"\"},\"colorscale\":[[0.0,\"#0d0887\"],[0.1111111111111111,\"#46039f\"],[0.2222222222222222,\"#7201a8\"],[0.3333333333333333,\"#9c179e\"],[0.4444444444444444,\"#bd3786\"],[0.5555555555555556,\"#d8576b\"],[0.6666666666666666,\"#ed7953\"],[0.7777777777777778,\"#fb9f3a\"],[0.8888888888888888,\"#fdca26\"],[1.0,\"#f0f921\"]]}],\"mesh3d\":[{\"type\":\"mesh3d\",\"colorbar\":{\"outlinewidth\":0,\"ticks\":\"\"}}],\"scatter\":[{\"fillpattern\":{\"fillmode\":\"overlay\",\"size\":10,\"solidity\":0.2},\"type\":\"scatter\"}],\"parcoords\":[{\"type\":\"parcoords\",\"line\":{\"colorbar\":{\"outlinewidth\":0,\"ticks\":\"\"}}}],\"scatterpolargl\":[{\"type\":\"scatterpolargl\",\"marker\":{\"colorbar\":{\"outlinewidth\":0,\"ticks\":\"\"}}}],\"bar\":[{\"error_x\":{\"color\":\"#2a3f5f\"},\"error_y\":{\"color\":\"#2a3f5f\"},\"marker\":{\"line\":{\"color\":\"#E5ECF6\",\"width\":0.5},\"pattern\":{\"fillmode\":\"overlay\",\"size\":10,\"solidity\":0.2}},\"type\":\"bar\"}],\"scattergeo\":[{\"type\":\"scattergeo\",\"marker\":{\"colorbar\":{\"outlinewidth\":0,\"ticks\":\"\"}}}],\"scatterpolar\":[{\"type\":\"scatterpolar\",\"marker\":{\"colorbar\":{\"outlinewidth\":0,\"ticks\":\"\"}}}],\"histogram\":[{\"marker\":{\"pattern\":{\"fillmode\":\"overlay\",\"size\":10,\"solidity\":0.2}},\"type\":\"histogram\"}],\"scattergl\":[{\"type\":\"scattergl\",\"marker\":{\"colorbar\":{\"outlinewidth\":0,\"ticks\":\"\"}}}],\"scatter3d\":[{\"type\":\"scatter3d\",\"line\":{\"colorbar\":{\"outlinewidth\":0,\"ticks\":\"\"}},\"marker\":{\"colorbar\":{\"outlinewidth\":0,\"ticks\":\"\"}}}],\"scattermapbox\":[{\"type\":\"scattermapbox\",\"marker\":{\"colorbar\":{\"outlinewidth\":0,\"ticks\":\"\"}}}],\"scatterternary\":[{\"type\":\"scatterternary\",\"marker\":{\"colorbar\":{\"outlinewidth\":0,\"ticks\":\"\"}}}],\"scattercarpet\":[{\"type\":\"scattercarpet\",\"marker\":{\"colorbar\":{\"outlinewidth\":0,\"ticks\":\"\"}}}],\"carpet\":[{\"aaxis\":{\"endlinecolor\":\"#2a3f5f\",\"gridcolor\":\"white\",\"linecolor\":\"white\",\"minorgridcolor\":\"white\",\"startlinecolor\":\"#2a3f5f\"},\"baxis\":{\"endlinecolor\":\"#2a3f5f\",\"gridcolor\":\"white\",\"linecolor\":\"white\",\"minorgridcolor\":\"white\",\"startlinecolor\":\"#2a3f5f\"},\"type\":\"carpet\"}],\"table\":[{\"cells\":{\"fill\":{\"color\":\"#EBF0F8\"},\"line\":{\"color\":\"white\"}},\"header\":{\"fill\":{\"color\":\"#C8D4E3\"},\"line\":{\"color\":\"white\"}},\"type\":\"table\"}],\"barpolar\":[{\"marker\":{\"line\":{\"color\":\"#E5ECF6\",\"width\":0.5},\"pattern\":{\"fillmode\":\"overlay\",\"size\":10,\"solidity\":0.2}},\"type\":\"barpolar\"}],\"pie\":[{\"automargin\":true,\"type\":\"pie\"}]},\"layout\":{\"autotypenumbers\":\"strict\",\"colorway\":[\"#636efa\",\"#EF553B\",\"#00cc96\",\"#ab63fa\",\"#FFA15A\",\"#19d3f3\",\"#FF6692\",\"#B6E880\",\"#FF97FF\",\"#FECB52\"],\"font\":{\"color\":\"#2a3f5f\"},\"hovermode\":\"closest\",\"hoverlabel\":{\"align\":\"left\"},\"paper_bgcolor\":\"white\",\"plot_bgcolor\":\"#E5ECF6\",\"polar\":{\"bgcolor\":\"#E5ECF6\",\"angularaxis\":{\"gridcolor\":\"white\",\"linecolor\":\"white\",\"ticks\":\"\"},\"radialaxis\":{\"gridcolor\":\"white\",\"linecolor\":\"white\",\"ticks\":\"\"}},\"ternary\":{\"bgcolor\":\"#E5ECF6\",\"aaxis\":{\"gridcolor\":\"white\",\"linecolor\":\"white\",\"ticks\":\"\"},\"baxis\":{\"gridcolor\":\"white\",\"linecolor\":\"white\",\"ticks\":\"\"},\"caxis\":{\"gridcolor\":\"white\",\"linecolor\":\"white\",\"ticks\":\"\"}},\"coloraxis\":{\"colorbar\":{\"outlinewidth\":0,\"ticks\":\"\"}},\"colorscale\":{\"sequential\":[[0.0,\"#0d0887\"],[0.1111111111111111,\"#46039f\"],[0.2222222222222222,\"#7201a8\"],[0.3333333333333333,\"#9c179e\"],[0.4444444444444444,\"#bd3786\"],[0.5555555555555556,\"#d8576b\"],[0.6666666666666666,\"#ed7953\"],[0.7777777777777778,\"#fb9f3a\"],[0.8888888888888888,\"#fdca26\"],[1.0,\"#f0f921\"]],\"sequentialminus\":[[0.0,\"#0d0887\"],[0.1111111111111111,\"#46039f\"],[0.2222222222222222,\"#7201a8\"],[0.3333333333333333,\"#9c179e\"],[0.4444444444444444,\"#bd3786\"],[0.5555555555555556,\"#d8576b\"],[0.6666666666666666,\"#ed7953\"],[0.7777777777777778,\"#fb9f3a\"],[0.8888888888888888,\"#fdca26\"],[1.0,\"#f0f921\"]],\"diverging\":[[0,\"#8e0152\"],[0.1,\"#c51b7d\"],[0.2,\"#de77ae\"],[0.3,\"#f1b6da\"],[0.4,\"#fde0ef\"],[0.5,\"#f7f7f7\"],[0.6,\"#e6f5d0\"],[0.7,\"#b8e186\"],[0.8,\"#7fbc41\"],[0.9,\"#4d9221\"],[1,\"#276419\"]]},\"xaxis\":{\"gridcolor\":\"white\",\"linecolor\":\"white\",\"ticks\":\"\",\"title\":{\"standoff\":15},\"zerolinecolor\":\"white\",\"automargin\":true,\"zerolinewidth\":2},\"yaxis\":{\"gridcolor\":\"white\",\"linecolor\":\"white\",\"ticks\":\"\",\"title\":{\"standoff\":15},\"zerolinecolor\":\"white\",\"automargin\":true,\"zerolinewidth\":2},\"scene\":{\"xaxis\":{\"backgroundcolor\":\"#E5ECF6\",\"gridcolor\":\"white\",\"linecolor\":\"white\",\"showbackground\":true,\"ticks\":\"\",\"zerolinecolor\":\"white\",\"gridwidth\":2},\"yaxis\":{\"backgroundcolor\":\"#E5ECF6\",\"gridcolor\":\"white\",\"linecolor\":\"white\",\"showbackground\":true,\"ticks\":\"\",\"zerolinecolor\":\"white\",\"gridwidth\":2},\"zaxis\":{\"backgroundcolor\":\"#E5ECF6\",\"gridcolor\":\"white\",\"linecolor\":\"white\",\"showbackground\":true,\"ticks\":\"\",\"zerolinecolor\":\"white\",\"gridwidth\":2}},\"shapedefaults\":{\"line\":{\"color\":\"#2a3f5f\"}},\"annotationdefaults\":{\"arrowcolor\":\"#2a3f5f\",\"arrowhead\":0,\"arrowwidth\":1},\"geo\":{\"bgcolor\":\"white\",\"landcolor\":\"#E5ECF6\",\"subunitcolor\":\"white\",\"showland\":true,\"showlakes\":true,\"lakecolor\":\"white\"},\"title\":{\"x\":0.05},\"mapbox\":{\"style\":\"light\"}}},\"xaxis\":{\"anchor\":\"y\",\"domain\":[0.0,1.0],\"title\":{\"text\":\"\\u5e74\"}},\"yaxis\":{\"anchor\":\"x\",\"domain\":[0.0,1.0],\"title\":{\"text\":\"15\\u6b73\\u4eba\\u53e3\"}},\"legend\":{\"title\":{\"text\":\"\\u5730\\u57df\"},\"tracegroupgap\":0},\"title\":{\"text\":\"15\\u6b73\\u4eba\\u53e3\\u306e\\u63a8\\u79fb\"},\"height\":800,\"width\":1000},                        {\"responsive\": true}                    ).then(function(){\n",
       "                            \n",
       "var gd = document.getElementById('13b6b058-5b36-4165-9224-b22fd326772a');\n",
       "var x = new MutationObserver(function (mutations, observer) {{\n",
       "        var display = window.getComputedStyle(gd).display;\n",
       "        if (!display || display === 'none') {{\n",
       "            console.log([gd, 'removed!']);\n",
       "            Plotly.purge(gd);\n",
       "            observer.disconnect();\n",
       "        }}\n",
       "}});\n",
       "\n",
       "// Listen for the removal of the full notebook cells\n",
       "var notebookContainer = gd.closest('#notebook-container');\n",
       "if (notebookContainer) {{\n",
       "    x.observe(notebookContainer, {childList: true});\n",
       "}}\n",
       "\n",
       "// Listen for the clearing of the current output cell\n",
       "var outputEl = gd.closest('.output');\n",
       "if (outputEl) {{\n",
       "    x.observe(outputEl, {childList: true});\n",
       "}}\n",
       "\n",
       "                        })                };                });            </script>        </div>"
      ]
     },
     "metadata": {},
     "output_type": "display_data"
    }
   ],
   "source": [
    "fig_old.update_traces(textposition='outside')\n",
    "fig_old.show()\n",
    "fig_young.update_traces(textposition='outside')\n",
    "fig_young.show()\n",
    "\n",
    "fig_fifteen.show()"
   ]
  }
 ],
 "metadata": {
  "kernelspec": {
   "display_name": "Python 3 (ipykernel)",
   "language": "python",
   "name": "python3"
  },
  "language_info": {
   "codemirror_mode": {
    "name": "ipython",
    "version": 3
   },
   "file_extension": ".py",
   "mimetype": "text/x-python",
   "name": "python",
   "nbconvert_exporter": "python",
   "pygments_lexer": "ipython3",
   "version": "3.10.8"
  }
 },
 "nbformat": 4,
 "nbformat_minor": 5
}
