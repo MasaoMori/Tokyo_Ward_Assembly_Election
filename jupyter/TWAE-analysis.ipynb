{
 "cells": [
  {
   "cell_type": "raw",
   "id": "7ab79c3d-1d99-4e0c-9e51-577bb305aa2d",
   "metadata": {},
   "source": [
    "import pandas as pd\n",
    "import numpy as np\n",
    "\n",
    "file = './区議会議員選挙過去データ.xlsx'\n",
    "results = pd.read_excel(file, \n",
    "                        sheet_name=\"選挙結果\",\n",
    "                        dtype={'得票数':float,'得票率%':float})\n",
    "\n",
    "parties = pd.read_excel(file, sheet_name=\"政党名\")\n",
    "\n",
    "ward_master = pd.read_excel(file, sheet_name='区名マスタ')\n",
    "\n",
    "election = pd.read_excel(file, sheet_name='選挙概要')\n"
   ]
  },
  {
   "cell_type": "code",
   "execution_count": 7,
   "id": "ef20a36b-491f-4d4e-baaf-ffbdfa2d9c89",
   "metadata": {},
   "outputs": [
    {
     "name": "stdout",
     "output_type": "stream",
     "text": [
      "/Users/mori/Documents/Devel/Tokyo_Ward_Assembly_Election/jupyter/../data/ /Users/mori/Documents/Devel/Tokyo_Ward_Assembly_Election/jupyter/../data\n"
     ]
    }
   ],
   "source": [
    "import os\n",
    "import pathlib\n",
    "\n",
    "cpath = os.getcwd() + '/../data/'\n",
    "ppath = str(pathlib.Path(cpath))\n",
    "print(cpath, ppath)"
   ]
  },
  {
   "cell_type": "code",
   "execution_count": 8,
   "id": "de4e69f1-9bbf-4091-a3ea-3741f40e6e37",
   "metadata": {},
   "outputs": [],
   "source": [
    "import pandas as pd\n",
    "import numpy as np\n",
    "\n",
    "\n",
    "\n",
    "file = cpath + '区議会議員選挙過去データ.xlsx'\n",
    "#raw = pd.read_excel(file, \n",
    "#                        sheet_name=\"選挙結果\",\n",
    "#                        dtype={'得票数':float,'得票率%':float})\n",
    "#\n",
    "#parties = pd.read_excel(file, sheet_name=\"政党名\")\n",
    "#ward_master = pd.read_excel(file, sheet_name='区名マスタ')\n",
    "#election = pd.read_excel(file, sheet_name='選挙概要')\n",
    "\n",
    "\n",
    "raw = pd.read_csv( cpath + 'election_raw.csv',\n",
    "                      dtype={'得票数':float,'得票率%':float})\n",
    "\n",
    "parties = pd.read_csv( cpath + 'parties.csv')\n",
    "\n",
    "ward_master = pd.read_csv( cpath + 'ward_master.csv')\n",
    "\n",
    "summary = pd.read_csv( cpath + 'summary.csv')\n",
    "\n",
    "data = pd.read_csv( cpath + 'election.csv')\n",
    "\n",
    "results = data # pd.merge(pd.merge(data, parties, on=\"党派\"), ward_master, on='区名')\n",
    "\n",
    "lineg_data = results[results['当落']=='当'].loc[:,['年','区名','氏名','得票数','得票率%','略称党名']]"
   ]
  },
  {
   "cell_type": "code",
   "execution_count": null,
   "id": "09e761e0-18c0-49ee-b366-09e37ff41c9c",
   "metadata": {},
   "outputs": [],
   "source": [
    "lineg_data[lineg_data[['区名']].duplicated()]['区名']"
   ]
  },
  {
   "cell_type": "code",
   "execution_count": null,
   "id": "75d36548-06a6-41f0-a22f-ad51d83344a8",
   "metadata": {},
   "outputs": [],
   "source": [
    "lineg_data = results[results['当落']=='当'].loc[:,['年','区名','氏名','得票数','得票率%','略称党名']]\n",
    "\n",
    "m=lineg_data[lineg_data['区名']=='目黒']\n",
    "\n",
    "#megro = pd.concat([m,m['氏名'].str.split('　',expand=True)[0] + '('+megro['略称党名']+ ')'],axis=1).rename(columns={0:'候補者'})\n",
    "megro = pd.concat([m,m['氏名'] + '('+m['略称党名']+ ')'],axis=1).rename(columns={0:'候補者'})\n",
    "\n",
    "\n",
    "megro"
   ]
  },
  {
   "cell_type": "code",
   "execution_count": null,
   "id": "54aa8459-9f05-4276-938a-c97d706bc4e6",
   "metadata": {},
   "outputs": [],
   "source": [
    "a=megro.pivot(index=['年','区名'],columns='氏名',values='得票数').reset_index()"
   ]
  },
  {
   "cell_type": "code",
   "execution_count": null,
   "id": "fe2be339-9cd1-441c-b6f5-d60bf207673b",
   "metadata": {},
   "outputs": [],
   "source": [
    "a.columns[2:]"
   ]
  },
  {
   "cell_type": "code",
   "execution_count": null,
   "id": "c8262aa2-7d5d-4d86-a2c7-e09f91653948",
   "metadata": {},
   "outputs": [],
   "source": [
    "import plotly.graph_objects as go\n",
    "\n",
    "data=[]\n",
    "\n",
    "for col in a[2:]:\n",
    "    data.append(\n",
    "        go.Scatter(\n",
    "            x=a['年'],\n",
    "            y=a[col],\n",
    "            name=col\n",
    "        )\n",
    "    )\n",
    "\n",
    "go.Figure(data).show()"
   ]
  },
  {
   "cell_type": "code",
   "execution_count": null,
   "id": "35f2c4ec-5d83-4b5b-a6a8-a32ebbd8cc54",
   "metadata": {},
   "outputs": [],
   "source": [
    "import pandas as pd\n",
    "import plotly.express as px\n",
    "\n",
    "fig =px.line(\n",
    "            megro,\n",
    "            x='年',\n",
    "            y='得票数',\n",
    "            color='氏名',\n",
    "            title='目黒',\n",
    "            markers=True\n",
    ")\n",
    "\n",
    "fig.show()\n",
    "\n"
   ]
  },
  {
   "cell_type": "code",
   "execution_count": null,
   "id": "741adf97-8d47-48dc-bd20-bec60bbe18b9",
   "metadata": {},
   "outputs": [],
   "source": [
    "megro[megro['年']==2011].sort_values('得票数', )"
   ]
  }
 ],
 "metadata": {
  "kernelspec": {
   "display_name": "Python 3 (ipykernel)",
   "language": "python",
   "name": "python3"
  },
  "language_info": {
   "codemirror_mode": {
    "name": "ipython",
    "version": 3
   },
   "file_extension": ".py",
   "mimetype": "text/x-python",
   "name": "python",
   "nbconvert_exporter": "python",
   "pygments_lexer": "ipython3",
   "version": "3.10.8"
  }
 },
 "nbformat": 4,
 "nbformat_minor": 5
}
