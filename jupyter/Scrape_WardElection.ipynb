{
 "cells": [
  {
   "cell_type": "code",
   "execution_count": 1,
   "id": "21699962-a3f8-4bd8-9915-68142f88b41c",
   "metadata": {},
   "outputs": [],
   "source": [
    "import pandas as pd\n",
    "import html5lib\n",
    "import requests as rq\n",
    "from bs4 import BeautifulSoup\n",
    "import os\n",
    "import pathlib\n",
    "\n",
    "def cols(d):\n",
    "    print(list(d.columns))\n",
    "\n",
    "\n",
    "cpath = os.getcwd() + '/../data/'\n",
    "ppath = str(pathlib.Path(cpath))"
   ]
  },
  {
   "cell_type": "raw",
   "id": "46347de2-0635-4ff1-962f-77e28fb102a0",
   "metadata": {},
   "source": [
    "r = rq.get('https://seijiyama.jp/area/card/3624/d3caG9/M?S=lcqdt2mes')\n",
    "soup = BeautifulSoup(r.content, \"html.parser\")\n",
    "summary = soup.find('table')\n",
    "tabular = soup.find(\"table\", {'id':'smp-table-14040'}).find_all('tr')\n",
    "\n",
    "print([td.text.replace('\\r\\n','') for td in summary.find_all('td')])\n",
    "\n",
    "for x in tabular[3:-3]:\n",
    "    l = [td.text.replace('\\u3000',' ').replace('\\n','') for td in x.find_all('td')]\n",
    "    l[3] = x.find('a', {'class':'name-kanji'}).text.replace('\\u3000',' ')\n",
    "    if l[0] =='':\n",
    "        l[0] = '落'\n",
    "    print(l)\n",
    "\n",
    "tabular[5].find_all('td')[3]\n",
    "\n",
    "list =[]\n",
    "for x in tabular[3:-3]:\n",
    "    l = [td.text.replace('\\u3000',' ').replace('\\n','') for td in x.find_all('td')]\n",
    "    if l[0] =='':\n",
    "        l[0] = '落'\n",
    "    list.append(l)"
   ]
  },
  {
   "cell_type": "raw",
   "id": "b6d71561-13e4-491e-9980-213345acf29f",
   "metadata": {},
   "source": [
    "import re\n",
    "\n",
    "r = rq.get('https://seijiyama.jp/area/card/3624/d3caG9/M?S=lcqdt2mes')\n",
    "soup = BeautifulSoup(r.content, \"html.parser\")\n",
    "summary = soup.find('table')\n",
    "\n",
    "ymd = u'[年月日]'\n",
    "\n",
    "#print(re.sub(ymd,'/',(u'告示日2011年4月17日').replace('告示日')))\n",
    "a = [td.text.replace('\\r\\n','') for td in summary.find_all('td')]\n",
    "#print(a)\n",
    "b=[]\n",
    "b.append(re.sub(ymd, '/', a[0].replace(u'告示','').replace('日','')))\n",
    "b.append(re.sub(ymd, '/', a[1].replace(u'投票','').replace('日','')))\n",
    "b.extend(a[2].replace(u'定数\\xa0/\\xa0候補者数','').split('\\xa0/\\xa0'))\n",
    "b.append(a[3].replace(u'執行理由',''))\n",
    "b.append(a[4].replace(u'有権者数','').replace(u' ','').replace(u'人','').replace(',',''))\n",
    "b.append(a[5].replace(u'投票率','').replace(u' ','').replace(u'%',''))\n",
    "b.append(a[6].replace(u'前回投票率','').replace(u' ','').replace(u'%','').replace('\\n',''))\n",
    "b.append(a[7].replace('\\n',''))\n",
    "\n",
    "print(b)\n"
   ]
  },
  {
   "cell_type": "markdown",
   "id": "580b7cae-7660-434b-98a9-976d88dc46fa",
   "metadata": {},
   "source": [
    "### * 選挙概要"
   ]
  },
  {
   "cell_type": "raw",
   "id": "47bab2f5-9d59-4c85-9219-696a057d782f",
   "metadata": {},
   "source": [
    "import re\n",
    "\n",
    "urls = pd.read_excel(cpath + 'ward_election_datasite.xlsx')\n",
    "sum_cols =['区名','年','告示日','投票日','定数', '候補者数', '執行理由','有権者数','投票率%','前回投票率']\n",
    "\n",
    "ele_sum = []\n",
    "ymd = u'[年月日]'\n",
    "\n",
    "for url in urls.itertuples():\n",
    "    print(url.ward, url.year)\n",
    "#    try:\n",
    "    r = rq.get(url.URL)\n",
    "    soup = BeautifulSoup(r.content, \"html.parser\")\n",
    "    summary = soup.find('table')\n",
    "\n",
    "    a = [td.text.replace('\\r\\n','') for td in summary.find_all('td')]\n",
    "\n",
    "    b=[]\n",
    "    b.append(re.sub(ymd, '/', a[0].replace(u'告示','').replace('日','')))\n",
    "    b.append(re.sub(ymd, '/', a[1].replace(u'投票','').replace('日','')))\n",
    "    b.extend(list(map(int,a[2].replace(u'定数\\xa0/\\xa0候補者数','').split('\\xa0/\\xa0'))))\n",
    "    b.append(a[3].replace(u'執行理由',''))\n",
    "    b.append(float(a[4].replace(u'有権者数','').replace(u' ','').replace(u'人','').replace(',','')))\n",
    "    b.append(float(a[5].replace(u'投票率','').replace(u' ','').replace(u'%','')))\n",
    "    k = a[6].replace(u'前回投票率','').replace(u' ','').replace(u'%','').replace('\\n','')\n",
    "    if not (k == ''):\n",
    "        b.append(float(k))\n",
    "    else:\n",
    "        b.append(k)\n",
    "#        b.append(a[7].replace(u'関連情報','').replace('\\n',''))\n",
    "\n",
    "    b = [url.ward, url.year]+b\n",
    "    ele_sum.append(b)\n",
    "\n",
    "#    except:\n",
    "#        print('Error@'+url.ward+str(url.year))\n",
    "\n",
    "ee = pd.DataFrame(ele_sum, columns=sum_cols)\n",
    "\n",
    "ee.to_csv(cpath + 'all_election_summary.csv', index=False)"
   ]
  },
  {
   "cell_type": "markdown",
   "id": "b1ad1f2b-c44d-45e4-a3b4-dc7141a05674",
   "metadata": {},
   "source": [
    "### * 選挙結果"
   ]
  },
  {
   "cell_type": "code",
   "execution_count": null,
   "id": "6e75b37a-2e89-4e88-9b8c-1da572d8d9fe",
   "metadata": {},
   "outputs": [],
   "source": [
    "cols = ['当落','得票数','a','氏名','年齢','性別','党派','新旧','主な肩書き','b','区名','年']\n",
    "sum_cols =['区名','年','告示日','投票日','定数・候補者数', '執行理由','有権者数','投票率','前回投票率','関連','b']\n",
    "#urls = pd.read_excel(cpath + 'chiyoda.xlsx')\n",
    "urls = pd.read_excel(cpath + 'ward_election_datasite.xlsx')\n",
    "\n",
    "result = pd.DataFrame(columns=cols)\n",
    "\n",
    "for url in urls.itertuples():\n",
    "    try:\n",
    "        r = rq.get(url.URL)\n",
    "        soup = BeautifulSoup(r.content, \"html.parser\")\n",
    "        tabular = soup.find(\"table\", {'id':'smp-table-14040'}).find_all('tr')\n",
    "\n",
    "        result_list = []\n",
    "        for x in tabular[3:-3]:\n",
    "            l = [td.text.replace('\\u3000',' ').replace('\\n','') for td in x.find_all('td')] + [url.ward, url.year]\n",
    "            l[3] = x.find('a', {'class':'name-kanji'}).text.replace('\\u3000',' ')\n",
    "            if l[0] =='':\n",
    "                l[0] = '落'\n",
    "            result_list.append(l)\n",
    "\n",
    "        result = pd.concat([result, pd.DataFrame(result_list, columns=cols)])\n",
    "    except:\n",
    "        print('Error@'+url.ward+str(url.year))\n",
    "\n",
    "\n",
    "try:\n",
    "    result.to_csv(cpath + 'election.csv', index=False)\n",
    "except:\n",
    "    print('Error-Write')\n",
    "\n"
   ]
  },
  {
   "cell_type": "markdown",
   "id": "b3b28937-5d34-4820-87af-fa8e0f2c0a83",
   "metadata": {},
   "source": [
    "# 統合"
   ]
  },
  {
   "cell_type": "markdown",
   "id": "c7ee2a3e-a014-4697-9536-d5356a22bca3",
   "metadata": {},
   "source": [
    "### 1.読込み"
   ]
  },
  {
   "cell_type": "code",
   "execution_count": 2,
   "id": "f8765357-d8ea-40be-bdd2-69201c0bfd2e",
   "metadata": {},
   "outputs": [],
   "source": [
    "cur_coln = ['年','区名','当落', '得票数', '氏名', '年齢', '性別', '党派', '新旧', '主な肩書き']\n",
    "smy_coln = ['年', '区名', '投票日', '告示日', '定数', '候補者数', '有権者数','投票率%']\n",
    "pre = pd.read_csv(cpath + 'election_org.csv')\n",
    "pre['得票率%']=round(pre['得票率%'],2)\n",
    "\n",
    "cur = pd.read_csv(cpath + 'all_election.csv')[cur_coln]\n",
    "ward = pd.read_csv(cpath + 'ward_master.csv')\n",
    "par = pd.read_csv(cpath + 'parties_org.csv')\n",
    "smy = pd.read_csv(cpath + 'all_election_summary.csv')[smy_coln]\n",
    "psmy = pd.read_csv(cpath + 'summary_org.csv')"
   ]
  },
  {
   "cell_type": "markdown",
   "id": "8ec44ef7-f402-4d19-803b-b7f619545b41",
   "metadata": {},
   "source": [
    "### 2.概要"
   ]
  },
  {
   "cell_type": "code",
   "execution_count": 3,
   "id": "1b82b741-f719-49f6-a590-b3f1ec7063eb",
   "metadata": {},
   "outputs": [
    {
     "data": {
      "text/html": [
       "<div>\n",
       "<style scoped>\n",
       "    .dataframe tbody tr th:only-of-type {\n",
       "        vertical-align: middle;\n",
       "    }\n",
       "\n",
       "    .dataframe tbody tr th {\n",
       "        vertical-align: top;\n",
       "    }\n",
       "\n",
       "    .dataframe thead th {\n",
       "        text-align: right;\n",
       "    }\n",
       "</style>\n",
       "<table border=\"1\" class=\"dataframe\">\n",
       "  <thead>\n",
       "    <tr style=\"text-align: right;\">\n",
       "      <th></th>\n",
       "      <th>年</th>\n",
       "      <th>区名</th>\n",
       "      <th>投票日</th>\n",
       "      <th>告示日</th>\n",
       "      <th>定数</th>\n",
       "      <th>候補者数</th>\n",
       "      <th>有権者数</th>\n",
       "      <th>投票率%</th>\n",
       "      <th>投票者数</th>\n",
       "    </tr>\n",
       "  </thead>\n",
       "  <tbody>\n",
       "    <tr>\n",
       "      <th>0</th>\n",
       "      <td>2011</td>\n",
       "      <td>目黒</td>\n",
       "      <td>2011/4/24</td>\n",
       "      <td>2011/4/17</td>\n",
       "      <td>35</td>\n",
       "      <td>55</td>\n",
       "      <td>213,142</td>\n",
       "      <td>38.96</td>\n",
       "      <td>83,040.123</td>\n",
       "    </tr>\n",
       "    <tr>\n",
       "      <th>1</th>\n",
       "      <td>2011</td>\n",
       "      <td>品川</td>\n",
       "      <td>2011/4/24</td>\n",
       "      <td>2011/4/17</td>\n",
       "      <td>40</td>\n",
       "      <td>55</td>\n",
       "      <td>296,585</td>\n",
       "      <td>40.58</td>\n",
       "      <td>120,354.193</td>\n",
       "    </tr>\n",
       "    <tr>\n",
       "      <th>2</th>\n",
       "      <td>2011</td>\n",
       "      <td>大田</td>\n",
       "      <td>2011/4/24</td>\n",
       "      <td>2011/4/17</td>\n",
       "      <td>50</td>\n",
       "      <td>73</td>\n",
       "      <td>561,414</td>\n",
       "      <td>43.29</td>\n",
       "      <td>243,036.121</td>\n",
       "    </tr>\n",
       "    <tr>\n",
       "      <th>3</th>\n",
       "      <td>2011</td>\n",
       "      <td>渋谷</td>\n",
       "      <td>2011/4/24</td>\n",
       "      <td>2011/4/17</td>\n",
       "      <td>34</td>\n",
       "      <td>46</td>\n",
       "      <td>168,344</td>\n",
       "      <td>40.22</td>\n",
       "      <td>67,707.957</td>\n",
       "    </tr>\n",
       "    <tr>\n",
       "      <th>4</th>\n",
       "      <td>2011</td>\n",
       "      <td>中央</td>\n",
       "      <td>2011/4/24</td>\n",
       "      <td>2011/4/17</td>\n",
       "      <td>30</td>\n",
       "      <td>39</td>\n",
       "      <td>97,887</td>\n",
       "      <td>45.59</td>\n",
       "      <td>44,626.683</td>\n",
       "    </tr>\n",
       "    <tr>\n",
       "      <th>...</th>\n",
       "      <td>...</td>\n",
       "      <td>...</td>\n",
       "      <td>...</td>\n",
       "      <td>...</td>\n",
       "      <td>...</td>\n",
       "      <td>...</td>\n",
       "      <td>...</td>\n",
       "      <td>...</td>\n",
       "      <td>...</td>\n",
       "    </tr>\n",
       "    <tr>\n",
       "      <th>42</th>\n",
       "      <td>2015</td>\n",
       "      <td>江戸川</td>\n",
       "      <td>2015/4/26</td>\n",
       "      <td>2015/4/19</td>\n",
       "      <td>44</td>\n",
       "      <td>58</td>\n",
       "      <td>523417.0</td>\n",
       "      <td>43.12</td>\n",
       "      <td>225697.4104</td>\n",
       "    </tr>\n",
       "    <tr>\n",
       "      <th>43</th>\n",
       "      <td>2019</td>\n",
       "      <td>江戸川</td>\n",
       "      <td>2019/4/21</td>\n",
       "      <td>2019/4/14</td>\n",
       "      <td>44</td>\n",
       "      <td>58</td>\n",
       "      <td>547625.0</td>\n",
       "      <td>42.40</td>\n",
       "      <td>232193.0</td>\n",
       "    </tr>\n",
       "    <tr>\n",
       "      <th>44</th>\n",
       "      <td>2011</td>\n",
       "      <td>千代田</td>\n",
       "      <td>2011/4/24</td>\n",
       "      <td>2011/4/17</td>\n",
       "      <td>25</td>\n",
       "      <td>41</td>\n",
       "      <td>39195.0</td>\n",
       "      <td>49.66</td>\n",
       "      <td>19464.237</td>\n",
       "    </tr>\n",
       "    <tr>\n",
       "      <th>45</th>\n",
       "      <td>2015</td>\n",
       "      <td>千代田</td>\n",
       "      <td>2015/4/26</td>\n",
       "      <td>2015/4/19</td>\n",
       "      <td>25</td>\n",
       "      <td>38</td>\n",
       "      <td>44202.0</td>\n",
       "      <td>47.97</td>\n",
       "      <td>21203.6994</td>\n",
       "    </tr>\n",
       "    <tr>\n",
       "      <th>46</th>\n",
       "      <td>2019</td>\n",
       "      <td>千代田</td>\n",
       "      <td>2019/4/21</td>\n",
       "      <td>2019/4/14</td>\n",
       "      <td>25</td>\n",
       "      <td>37</td>\n",
       "      <td>49442.0</td>\n",
       "      <td>48.06</td>\n",
       "      <td>23761.8252</td>\n",
       "    </tr>\n",
       "  </tbody>\n",
       "</table>\n",
       "<p>65 rows × 9 columns</p>\n",
       "</div>"
      ],
      "text/plain": [
       "       年   区名        投票日        告示日  定数  候補者数      有権者数   投票率%          投票者数\n",
       "0   2011   目黒  2011/4/24  2011/4/17  35    55  213,142   38.96   83,040.123 \n",
       "1   2011   品川  2011/4/24  2011/4/17  40    55  296,585   40.58  120,354.193 \n",
       "2   2011   大田  2011/4/24  2011/4/17  50    73  561,414   43.29  243,036.121 \n",
       "3   2011   渋谷  2011/4/24  2011/4/17  34    46  168,344   40.22   67,707.957 \n",
       "4   2011   中央  2011/4/24  2011/4/17  30    39   97,887   45.59   44,626.683 \n",
       "..   ...  ...        ...        ...  ..   ...       ...    ...           ...\n",
       "42  2015  江戸川  2015/4/26  2015/4/19  44    58  523417.0  43.12   225697.4104\n",
       "43  2019  江戸川  2019/4/21  2019/4/14  44    58  547625.0  42.40      232193.0\n",
       "44  2011  千代田  2011/4/24  2011/4/17  25    41   39195.0  49.66     19464.237\n",
       "45  2015  千代田  2015/4/26  2015/4/19  25    38   44202.0  47.97    21203.6994\n",
       "46  2019  千代田  2019/4/21  2019/4/14  25    37   49442.0  48.06    23761.8252\n",
       "\n",
       "[65 rows x 9 columns]"
      ]
     },
     "execution_count": 3,
     "metadata": {},
     "output_type": "execute_result"
    }
   ],
   "source": [
    "smy['投票者数'] = (smy['投票率%']/100 ) * smy['有権者数']\n",
    "\n",
    "full_smy = pd.concat([psmy, smy])\n",
    "\n",
    "full_smy.to_csv(cpath + 'summary.csv', index=False)\n",
    "full_smy"
   ]
  },
  {
   "cell_type": "code",
   "execution_count": 4,
   "id": "b1ea8462-9a18-4f59-8478-34ee7aa4751b",
   "metadata": {},
   "outputs": [],
   "source": [
    "small_smy=smy[['年','区名','投票者数']] ##　結果整理用"
   ]
  },
  {
   "cell_type": "markdown",
   "id": "29ecb444-3b54-4956-83a9-25f6c0071fdf",
   "metadata": {},
   "source": [
    "### 3.党派"
   ]
  },
  {
   "cell_type": "markdown",
   "id": "359bb538-f2b2-4fe3-97b7-1b2bebfa008c",
   "metadata": {},
   "source": [
    "### 4.投票結果"
   ]
  },
  {
   "cell_type": "code",
   "execution_count": 5,
   "id": "46b2ae55-3c35-42c7-bef1-d37ed27ff0eb",
   "metadata": {},
   "outputs": [],
   "source": [
    "dt = pd.merge(cur, small_smy, on=['年','区名']) # 選挙結果\n",
    "\n",
    "dt=pd.merge(dt, par, on='党派', how='left')\n",
    "\n",
    "dt.loc[1049,'党派']='不明'\n",
    "dt.loc[1821,'党派']='不明'\n",
    "\n",
    "dt['よみ']=''\n",
    "dt['得票率%'] = round((dt['得票数']/dt['投票者数'])*100,2)\n",
    "\n",
    "dttmp = pd.merge(dt, ward, on='区名')\n",
    "\n",
    "final=pd.concat([pre,dttmp.drop(columns=['投票者数'])])\n",
    "\n",
    "final.to_csv(cpath+'election.csv', index=False)"
   ]
  },
  {
   "cell_type": "markdown",
   "id": "c451b0b9-970e-4260-b56d-60ec71e17d3b",
   "metadata": {},
   "source": [
    "### 5. ward"
   ]
  },
  {
   "cell_type": "raw",
   "id": "194d7357-a236-411a-8def-f4ccb805da7e",
   "metadata": {},
   "source": [
    "ward[(131000 < ward['自治体コード']) & (ward['自治体コード'] < 132000)]"
   ]
  },
  {
   "cell_type": "code",
   "execution_count": 6,
   "id": "c2e953ae-9327-4068-87b9-c1d9526a2781",
   "metadata": {},
   "outputs": [],
   "source": [
    "rene = {'団体コード':'自治体コード', '団体名':'区名'}\n",
    "\n",
    "tkcode = pd.read_csv(cpath + 'tokyo_code.csv')[['団体コード','団体名']].rename(columns=rene)\n"
   ]
  },
  {
   "cell_type": "code",
   "execution_count": 7,
   "id": "03eabe73-59fe-4d90-b941-089f58b247d3",
   "metadata": {},
   "outputs": [],
   "source": [
    "tkcode['区名']=tkcode['区名'].str.replace('区','')"
   ]
  },
  {
   "cell_type": "code",
   "execution_count": 8,
   "id": "9b2a02af-5dd1-446a-849f-dda671eadc0e",
   "metadata": {},
   "outputs": [],
   "source": [
    "tkcode.to_csv(cpath + 'tkcode.csv', index=False)"
   ]
  },
  {
   "cell_type": "markdown",
   "id": "ca6437c5-6b0a-48a4-b904-c1cf4b08b73b",
   "metadata": {},
   "source": [
    "### 政治山Site"
   ]
  },
  {
   "cell_type": "code",
   "execution_count": 9,
   "id": "2ce9f092-574d-40f1-8ff6-27aa06fcf916",
   "metadata": {},
   "outputs": [],
   "source": [
    "seijiyama = ['https://seijiyama.jp/area/table/3624/BjtDe5/M?detect=%E5%88%A4%E5%AE%9A&3734_252153_2=&3734_252153_1=&_limit_3624=200&S=qipe2lcqbo&3734_252159_1=2&3734_252150_1=&3734_252149_1=13&_page_3624=1',\n",
    "            'https://seijiyama.jp/area/table/3624/BjtDe5/M?detect=%E5%88%A4%E5%AE%9A&3734_252153_2=&3734_252153_1=&_limit_3624=200&S=qipe2lcqbo&3734_252159_1=2&3734_252150_1=&3734_252149_1=13&_page_3624=2']\n",
    "\n",
    "r = rq.get(seijiyama[0])\n",
    "soup = BeautifulSoup(r.content, \"html.parser\")\n",
    "tabular = soup.find_all(\"table\")\n",
    "\n",
    "#for sy in seijiyama:\n",
    "#    r = rq.get(sy)\n",
    "#    soup = BeautifulSoup(r.content, \"html.parser\")"
   ]
  },
  {
   "cell_type": "code",
   "execution_count": 10,
   "id": "93bf28aa-d610-4e39-b0ec-097b03617704",
   "metadata": {},
   "outputs": [
    {
     "data": {
      "text/plain": [
       "['2022-12-04', '2022-11-27', '品川区議会議員補欠選挙', '東京都', '品川区議補選 候補者へ', '']"
      ]
     },
     "execution_count": 10,
     "metadata": {},
     "output_type": "execute_result"
    }
   ],
   "source": [
    "list(map(lambda x: x.text,tabular[3].find_all('tr')[6].find_all('td')))"
   ]
  },
  {
   "cell_type": "code",
   "execution_count": 11,
   "id": "06ca6621-ebd5-4cd5-ab5b-79acd33f6eba",
   "metadata": {},
   "outputs": [
    {
     "data": {
      "text/plain": [
       "[<td align=\"center\" class=\"smp-cell-data smp-cell-6-1 smp-cell smp-cell-row-6 smp-cell-col-1\" style=\"border-width:0px 1px;border-style:solid;border-color:#999999;padding:2px;background-color:#f0f0f0;color:#444444;font-size:10pt;\">2022-12-04</td>,\n",
       " <td align=\"center\" class=\"smp-cell-data smp-cell-6-2 smp-cell smp-cell-row-6 smp-cell-col-2\" style=\"border-width:0px 1px;border-style:solid;border-color:#999999;padding:2px;background-color:#f0f0f0;color:#444444;font-size:10pt;\">2022-11-27</td>,\n",
       " <td align=\"left\" class=\"smp-cell-data smp-cell-6-3 smp-cell smp-cell-row-6 smp-cell-col-3\" style=\"border-width:0px 1px;border-style:solid;border-color:#999999 #999999 #999999 #ada296;padding:5px;background-color:#f0f0f0;color:#444444;font-size:10pt;\">品川区議会議員補欠選挙</td>,\n",
       " <td align=\"center\" class=\"smp-cell-data smp-cell-6-4 smp-cell smp-cell-row-6 smp-cell-col-4\" style=\"border-width:0px 1px;border-style:solid;border-color:#999999 #999999 #999999 #ada296;padding:5px;background-color:#f0f0f0;color:#444444;font-size:10pt;\">東京都</td>,\n",
       " <td align=\"left\" class=\"smp-cell-data smp-cell-6-5 smp-cell smp-cell-row-6 smp-cell-col-5\" style=\"border-width:0px 1px;border-style:solid;border-color:#999999 #999999 #999999 #ada296;padding:5px;background-color:#f0f0f0;color:#444444;font-size:10pt;\"><a href=\"/area/card/3624/Cgh16a/M?S=lcqdt0lctgs0k\" target=\"_self\">品川区議補選 候補者へ</a></td>,\n",
       " <td align=\"left\" class=\"smp-cell-data smp-cell-6-6 smp-cell smp-cell-row-6 smp-cell-col-6\" style=\"border-width:0px 1px;border-style:solid;border-color:#999999 #ada296;padding:5px;background-color:#f0f0f0;color:#444444;font-size:10pt;\"><a href=\"/area/card/3624/JB3pda/M?S=lcqbp0lctgs0k\" target=\"_self\"></a></td>]"
      ]
     },
     "execution_count": 11,
     "metadata": {},
     "output_type": "execute_result"
    }
   ],
   "source": [
    "tabular[3].find_all('tr')[6].find_all('td')"
   ]
  },
  {
   "cell_type": "code",
   "execution_count": 12,
   "id": "3a079c81-db39-49c1-a95a-f2356bae3711",
   "metadata": {},
   "outputs": [
    {
     "data": {
      "text/plain": [
       "'/area/card/3624/Cgh16a/M?S=lcqdt0lctgs0k'"
      ]
     },
     "execution_count": 12,
     "metadata": {},
     "output_type": "execute_result"
    }
   ],
   "source": [
    "'/area/card/3624/Cgh16a/M?S=lcqdt0lctgs0k'"
   ]
  }
 ],
 "metadata": {
  "kernelspec": {
   "display_name": "Python 3 (ipykernel)",
   "language": "python",
   "name": "python3"
  },
  "language_info": {
   "codemirror_mode": {
    "name": "ipython",
    "version": 3
   },
   "file_extension": ".py",
   "mimetype": "text/x-python",
   "name": "python",
   "nbconvert_exporter": "python",
   "pygments_lexer": "ipython3",
   "version": "3.10.8"
  }
 },
 "nbformat": 4,
 "nbformat_minor": 5
}
