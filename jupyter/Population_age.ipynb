{
 "cells": [
  {
   "cell_type": "code",
   "execution_count": 3,
   "id": "8e9b6e0c-913c-4b69-b297-7c1ce3fb1cd1",
   "metadata": {},
   "outputs": [],
   "source": [
    "import pandas as pd\n",
    "import glob as gb\n",
    "import os\n",
    "\n",
    "files = gb.glob('./data/Ward_Age/*')\n",
    "dataname = '町丁目名年齢年代別人口分布'\n",
    "\n",
    "d=os.getcwd()\n",
    "prefix = d + '/../data/Ward_Age/'\n",
    "\n"
   ]
  },
  {
   "cell_type": "markdown",
   "id": "3c3a0e87-bced-4d10-a467-b164d183e913",
   "metadata": {},
   "source": [
    "## 大田区"
   ]
  },
  {
   "cell_type": "code",
   "execution_count": 5,
   "id": "25f39cd3-1668-4f3b-92cf-7f2d104b54fd",
   "metadata": {},
   "outputs": [],
   "source": [
    "ohta_file = prefix + '大田区2022年1月_rev.xlsx'\n",
    "\n",
    "ohta_data = pd.read_excel(ohta_file).set_index('年齢')\n",
    "\n",
    "ohta_finedata = pd.DataFrame(ohta_data.stack()).reset_index().set_axis(['年齢','町丁目名','人口'],axis=1)\n",
    "\n",
    "ohta_finedata = ohta_finedata[['町丁目名','年齢','人口']]\n",
    "\n",
    "ohta_finedata['町丁目名'] = ohta_finedata['町丁目名'].str.replace('　','')\n",
    "\n",
    "ohta_finedata.to_excel(prefix + dataname + '（大田）.xlsx', index=False)"
   ]
  },
  {
   "cell_type": "code",
   "execution_count": 6,
   "id": "3c3c2296-c179-4202-b798-6794a28fcf82",
   "metadata": {},
   "outputs": [
    {
     "data": {
      "text/plain": [
       "Index(['町丁目名', '年齢', '人口'], dtype='object')"
      ]
     },
     "execution_count": 6,
     "metadata": {},
     "output_type": "execute_result"
    }
   ],
   "source": [
    "ohta_finedata.columns"
   ]
  },
  {
   "cell_type": "markdown",
   "id": "d9e178c9-5819-4c48-82af-30fbf5132ca6",
   "metadata": {},
   "source": [
    "### 品川"
   ]
  },
  {
   "cell_type": "code",
   "execution_count": 11,
   "id": "ba371602-83db-4cad-a556-e155390445de",
   "metadata": {},
   "outputs": [],
   "source": [
    "male=list(range(0,241,2))\n",
    "female=list(range(1,241,2))\n",
    "\n",
    "shina_file = prefix + '品川区2023年1月_rev.xls'\n",
    "shina_data = pd.read_excel(shina_file, dtype={'行政コード':int})\n",
    "\n",
    "shina_m = shina_data.loc[:,['行政コード','丁目名']+male].set_index(['行政コード','丁目名']).stack()\n",
    "shina_f = shina_data.loc[:,['行政コード','丁目名']+female].set_index(['行政コード','丁目名']).stack()\n",
    "\n",
    "shina_m_fine= pd.DataFrame(shina_m).reset_index().rename(columns={'level_2':'age',0:'人口'})\n",
    "shina_m_fine['年齢']=shina_m_fine['age']//2\n",
    "\n",
    "shina_f_fine= pd.DataFrame(shina_f).reset_index().rename(columns={'level_2':'age',0:'人口'})\n",
    "shina_f_fine['年齢']=(shina_f_fine['age'])//2\n",
    "\n",
    "scols=['行政コード','丁目名','年齢','人口']\n",
    "mer=['行政コード','丁目名','年齢']\n",
    "\n",
    "shina_m_fine=shina_m_fine.drop(columns=['age'])[scols]\n",
    "shina_f_fine=shina_f_fine.drop(columns=['age'])[scols]\n",
    "\n",
    "shina_finedata = pd.merge(shina_m_fine, shina_f_fine, on=mer)\n",
    "\n",
    "shina_finedata['人口'] = shina_finedata['人口_x']+shina_finedata['人口_y']\n",
    "shina_finedata = shina_finedata.drop(columns=['人口_x','人口_y']).reset_index(drop=True)\n",
    "shina_finedata = shina_finedata.rename(columns={'丁目名':'町丁目名'})\n",
    "shina_finedata.to_excel(prefix + dataname + '（品川）.xlsx', index=False)"
   ]
  },
  {
   "cell_type": "code",
   "execution_count": 12,
   "id": "ac1ea38b-f08f-48eb-89e5-9de26be83486",
   "metadata": {},
   "outputs": [
    {
     "data": {
      "text/plain": [
       "Index(['行政コード', '町丁目名', '年齢', '人口'], dtype='object')"
      ]
     },
     "execution_count": 12,
     "metadata": {},
     "output_type": "execute_result"
    }
   ],
   "source": [
    "shina_finedata.columns"
   ]
  },
  {
   "cell_type": "markdown",
   "id": "22efd798-fccf-4da3-8e7a-f49a249b66c4",
   "metadata": {},
   "source": [
    "### 目黒"
   ]
  },
  {
   "cell_type": "code",
   "execution_count": 13,
   "id": "6f6451af-9666-4272-91dd-e90f55dddff3",
   "metadata": {},
   "outputs": [],
   "source": [
    "meg_file = prefix +'目黒区2022年12月_rev.xlsx'\n",
    "meg_data = pd.read_excel(meg_file)\n",
    "#meg_data\n",
    "\n",
    "top = meg_data[meg_data['a']=='町丁別年齢別人口表'].reset_index()['index']\n",
    "end = meg_data[meg_data['a']=='104以上'].reset_index()['index']\n",
    "#print(list(top))\n",
    "#print(list(end))\n",
    "\n",
    "meg_tmp = pd.DataFrame()\n",
    "\n",
    "#meg_data['町丁目名']=''\n",
    "\n",
    "for k in top:\n",
    "    chomei = meg_data.iloc[k+1,0].replace('　','')\n",
    "\n",
    "    for j in list(range(k+4,k+129)):\n",
    "        meg_data.loc[j,'町丁目名'] = chomei\n",
    "\n",
    "    chodf = meg_data.iloc[(k+4):(k+129),:]\n",
    "    \n",
    "    chodf = chodf[~(chodf['a'].str.contains('～',na=False))]\n",
    "    chodf = chodf[~(chodf['a'].str.contains('以上',na=False))]\n",
    "    \n",
    "    chodf = chodf.rename(columns={'a':'年齢', 'b':'人口'})\n",
    "    chodf['年齢'] = chodf['年齢'].astype(int)\n",
    "    \n",
    "    meg_tmp = pd.concat([meg_tmp, chodf])\n",
    "\n",
    "meg_finedata = meg_tmp[['町丁目名','年齢','人口']]\n",
    "\n",
    "meg_finedata.to_excel(prefix + dataname + '（目黒）.xlsx', index=False)"
   ]
  },
  {
   "cell_type": "markdown",
   "id": "4033df40-672c-4648-8ad9-2f6b1974046a",
   "metadata": {},
   "source": [
    "### 港区"
   ]
  },
  {
   "cell_type": "code",
   "execution_count": 15,
   "id": "944d19e0-a25c-424b-8b54-e9d5f1c4fc74",
   "metadata": {},
   "outputs": [],
   "source": [
    "import tabula\n",
    "\n",
    "mina_file = prefix + '港区2022年4月.pdf'\n",
    "\n",
    "mina_data = tabula.read_pdf(mina_file,pages=\"1-117\",stream=True)"
   ]
  },
  {
   "cell_type": "raw",
   "id": "9de6b4fe-dbce-4cda-b344-b82858907791",
   "metadata": {},
   "source": [
    "from pdfminer.pdfinterp import PDFResourceManager\n",
    "from pdfminer.converter import TextConverter\n",
    "from pdfminer.pdfinterp import PDFPageInterpreter\n",
    "from pdfminer.pdfpage import PDFPage\n",
    "from pdfminer.layout import LAParams\n",
    "from io import StringIO\n",
    "\n",
    "pdf_file_path = mina_file\n",
    "\n",
    "result = []\n",
    "\n",
    "with open(pdf_file_path , \"rb\") as pdf_file: #ファイルオブジェクトを受け取り、変数「pdf_file」に代入。\n",
    "    output = StringIO() #コンソールに出力されたテキストを取得するため、IOクラス「StringIO」使用\n",
    "    resource_manager = PDFResourceManager()\n",
    "    laparams = LAParams() #レイアウトの変更がなければデフォルトのままで \n",
    "    text_converter = TextConverter(resource_manager, output, laparams=laparams)\n",
    "    page_interpreter = PDFPageInterpreter(resource_manager, text_converter)\n",
    "\n",
    "    for i_page in PDFPage.get_pages(pdf_file): #1ベージずづ処理 \n",
    "        page_interpreter.process_page(i_page)\n",
    "\n",
    "\n",
    "    output_text = output.getvalue()\n",
    "    result.append(output_text.split('\\n')[2])\n",
    "    output.close()\n",
    "    text_converter.close()\n",
    "\n",
    "#print(output_text)\n",
    "\n",
    "l=output_text.split('\\n')\n",
    "\n",
    "text = open(prefix + '港区町丁目名.txt',\"w\")\n",
    "text.write(output_text)\n",
    "text.close()"
   ]
  },
  {
   "cell_type": "code",
   "execution_count": 16,
   "id": "cd98e3f2-fabc-4244-865c-fc7dd7213509",
   "metadata": {},
   "outputs": [],
   "source": [
    "textfile = open(prefix+'港区町丁目名.txt','r')\n",
    "output_text = textfile.read()\n",
    "textfile.close()\n",
    "\n",
    "import re\n",
    "\n",
    "pattern = '(.+丁目)|(麻布.+町)|(麻布狸穴町)$'\n",
    "\n",
    "minacho = re.findall(pattern, output_text)\n",
    "\n",
    "from itertools import chain\n",
    "def flatten(nested_list):\n",
    "    return list(chain.from_iterable(nested_list))\n",
    "\n",
    "#flatten(list(map(lambda x: list(x), minacho)))\n",
    "\n",
    "chomeilist = list(map((lambda y: ''.join(y)), list(map(lambda x: list(x), minacho))))"
   ]
  },
  {
   "cell_type": "code",
   "execution_count": 17,
   "id": "35ce471f-09c1-4b51-b032-17a57c5a77c5",
   "metadata": {},
   "outputs": [],
   "source": [
    "mina_finedata = pd.DataFrame()\n",
    "\n",
    "for i in range(0,116):\n",
    "    if i != 39:\n",
    "        k = mina_data[i].iloc[:21,0:3].set_axis(['世代','a','b'],axis=1)\n",
    "        k['町丁目名'] = chomeilist[i]\n",
    "        k = k.fillna(0)\n",
    "        k = k.astype({'a':str, 'b':str})\n",
    "        k['a'] = k['a'].str.replace(',','')\n",
    "        k['a'] = k['a'].str.replace(r'0\\.0','0', regex=True)\n",
    "        k['b'] = k['b'].str.replace(',','')\n",
    "        k['b'] = k['b'].str.replace(r'0\\.0','0', regex=True)\n",
    "    else:\n",
    "        k = mina_data[i].iloc[:,0:2].set_axis(['世代','a'],axis=1)\n",
    "        k['町丁目名'] = chomeilist[i]\n",
    "        k['a'] = k['a'].str.replace(',','')\n",
    "        k['a'] = k['a'].str.replace(r'0\\.0','0', regex=True)        \n",
    "        k['b'] = '0'\n",
    "        \n",
    "    mina_finedata = pd.concat([mina_finedata, k])\n",
    "\n",
    "mina_finedata = mina_finedata.astype({'a':int, 'b':int}).reset_index(drop=True) \n",
    "\n",
    "mina_finedata['人口'] = mina_finedata['a'] + mina_finedata['b']\n",
    "#\n",
    "\n",
    "for r in mina_finedata.itertuples():\n",
    "    if not(((r.a == 0) and (r.b==r.人口)) or ((r.b==0) and (r.a==r.人口))):\n",
    "        print(r.町丁目名, ' ', r.a, r.b)\n",
    "\n",
    "\n",
    "mina_finedata = mina_finedata.drop(columns=['a','b'])[['町丁目名','世代','人口']]\n",
    "mina_finedata.to_excel(prefix + dataname + '（港）.xlsx', index=False)"
   ]
  },
  {
   "cell_type": "markdown",
   "id": "7e83bb59-8560-4388-8084-a25e1d9dc29b",
   "metadata": {},
   "source": [
    "### 渋谷"
   ]
  },
  {
   "cell_type": "code",
   "execution_count": 18,
   "id": "d0ec1683-d666-4545-ab6f-dfefafdebf3b",
   "metadata": {},
   "outputs": [],
   "source": [
    "shib_data = pd.read_excel(prefix + '渋谷区2022年1月.xls', header=1)\n",
    "\n",
    "shib_finedata = shib_data[['町丁名','年齢','人口']]\n",
    "\n",
    "shib_finedata.to_excel(prefix + dataname + '（渋谷）.xlsx', index=False)"
   ]
  },
  {
   "cell_type": "markdown",
   "id": "89865160-84b3-48d2-b830-f93b36c77415",
   "metadata": {},
   "source": [
    "### 台東"
   ]
  },
  {
   "cell_type": "code",
   "execution_count": 82,
   "id": "d2de8f94-75c2-4ce8-b10d-0d3e9057a719",
   "metadata": {},
   "outputs": [
    {
     "name": "stderr",
     "output_type": "stream",
     "text": [
      "/Users/mori/.pyenv/versions/3.10.6/lib/python3.10/site-packages/openpyxl/styles/stylesheet.py:226: UserWarning: Workbook contains no default style, apply openpyxl's default\n",
      "  warn(\"Workbook contains no default style, apply openpyxl's default\")\n"
     ]
    }
   ],
   "source": [
    "import pandas as pd\n",
    "ver = 'その２'\n",
    "ocrfile = '台東区2023年1月'+ver+'.xlsx'\n",
    "tai_data = pd.read_excel(prefix + ocrfile, header=53, engine='openpyxl')"
   ]
  },
  {
   "cell_type": "code",
   "execution_count": 83,
   "id": "8bb76486-0b2e-4c1e-8d9a-16102fe9b60a",
   "metadata": {},
   "outputs": [
    {
     "name": "stdout",
     "output_type": "stream",
     "text": [
      "['行政区', '000261', '根岸1丁目']\n",
      "['行政区', '000262', '根岸2丁目']\n",
      "['行政区', '000263', '根岸3丁目']\n",
      "['行政区', '000264', '根岸4T 目']\n",
      "['一」丁', '区5--J', '政26引', '誕02岸', '行00赫1', '100根目']\n",
      "['行政区', '000271', '入谷1丁目']\n",
      "['行政区', '000272', '入谷2丁目']\n",
      "['行政区', '000281', '竜泉1丁', '目']\n",
      "['圭ロ2', '什え00IJ', 'え嶋っ】えし', '一丁心唾千｝0竜目']\n",
      "['-L丁', '区3ド', '政28む', '行00参1', '手00竜目']\n",
      "['行政区', '000291', '松が谷1 丁目']\n",
      "['行政区', '000292', '松が谷2 丁目']\n",
      "['行政区', '000293', '松が谷3', 'T目']\n",
      "['行政区', '000294', '松が谷4', '丁目']\n",
      "['行政区', '000302', '西浅草2', '丁目']\n",
      "['行政区', '000303', '西浅草3', '丁目']\n",
      "['行政区', '000311', '雷門1丁', '目']\n",
      "['壬一コ1山', 'ケえっ」', '1ルりJ」ョ1', '11)nUゴLI', '21-n一且時コ『『', 'nU皇Lrト」', '■Ll』』1』曲11曲国国山山国1国山山山山山国国国山山山11ョ山1ョ1ョョョ一1国1国1国1111■11■11■IllEI」1臣」且111■且1且且且且且且1」且1王且肥且11」1」且肥11']\n",
      "['行政区', '000322', '浅草2丁目']\n",
      "['行政区', '000323', '浅草3丁目']\n",
      "['行政区', '000324', '浅草4丁目']\n",
      "['土馬J 」えり乙J耳', '正嶋3', '】丁0', '乙11ハV', '0']\n",
      "['歪滴6 斤えり一ー', '記延nJャョL', '一丁10里一', '千）0曳目']\n",
      "['行政区', '000327', \"浅草'7丁目\"]\n",
      "['行政区', '000331', '花川戸1', 'T目']\n",
      "['行政区', '000332', '花川戸2', '丁目']\n",
      "['行政区', '000341', '千東1丁目']\n",
      "['丁', '一00342加。']\n",
      "['行政区', '000343', '千東3T 目']\n",
      "['行政区', '000344', '千束4丁目']\n",
      "['行政区', '000351', '今戸1丁目']\n",
      "['行政区', '000352', '今戸2T 目']\n",
      "['躯361緯、', '千00東丁']\n",
      "['行政区', '000362', '東浅草2 T目']\n",
      "['行政区', '000371', '橋場1丁目']\n",
      "['行政区', '000372', '橋場2丁目']\n",
      "['ホ1ほ1', '什ん8', '1毛りJrlll', '一丁0-1ノ', '2イIok月コJJ', '一H一ュ引―']\n",
      "['圭ロ2', '行000淘目']\n",
      "['行政区', '000391', '日本堤1', '丁目']\n",
      "['行政区', '000392', '日本堤2', '丁目']\n",
      "['行政区', '000401', '三ノ輪1', '丁目']\n",
      "['行政区', '000402', '三ノ輪2', '丁目']\n",
      "['区1苗矩n端', '政41り1', '一丁10一一1', '千00池丁']\n",
      "['行政区', '000412', '池之端2', '丁貰']\n",
      "['行政区', '000413', '池之端3', '丁目']\n",
      "['行政区', '000414', '池之端4', '丁目']\n",
      "['行政区', '000420', '上野公園']\n",
      "['木', '一00431一LTR']\n"
     ]
    }
   ],
   "source": [
    "tai_data #.iloc[2,3].split('\\n')628\n",
    "\n",
    "import numpy as np\n",
    "#tai_tmp = pd.DataFrame([],index=list(range(0,627)), columns=list(range(0,14)))\n",
    "\n",
    "tai_tmp = []\n",
    "\n",
    "for r,s in tai_data.iterrows():\n",
    "    if (s[0] == s[0]) and len(s[0].split('\\n')) > 1:\n",
    "        lt = s[0].split('\\n')\n",
    "        print(lt)\n",
    "        l = [lt[1],''.join(lt[2:])]\n",
    "    else:\n",
    "        l = ['']\n",
    "    \n",
    "    for i in range(2,14):\n",
    "        k = str(s[i]).split('\\n')\n",
    "        if len(k) > 2:\n",
    "            l.append(k[-2])\n",
    "        else:\n",
    "            l.append('')\n",
    "\n",
    "    if not len(''.join(l)) == 0:\n",
    "        tai_tmp.append(l)\n"
   ]
  },
  {
   "cell_type": "code",
   "execution_count": 101,
   "id": "b0dc6df1-958d-4963-b8b2-35ac0e4bdf8a",
   "metadata": {},
   "outputs": [
    {
     "data": {
      "text/plain": [
       "24"
      ]
     },
     "execution_count": 101,
     "metadata": {},
     "output_type": "execute_result"
    }
   ],
   "source": [
    "len(gl[14])"
   ]
  },
  {
   "cell_type": "code",
   "execution_count": 104,
   "id": "474d5757-f776-4609-a426-a1805af00b18",
   "metadata": {},
   "outputs": [
    {
     "name": "stdout",
     "output_type": "stream",
     "text": [
      "14 > 24\n",
      "18 > 24\n"
     ]
    }
   ],
   "source": [
    "tai_even = tai_tmp[0:101:2]\n",
    "tai_odd = tai_tmp[1:101:2]\n",
    "\n",
    "import re\n",
    "\n",
    "gl = []\n",
    "\n",
    "for s,t in zip(tai_even, tai_odd):\n",
    "    gl.append(s + t[1:-1])\n",
    "\n",
    "\n",
    "for l in range(0, len(gl)):\n",
    "    for k in range(0,len(gl[0])):\n",
    "        try:\n",
    "            gl[l][k] = re.sub('\\(.*\\)|\\(.*の| ', '', gl[l][k])\n",
    "        except:\n",
    "            print(l,'>',k)\n",
    "            "
   ]
  },
  {
   "cell_type": "code",
   "execution_count": 96,
   "id": "bd9d3c4e-5505-4c51-82f4-8d9da4022873",
   "metadata": {},
   "outputs": [
    {
     "data": {
      "text/plain": [
       "25"
      ]
     },
     "execution_count": 96,
     "metadata": {},
     "output_type": "execute_result"
    }
   ],
   "source": []
  },
  {
   "cell_type": "code",
   "execution_count": 105,
   "id": "2b1511af-4853-4f05-bb76-3400037f9a8b",
   "metadata": {},
   "outputs": [
    {
     "data": {
      "text/plain": [
       "25"
      ]
     },
     "execution_count": 105,
     "metadata": {},
     "output_type": "execute_result"
    }
   ],
   "source": [
    "tai_cols = ['行政コード','町丁目名','0~4歳', '5~9歳', '10~14歳', '15~19歳', '20~24歳', '25~29歳', '30~34歳', \n",
    "            '35~39歳', '40~44歳', '45~49歳', '50~54歳', '55~59歳', '60~64歳', '65~69歳', \n",
    "            '70~74歳', '75~79歳', '80~84歳', '85~89歳', '90~94歳', '95~99歳', '100歳~104歳',\n",
    "            '100歳~104歳', '110歳以上']\n",
    "len(tai_cols)\n"
   ]
  },
  {
   "cell_type": "code",
   "execution_count": 106,
   "id": "1e037192-a3d8-4c04-840c-fac44a6729c9",
   "metadata": {},
   "outputs": [],
   "source": [
    "tai_finedata = pd.DataFrame(gl,columns=tai_cols)\n",
    "tai_finedata.to_excel(prefix + dataname + '（台東）'+ver+'.xlsx', index=False)"
   ]
  }
 ],
 "metadata": {
  "kernelspec": {
   "display_name": "Python 3 (ipykernel)",
   "language": "python",
   "name": "python3"
  },
  "language_info": {
   "codemirror_mode": {
    "name": "ipython",
    "version": 3
   },
   "file_extension": ".py",
   "mimetype": "text/x-python",
   "name": "python",
   "nbconvert_exporter": "python",
   "pygments_lexer": "ipython3",
   "version": "3.10.6"
  }
 },
 "nbformat": 4,
 "nbformat_minor": 5
}
