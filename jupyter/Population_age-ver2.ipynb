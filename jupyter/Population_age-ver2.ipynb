{
 "cells": [
  {
   "cell_type": "code",
   "execution_count": 1,
   "id": "8e9b6e0c-913c-4b69-b297-7c1ce3fb1cd1",
   "metadata": {},
   "outputs": [],
   "source": [
    "import pandas as pd\n",
    "import glob as gb\n",
    "import os\n",
    "\n",
    "files = gb.glob('./data/Ward_Age/*')\n",
    "dataname = '町丁目名年齢年代別人口分布'\n",
    "\n",
    "d=os.getcwd()\n",
    "prefix = d + '/../data/Ward_Age/'\n",
    "\n",
    "\n",
    "# c\n",
    "#g_code = pd.read_csv(prefix+'東京都人口世帯数_estat.txt', encoding='SHIFT-JIS', dtype={'KEY_CODE':str})\n",
    "#g_code[g_code['HYOSYO']>3]\n",
    "#g_code=g_code[['KEY_CODE','NAME','CITYNAME']]\n",
    "wds = ['市区町村コード','市区町村名','大字町丁目コード','大字町丁目名']\n",
    "c_code = pd.read_csv(prefix + '13_2020.csv', encoding='utf-8', dtype={'大字町丁目コード':str})[wds]"
   ]
  },
  {
   "cell_type": "code",
   "execution_count": 2,
   "id": "db102e50-4afc-4fb2-8f40-af04142a67a1",
   "metadata": {},
   "outputs": [
    {
     "data": {
      "text/html": [
       "<div>\n",
       "<style scoped>\n",
       "    .dataframe tbody tr th:only-of-type {\n",
       "        vertical-align: middle;\n",
       "    }\n",
       "\n",
       "    .dataframe tbody tr th {\n",
       "        vertical-align: top;\n",
       "    }\n",
       "\n",
       "    .dataframe thead th {\n",
       "        text-align: right;\n",
       "    }\n",
       "</style>\n",
       "<table border=\"1\" class=\"dataframe\">\n",
       "  <thead>\n",
       "    <tr style=\"text-align: right;\">\n",
       "      <th></th>\n",
       "      <th>市区町村コード</th>\n",
       "      <th>市区町村名</th>\n",
       "      <th>大字町丁目コード</th>\n",
       "      <th>大字町丁目名</th>\n",
       "    </tr>\n",
       "  </thead>\n",
       "  <tbody>\n",
       "    <tr>\n",
       "      <th>0</th>\n",
       "      <td>13101</td>\n",
       "      <td>千代田区</td>\n",
       "      <td>131010001002</td>\n",
       "      <td>内幸町２丁目</td>\n",
       "    </tr>\n",
       "    <tr>\n",
       "      <th>1</th>\n",
       "      <td>13101</td>\n",
       "      <td>千代田区</td>\n",
       "      <td>131010001001</td>\n",
       "      <td>内幸町１丁目</td>\n",
       "    </tr>\n",
       "    <tr>\n",
       "      <th>2</th>\n",
       "      <td>13101</td>\n",
       "      <td>千代田区</td>\n",
       "      <td>131010002003</td>\n",
       "      <td>霞が関３丁目</td>\n",
       "    </tr>\n",
       "    <tr>\n",
       "      <th>3</th>\n",
       "      <td>13101</td>\n",
       "      <td>千代田区</td>\n",
       "      <td>131010003000</td>\n",
       "      <td>北の丸公園</td>\n",
       "    </tr>\n",
       "    <tr>\n",
       "      <th>4</th>\n",
       "      <td>13101</td>\n",
       "      <td>千代田区</td>\n",
       "      <td>131010004001</td>\n",
       "      <td>富士見１丁目</td>\n",
       "    </tr>\n",
       "    <tr>\n",
       "      <th>...</th>\n",
       "      <td>...</td>\n",
       "      <td>...</td>\n",
       "      <td>...</td>\n",
       "      <td>...</td>\n",
       "    </tr>\n",
       "    <tr>\n",
       "      <th>5359</th>\n",
       "      <td>13421</td>\n",
       "      <td>小笠原村</td>\n",
       "      <td>134210003000</td>\n",
       "      <td>母島</td>\n",
       "    </tr>\n",
       "    <tr>\n",
       "      <th>5360</th>\n",
       "      <td>13421</td>\n",
       "      <td>小笠原村</td>\n",
       "      <td>134210004000</td>\n",
       "      <td>父島</td>\n",
       "    </tr>\n",
       "    <tr>\n",
       "      <th>5361</th>\n",
       "      <td>13421</td>\n",
       "      <td>小笠原村</td>\n",
       "      <td>134210005000</td>\n",
       "      <td>聟島</td>\n",
       "    </tr>\n",
       "    <tr>\n",
       "      <th>5362</th>\n",
       "      <td>13421</td>\n",
       "      <td>小笠原村</td>\n",
       "      <td>134210006000</td>\n",
       "      <td>南鳥島</td>\n",
       "    </tr>\n",
       "    <tr>\n",
       "      <th>5363</th>\n",
       "      <td>13421</td>\n",
       "      <td>小笠原村</td>\n",
       "      <td>134210007000</td>\n",
       "      <td>西之島</td>\n",
       "    </tr>\n",
       "  </tbody>\n",
       "</table>\n",
       "<p>5364 rows × 4 columns</p>\n",
       "</div>"
      ],
      "text/plain": [
       "      市区町村コード 市区町村名      大字町丁目コード  大字町丁目名\n",
       "0       13101  千代田区  131010001002  内幸町２丁目\n",
       "1       13101  千代田区  131010001001  内幸町１丁目\n",
       "2       13101  千代田区  131010002003  霞が関３丁目\n",
       "3       13101  千代田区  131010003000   北の丸公園\n",
       "4       13101  千代田区  131010004001  富士見１丁目\n",
       "...       ...   ...           ...     ...\n",
       "5359    13421  小笠原村  134210003000      母島\n",
       "5360    13421  小笠原村  134210004000      父島\n",
       "5361    13421  小笠原村  134210005000      聟島\n",
       "5362    13421  小笠原村  134210006000     南鳥島\n",
       "5363    13421  小笠原村  134210007000     西之島\n",
       "\n",
       "[5364 rows x 4 columns]"
      ]
     },
     "execution_count": 2,
     "metadata": {},
     "output_type": "execute_result"
    }
   ],
   "source": [
    "c_code"
   ]
  },
  {
   "cell_type": "code",
   "execution_count": 3,
   "id": "e6645e46-9677-40e6-8d68-6d88e9a02ae9",
   "metadata": {},
   "outputs": [],
   "source": [
    "d2k = {\n",
    "    '１丁':'一丁',\n",
    "    '２丁':'二丁',\n",
    "    '３丁':'三丁',\n",
    "    '４丁':'四丁',\n",
    "    '５丁':'五丁',\n",
    "    '６丁':'六丁',\n",
    "    '７丁':'七丁',\n",
    "    '８丁':'八丁',\n",
    "    '９丁':'九丁'\n",
    "}\n",
    "\n",
    "sd2k = {\n",
    "    '1丁':'１丁',\n",
    "    '2丁':'２丁',\n",
    "    '3丁':'３丁',\n",
    "    '4丁':'４丁',\n",
    "    '5丁':'５丁',\n",
    "    '6丁':'６丁',\n",
    "    '7丁':'７丁',\n",
    "    '8丁':'８丁',\n",
    "    '9丁':'９丁'\n",
    "}"
   ]
  },
  {
   "cell_type": "markdown",
   "id": "e7ec2abd-4f4b-42f1-91d9-67a95bb6c5fc",
   "metadata": {},
   "source": [
    "## 6. 千代田区"
   ]
  },
  {
   "cell_type": "code",
   "execution_count": 4,
   "id": "9be40b5e-4b68-40f8-b57a-4f19814c92dc",
   "metadata": {},
   "outputs": [
    {
     "name": "stdout",
     "output_type": "stream",
     "text": [
      "/Users/mori/Documents/Devel/Tokyo_Ward_Assembly_Election/jupyter/../data/Ward_Age/\n"
     ]
    }
   ],
   "source": [
    "print(prefix)"
   ]
  },
  {
   "cell_type": "code",
   "execution_count": 10,
   "id": "5143a785-ad97-4a4d-86a6-452c61bd0126",
   "metadata": {},
   "outputs": [],
   "source": [
    "#achy = pd.read_excel(prefix + '千代田区2023年1月v3.xlsx')\n",
    "achy = pd.read_excel(prefix + 'kkk.xlsx')\n",
    "achy = achy.set_axis(['a','b','c','d','e','f','g','h','i','j','k'],axis=1)"
   ]
  },
  {
   "cell_type": "code",
   "execution_count": 11,
   "id": "4730e7ae-52b5-41f3-875f-5c52129cfbb5",
   "metadata": {},
   "outputs": [],
   "source": [
    "achy = achy[~achy['a'].isnull()]\n",
    "area = list(achy[achy['b'].isnull()]['a'])"
   ]
  },
  {
   "cell_type": "code",
   "execution_count": 12,
   "id": "4911b8cb-bdb7-41d4-bfe7-8191ea8724d6",
   "metadata": {},
   "outputs": [],
   "source": [
    "data = achy[~achy['b'].isnull()][['a','b','e','g','h','k']].reset_index(drop=True)"
   ]
  },
  {
   "cell_type": "code",
   "execution_count": 13,
   "id": "e33a0761-7381-4278-8749-e801a1f2db45",
   "metadata": {},
   "outputs": [
    {
     "name": "stdout",
     "output_type": "stream",
     "text": [
      "0 丸の内一丁目\n",
      "1 丸の内二丁目\n",
      "2 丸の内三丁目\n",
      "3 大手町一丁目\n",
      "4 大手町二丁目\n",
      "5 内幸町一丁目\n",
      "6 内幸町二丁目\n",
      "7 有楽町一丁目\n",
      "8 有楽町二丁目\n",
      "9 霞が関一丁目\n",
      "10 霞が関二丁目\n",
      "11 霞が関三丁目\n",
      "12 永田町一丁目\n",
      "13 永田町二丁目\n",
      "14 隼町\n",
      "15 平河町一丁目\n",
      "16 平河町二丁目\n",
      "17 麹町一丁目\n",
      "18 麹町二丁目\n",
      "19 麹町三丁目\n",
      "20 麹町四丁目\n",
      "21 麹町五丁目\n",
      "22 麹町六丁目\n",
      "23 紀尾井町\n",
      "24 一番町\n",
      "25 三番町\n",
      "26 四番町\n",
      "27 五番町\n",
      "28 六番町\n",
      "29 皇居外苑\n",
      "30 日比谷公園\n",
      "31 千代田\n",
      "32 北の丸公園\n",
      "33 九段南一丁目\n",
      "34 九段南二丁目\n",
      "35 九段南三丁目\n",
      "36 九段南四丁目\n",
      "37 九段北一丁目\n",
      "38 九段北二丁目\n",
      "39 九段北三丁目\n",
      "40 九段北四丁目\n",
      "41 富士見一丁目\n",
      "42 富士見二丁目\n",
      "43 飯田橋一丁目\n",
      "44 飯田橋二丁目\n",
      "45 飯田橋三丁目\n",
      "46 飯田橋四丁目\n",
      "47 一ツ橋一丁目\n",
      "48 一ツ橋二丁目\n",
      "49 神田神保町一丁目\n",
      "50 神田神保町二丁目\n",
      "51 神田神保町三丁目\n",
      "52 神田三崎町一丁目\n",
      "53 神田三崎町二丁目\n",
      "54 神田三崎町三丁目\n",
      "55 西神田一丁目\n",
      "56 西神田二丁目\n",
      "57 西神田三丁目\n",
      "58 神田猿楽町一丁目\n",
      "59 神田猿楽町二丁目\n",
      "60 神田駿河台一丁目\n",
      "61 神田駿河台二丁目\n",
      "62 神田駿河台三丁目\n",
      "63 神田駿河台四丁目\n",
      "64 神田錦町一丁目\n",
      "65 神田錦町二丁目\n",
      "66 神田錦町三丁目\n",
      "67 神田小川町一丁目\n",
      "68 神田小川町二丁目\n",
      "69 神田小川町三丁目\n",
      "70 神田美土代町\n",
      "71 内神田一丁目\n",
      "72 内神田二丁目\n",
      "73 内神田三丁目\n",
      "74 神田司町二丁目\n",
      "75 神田多町二丁目\n",
      "76 神田淡路町一丁目\n",
      "77 神田淡路町二丁目\n",
      "78 神田須田町一丁目\n",
      "79 神田須田町二丁目\n",
      "80 外神田一丁目\n",
      "81 外神田二丁目\n",
      "82 外神田三丁目\n",
      "83 外神田四丁目\n",
      "84 外神田五丁目\n",
      "85 外神田六丁目\n",
      "86 鍛冶町一丁目\n",
      "87 鍛冶町二丁目\n",
      "88 神田鍛冶町三丁目\n",
      "89 神田紺屋町\n",
      "90 神田北乗物町\n",
      "91 神田富山町\n",
      "92 神田美倉町\n",
      "93 岩本町一丁目\n",
      "94 岩本町二丁目\n",
      "95 岩本町三丁目\n",
      "96 神田西福田町\n",
      "97 神田東松下町\n",
      "98 神田東紺屋町\n",
      "99 神田岩本町\n",
      "100 東神田一丁目\n",
      "101 東神田二丁目\n",
      "102 東神田三丁目\n",
      "103 神田和泉町\n",
      "104 神田佐久間町一丁目\n",
      "105 神田佐久間町二丁目\n",
      "106 神田佐久間町三丁目\n",
      "107 神田佐久間町四丁目\n",
      "108 神田平河町\n",
      "109 神田松永町\n",
      "110 神田花岡町\n",
      "111 神田佐久間河岸\n",
      "112 神田練塀町\n",
      "113 神田相生町\n",
      "114 二番町\n"
     ]
    }
   ],
   "source": [
    "kk = dict()\n",
    "\n",
    "for i in range(0,115):\n",
    "    print(i,area[i])\n",
    "    left = data.loc[(i*58+1):(i*58+57),['a','b','e']].astype({'a':int,'e':int})\n",
    "    right = data.loc[(i*58):(i*58+54), ['g','h','k']].astype({'g':int,'k':int})\n",
    "    left = left.set_axis(['年齢','生年','人口'],axis=1)\n",
    "    right = right.set_axis(['年齢','生年','人口'],axis=1)\n",
    "    kk[area[i]] = pd.concat([left,right])"
   ]
  },
  {
   "cell_type": "raw",
   "id": "6fef3bca-2bba-4544-b024-5d3c6fd733b4",
   "metadata": {},
   "source": [
    "pd.set_option('display.max_rows', 200)\n",
    "kk['一番町']"
   ]
  },
  {
   "cell_type": "markdown",
   "id": "3c3a0e87-bced-4d10-a467-b164d183e913",
   "metadata": {},
   "source": [
    "## 1. 大田区"
   ]
  },
  {
   "cell_type": "raw",
   "id": "e8d7ccf4-cc42-4b1e-bae2-a897e54f0854",
   "metadata": {},
   "source": [
    "ohta_file = prefix + '大田区2022年1月_rev.xlsx'\n",
    "\n",
    "ohta_data = pd.read_excel(ohta_file).set_index('年齢')\n",
    "\n",
    "ohta_finedata = pd.DataFrame(ohta_data.stack()).reset_index().set_axis(['年齢','町丁目名','人口'],axis=1)\n",
    "\n",
    "ohta_finedata = ohta_finedata[['町丁目名','年齢','人口']]\n",
    "\n",
    "ohta_finedata['町丁目名'] = ohta_finedata['町丁目名'].str.replace('　','')\n",
    "\n",
    "ohta_finedata = pd.merge(ohta_finedata, c_code, left_on='町丁目名', right_on='大字町丁目名')\n",
    "\n",
    "ohta_finedata['区']='大田区'\n",
    "\n",
    "for i in d2k.keys():\n",
    "    ohta_finedata['町丁目名']=ohta_finedata['町丁目名'].str.replace(i,d2k[i])\n"
   ]
  },
  {
   "cell_type": "raw",
   "id": "28e1af36-3277-4f01-ac1f-d27e4ec526b0",
   "metadata": {},
   "source": [
    "#ohta_finedata.to_excel(prefix + dataname + '（大田）.xlsx', index=False)"
   ]
  },
  {
   "cell_type": "raw",
   "id": "d96bb79f-e008-4296-9cd4-0e97acb1597d",
   "metadata": {},
   "source": [
    "bin_band =  list(range(0,131,5))\n",
    "ew=pd.cut(ohta_finedata['年齢'], bin_band, right=False)\n",
    "#pd.DataFrame(pd.DataFrame(ew).value_counts()).sort_values('年齢')"
   ]
  },
  {
   "cell_type": "raw",
   "id": "00ff6514-5dcf-4800-a275-59caf04695d6",
   "metadata": {},
   "source": [
    "## 2. 品川"
   ]
  },
  {
   "cell_type": "raw",
   "id": "bb6dd675-f5a1-4ee0-b4f8-fc3d68e4cd43",
   "metadata": {},
   "source": [
    "male=list(range(0,241,2))\n",
    "female=list(range(1,241,2))\n",
    "\n",
    "shina_file = prefix + '品川区2023年1月_rev.xls'\n",
    "shina_data = pd.read_excel(shina_file, dtype={'行政コード':int})\n",
    "\n",
    "shina_m = shina_data.loc[:,['行政コード','丁目名']+male].set_index(['行政コード','丁目名']).stack()\n",
    "shina_f = shina_data.loc[:,['行政コード','丁目名']+female].set_index(['行政コード','丁目名']).stack()\n",
    "\n",
    "shina_m_fine= pd.DataFrame(shina_m).reset_index().rename(columns={'level_2':'age',0:'人口'})\n",
    "shina_m_fine['年齢']=shina_m_fine['age']//2\n",
    "\n",
    "shina_f_fine= pd.DataFrame(shina_f).reset_index().rename(columns={'level_2':'age',0:'人口'})\n",
    "shina_f_fine['年齢']=(shina_f_fine['age'])//2\n",
    "\n",
    "scols=['丁目名','年齢','人口']\n",
    "mer=['丁目名','年齢']\n",
    "\n",
    "shina_m_fine=shina_m_fine.drop(columns=['age'])[scols]\n",
    "shina_f_fine=shina_f_fine.drop(columns=['age'])[scols]\n",
    "\n",
    "\n",
    "shina_finedata = pd.merge(shina_m_fine, shina_f_fine, on=mer)\n",
    "shina_finedata['区']='品川区'\n",
    "\n",
    "#for t,i in shina_finedata.iterrows():\n",
    "#    shina_finedata.loc[i,'丁目名'] = shina_finedata.loc[i, '丁目名'].replace('\\u3000','')\n",
    "#    print(shina_finedata.loc[i, '丁目名'])\n",
    "\n",
    "shina_finedata['人口'] = shina_finedata['人口_x']+shina_finedata['人口_y']\n",
    "shina_finedata = shina_finedata.drop(columns=['人口_x','人口_y']).reset_index(drop=True)\n",
    "shina_finedata = shina_finedata.rename(columns={'丁目名':'町丁目名'})\n",
    "shina_finedata = pd.merge(shina_finedata, c_code, left_on=['区','町丁目名'], right_on=['市区町村名','大字町丁目名'])\n",
    "\n",
    "\n",
    "\n",
    "for i in d2k.keys():\n",
    "    shina_finedata['町丁目名']=shina_finedata['町丁目名'].str.replace(i,d2k[i])\n"
   ]
  },
  {
   "cell_type": "raw",
   "id": "cbd97b86-f012-42d4-9fb1-1596390ee430",
   "metadata": {},
   "source": [
    "#shina_finedata.to_excel(prefix + dataname + '（品川）.xlsx', index=False)"
   ]
  },
  {
   "cell_type": "raw",
   "id": "f48a1a07-1df0-4ca1-9a34-ab4692e76710",
   "metadata": {},
   "source": [
    "## 3. 目黒"
   ]
  },
  {
   "cell_type": "raw",
   "id": "951ddd3d-7dba-4bd1-91f7-ec6f1e6f62d5",
   "metadata": {},
   "source": [
    "meg_file = prefix +'目黒区2022年12月_rev.xlsx'\n",
    "meg_data = pd.read_excel(meg_file)\n",
    "#meg_data\n",
    "\n",
    "top = meg_data[meg_data['a']=='町丁別年齢別人口表'].reset_index()['index']\n",
    "end = meg_data[meg_data['a']=='104以上'].reset_index()['index']\n",
    "#print(list(top))\n",
    "#print(list(end))\n",
    "\n",
    "meg_tmp = pd.DataFrame()\n",
    "\n",
    "#meg_data['町丁目名']=''\n",
    "\n",
    "for k in top:\n",
    "    chomei = meg_data.iloc[k+1,0].replace('　','')\n",
    "\n",
    "    for j in list(range(k+4,k+129)):\n",
    "        meg_data.loc[j,'町丁目名'] = chomei\n",
    "\n",
    "    chodf = meg_data.iloc[(k+4):(k+129),:]\n",
    "    \n",
    "    chodf = chodf[~(chodf['a'].str.contains('～',na=False))]\n",
    "    chodf = chodf[~(chodf['a'].str.contains('以上',na=False))]\n",
    "    \n",
    "    chodf = chodf.rename(columns={'a':'年齢', 'b':'人口'})\n",
    "    chodf['年齢'] = chodf['年齢'].astype(int)\n",
    "    \n",
    "    meg_tmp = pd.concat([meg_tmp, chodf])\n",
    "\n",
    "meg_finedata = meg_tmp[['町丁目名','年齢','人口']]\n",
    "meg_finedata = pd.merge(meg_finedata, c_code, left_on='町丁目名', right_on='大字町丁目名')\n",
    "\n",
    "meg_finedata['区']='目黒区'\n",
    "\n",
    "for i in d2k.keys():\n",
    "    meg_finedata['町丁目名']=meg_finedata['町丁目名'].str.replace(i,d2k[i])\n"
   ]
  },
  {
   "cell_type": "raw",
   "id": "67b375c4-8210-4bc6-8738-0b65774abc09",
   "metadata": {},
   "source": [
    "#meg_finedata.to_excel(prefix + dataname + '（目黒）.xlsx', index=False)"
   ]
  },
  {
   "cell_type": "raw",
   "id": "21d86364-1687-43ec-a769-b9153040d35f",
   "metadata": {},
   "source": [
    "## 4. 港区"
   ]
  },
  {
   "cell_type": "raw",
   "id": "2e6ed5eb-5b13-4ae7-8314-c3590d9db3b8",
   "metadata": {},
   "source": [
    "import tabula\n",
    "\n",
    "mina_file = prefix + '港区2022年4月.pdf'\n",
    "\n",
    "mina_data = tabula.read_pdf(mina_file,pages=\"1-117\",stream=True)"
   ]
  },
  {
   "cell_type": "raw",
   "id": "9de6b4fe-dbce-4cda-b344-b82858907791",
   "metadata": {},
   "source": [
    "from pdfminer.pdfinterp import PDFResourceManager\n",
    "from pdfminer.converter import TextConverter\n",
    "from pdfminer.pdfinterp import PDFPageInterpreter\n",
    "from pdfminer.pdfpage import PDFPage\n",
    "from pdfminer.layout import LAParams\n",
    "from io import StringIO\n",
    "\n",
    "pdf_file_path = mina_file\n",
    "\n",
    "result = []\n",
    "\n",
    "with open(pdf_file_path , \"rb\") as pdf_file: #ファイルオブジェクトを受け取り、変数「pdf_file」に代入。\n",
    "    output = StringIO() #コンソールに出力されたテキストを取得するため、IOクラス「StringIO」使用\n",
    "    resource_manager = PDFResourceManager()\n",
    "    laparams = LAParams() #レイアウトの変更がなければデフォルトのままで \n",
    "    text_converter = TextConverter(resource_manager, output, laparams=laparams)\n",
    "    page_interpreter = PDFPageInterpreter(resource_manager, text_converter)\n",
    "\n",
    "    for i_page in PDFPage.get_pages(pdf_file): #1ベージずづ処理 \n",
    "        page_interpreter.process_page(i_page)\n",
    "\n",
    "\n",
    "    output_text = output.getvalue()\n",
    "    result.append(output_text.split('\\n')[2])\n",
    "    output.close()\n",
    "    text_converter.close()\n",
    "\n",
    "#print(output_text)\n",
    "\n",
    "l=output_text.split('\\n')\n",
    "\n",
    "text = open(prefix + '港区町丁目名.txt',\"w\")\n",
    "text.write(output_text)\n",
    "text.close()"
   ]
  },
  {
   "cell_type": "raw",
   "id": "c8e3753b-7585-429c-b05f-9c8c48b2c6dc",
   "metadata": {},
   "source": [
    "textfile = open(prefix+'港区町丁目名.txt','r')\n",
    "output_text = textfile.read()\n",
    "textfile.close()\n",
    "\n",
    "import re\n",
    "\n",
    "pattern = '(.+丁目)|(麻布.+町)|(麻布狸穴町)$'\n",
    "\n",
    "minacho = re.findall(pattern, output_text)\n",
    "\n",
    "from itertools import chain\n",
    "def flatten(nested_list):\n",
    "    return list(chain.from_iterable(nested_list))\n",
    "\n",
    "#flatten(list(map(lambda x: list(x), minacho)))\n",
    "\n",
    "chomeilist = list(map((lambda y: ''.join(y)), list(map(lambda x: list(x), minacho))))"
   ]
  },
  {
   "cell_type": "raw",
   "id": "4fb1b5d1-1e70-4473-9b0f-deface7d3d8c",
   "metadata": {},
   "source": [
    "mina_finedata = pd.DataFrame()\n",
    "\n",
    "for i in range(0,116):\n",
    "    if i != 39:\n",
    "        k = mina_data[i].iloc[:21,0:3].set_axis(['世代','a','b'],axis=1)\n",
    "        k['町丁目名'] = chomeilist[i]\n",
    "        k = k.fillna(0)\n",
    "        k = k.astype({'a':str, 'b':str})\n",
    "        k['a'] = k['a'].str.replace(',','')\n",
    "        k['a'] = k['a'].str.replace(r'0\\.0','0', regex=True)\n",
    "        k['b'] = k['b'].str.replace(',','')\n",
    "        k['b'] = k['b'].str.replace(r'0\\.0','0', regex=True)\n",
    "    else:\n",
    "        k = mina_data[i].iloc[:21,0:2].set_axis(['世代','a'],axis=1)\n",
    "        k['町丁目名'] = chomeilist[i]\n",
    "        k['a'] = k['a'].str.replace(',','')\n",
    "        k['a'] = k['a'].str.replace(r'0\\.0','0', regex=True)        \n",
    "        k['b'] = '0'\n",
    "        \n",
    "    mina_finedata = pd.concat([mina_finedata, k])\n",
    "\n",
    "mina_finedata = mina_finedata.astype({'a':int, 'b':int}).reset_index(drop=True) \n",
    "\n",
    "mina_finedata['人口'] = mina_finedata['a'] + mina_finedata['b']\n",
    "#\n",
    "\n",
    "for r in mina_finedata.itertuples():\n",
    "    if not(((r.a == 0) and (r.b==r.人口)) or ((r.b==0) and (r.a==r.人口))):\n",
    "        print(r.町丁目名, ' ', r.a, r.b)\n",
    "\n",
    "mina_finedata = mina_finedata.drop(columns=['a','b'])[['町丁目名','世代','人口']]\n",
    "mina_finedata = pd.merge(mina_finedata, c_code, left_on='町丁目名', right_on='大字町丁目名')\n",
    "\n",
    "mina_finedata['区']='港区'\n",
    "\n",
    "for i in d2k.keys():\n",
    "    mina_finedata['町丁目名']=mina_finedata['町丁目名'].str.replace(i,d2k[i])\n",
    "\n"
   ]
  },
  {
   "cell_type": "raw",
   "id": "a32f2353-e29a-4a1a-8f2a-5f7036dd3363",
   "metadata": {},
   "source": [
    "#mina_finedata.to_excel(prefix + dataname + '（港）.xlsx', index=False)"
   ]
  },
  {
   "cell_type": "raw",
   "id": "d7beeedb-6b32-424c-98b2-42d9cab0c417",
   "metadata": {},
   "source": [
    "## 5. 渋谷"
   ]
  },
  {
   "cell_type": "raw",
   "id": "5e01ff33-1e21-4a14-9d19-d6a1b3a76055",
   "metadata": {},
   "source": [
    "shib_data = pd.read_excel(prefix + '渋谷区2022年1月_rev.xlsx')\n",
    "\n",
    "shib_finedata = shib_data[['町丁名','年齢','人口']].rename(columns={'町丁名':'町丁目名'})\n",
    "\n",
    "shib_finedata = pd.merge(shib_finedata, c_code, left_on='町丁目名', right_on='大字町丁目名')\n",
    "\n",
    "shib_finedata['区']='渋谷区'\n",
    "\n",
    "for i in d2k.keys():\n",
    "    shib_finedata['町丁目名']=shib_finedata['町丁目名'].str.replace(i,d2k[i])\n"
   ]
  },
  {
   "cell_type": "raw",
   "id": "1d69c717-b590-452a-8902-254e47ef1f3b",
   "metadata": {},
   "source": [
    "shib_finedata.groupby(['町丁目名','市区町村コード','市区町村名','大字町丁目コード','大字町丁目名','区'])['人口'].sum().reset_index()"
   ]
  },
  {
   "cell_type": "raw",
   "id": "13c95096-a68c-4eae-83d9-dc0c2c7b4765",
   "metadata": {},
   "source": [
    "shib_finedata"
   ]
  },
  {
   "cell_type": "raw",
   "id": "0da17397-3487-49b3-bff5-086b8745ddff",
   "metadata": {},
   "source": [
    "#shib_finedata.to_excel(prefix + dataname + '（渋谷）.xlsx', index=False)"
   ]
  },
  {
   "cell_type": "raw",
   "id": "656da925-73af-404e-a100-ccc2c0364463",
   "metadata": {},
   "source": [
    "### 6. 台東"
   ]
  },
  {
   "cell_type": "raw",
   "id": "46c867d8-2cf6-4a8a-87a9-bea5c2624895",
   "metadata": {},
   "source": [
    "import pandas as pd\n",
    "ver = 'その３'\n",
    "ocrfile = '台東区2023年1月'+ver+'.xlsx'\n",
    "tai_data = pd.read_excel(prefix + ocrfile, header=53, engine='openpyxl')\n",
    "\n",
    "tai_data #.iloc[2,3].split('\\n')628\n",
    "\n",
    "import numpy as np\n",
    "#tai_tmp = pd.DataFrame([],index=list(range(0,627)), columns=list(range(0,14)))\n",
    "\n",
    "tai_tmp = []\n",
    "\n",
    "for r,s in tai_data.iterrows():\n",
    "    if (s[0] == s[0]) and len(s[0].split('\\n')) > 1:\n",
    "        lt = s[0].split('\\n')\n",
    "        print(lt)\n",
    "        l = [lt[1],''.join(lt[2:])]\n",
    "    else:\n",
    "        l = ['']\n",
    "    \n",
    "    for i in range(2,14):\n",
    "        k = str(s[i]).split('\\n')\n",
    "        if len(k) > 2:\n",
    "            l.append(k[-2])\n",
    "        else:\n",
    "            l.append('')\n",
    "\n",
    "    if not len(''.join(l)) == 0:\n",
    "        tai_tmp.append(l)\n",
    "\n",
    "\n",
    "tai_even = tai_tmp[0:101:2]\n",
    "tai_odd = tai_tmp[1:101:2]\n",
    "\n",
    "import re\n",
    "\n",
    "gl = []\n",
    "\n",
    "for s,t in zip(tai_even, tai_odd):\n",
    "    gl.append(s + t[1:-1])\n",
    "\n",
    "\n",
    "for l in range(0, len(gl)):\n",
    "    for k in range(0,len(gl[0])):\n",
    "        try:\n",
    "            gl[l][k] = re.sub('\\(.*\\)|\\(.*の| ', '', gl[l][k])\n",
    "        except:\n",
    "            print(l,'>',k)\n",
    "            \n",
    "\n",
    "\n",
    "\n",
    "tai_cols = ['行政コード','町丁目名','0~4歳', '5~9歳', '10~14歳', '15~19歳', '20~24歳', '25~29歳', '30~34歳', \n",
    "            '35~39歳', '40~44歳', '45~49歳', '50~54歳', '55~59歳', '60~64歳', '65~69歳', \n",
    "            '70~74歳', '75~79歳', '80~84歳', '85~89歳', '90~94歳', '95~99歳', '100歳~104歳',\n",
    "            '100歳~104歳', '110歳以上']\n",
    "len(tai_cols)\n",
    "\n",
    "\n",
    "tai_finedata = pd.DataFrame(gl,columns=tai_cols)\n",
    "tai_finedata.to_excel(prefix + dataname + '（台東）'+ver+'.xlsx', index=False)"
   ]
  },
  {
   "cell_type": "raw",
   "id": "80a66559-c1fb-4767-afd5-79172afdb136",
   "metadata": {},
   "source": [
    "tai_data = pd.DataFrame()\n",
    "for i in ['１','２','３']:\n",
    "    tai = pd.read_excel(prefix+'町丁目名年齢年代別人口分布（台東）その'+i+'_確認済み.xlsx')\n",
    "    tai_data = pd.concat([tai_data, tai])\n",
    "\n",
    "tai_data['区']='台東区'\n",
    "tai_data = tai_data.drop(columns='行政コード')\n",
    "\n",
    "tc = {'level_2':'世代', 0:'人口'}\n",
    "tmp_tai = tai_data.set_index(['区','町丁目名'])\n",
    "tt = pd.DataFrame(tmp_tai.stack().reset_index()).rename(columns=tc)\n",
    "tai_data = pd.merge(tt, c_code, left_on=['区','町丁目名'], right_on=['市区町村名','大字町丁目名'])\n",
    "\n",
    "#for i in d2k.keys():\n",
    "#    tai_data['町丁目名']=tai_data['町丁目名'].str.replace(i,d2k[i])\n",
    "    \n",
    "tai_finedata = tai_data"
   ]
  },
  {
   "cell_type": "raw",
   "id": "07f6f814-9f24-4604-86d7-642c45d78f7f",
   "metadata": {},
   "source": [
    "tai_finedata.to_excel(prefix + dataname + '（台東）.xlsx', index=False)"
   ]
  },
  {
   "cell_type": "raw",
   "id": "970c073c-3ab0-4415-92cd-dbadfed0cfe5",
   "metadata": {},
   "source": [
    "tai_finedata"
   ]
  },
  {
   "cell_type": "raw",
   "id": "47a81293-c014-44da-96af-50fd8e6970dc",
   "metadata": {},
   "source": [
    "### 7. 中央"
   ]
  },
  {
   "cell_type": "raw",
   "id": "5603ccfb-15e9-40c2-888f-c14ef9cd37b9",
   "metadata": {},
   "source": [
    "chu_data = pd.read_excel(prefix + '中央区2022年3月.xlsx', dtype={'丁目':str}).rename(columns={'総数':'人口'})\n",
    "\n",
    "chu_data = chu_data.fillna('')\n",
    "chu_data['町丁目名']=''\n"
   ]
  },
  {
   "cell_type": "raw",
   "id": "b9fff583-5ac9-428c-973d-2858fd24b5aa",
   "metadata": {},
   "source": [
    "for i, r in chu_data.iterrows():\n",
    "    k = r['丁目']\n",
    "    if k!='':\n",
    "        chu_data.loc[i,'町丁目名'] = r['地域'] + sd2k[str(k) + '丁'] +'目'\n",
    "    else:\n",
    "        chu_data.loc[i,'町丁目名'] = r['地域']\n",
    "\n",
    "chu_data['世代']='全世代'\n",
    "chu_data['区'] = '中央区'\n",
    "chu_data['gord'] = 99"
   ]
  },
  {
   "cell_type": "raw",
   "id": "3cf33053-e378-48c1-8586-14c0e0ab74a9",
   "metadata": {},
   "source": [
    "#chu_data = pd.merge(chu_data, c_code, left_on='町丁目名', right_on='大字町丁目名')\n",
    "chu_finedata = chu_data[['区','町丁目名','世代','人口']]"
   ]
  },
  {
   "cell_type": "raw",
   "id": "8b60f9b1-58b2-46ec-a22f-73e98f995079",
   "metadata": {},
   "source": [
    "for i in d2k.keys():\n",
    "    chu_finedata['町丁目名']=chu_finedata['町丁目名'].str.replace(i,d2k[i])\n"
   ]
  },
  {
   "cell_type": "raw",
   "id": "43e8004e-771f-44c9-a1a3-182b2226fe2b",
   "metadata": {},
   "source": [
    "#chu_finedata.to_excel(prefix + dataname + '（中央）.xlsx', index=False)"
   ]
  },
  {
   "cell_type": "raw",
   "id": "808f53b3-975e-4061-a5b8-bbee338aeca0",
   "metadata": {},
   "source": [
    "chu_finedata.head()"
   ]
  },
  {
   "cell_type": "raw",
   "id": "646a4647-2a1c-4115-ad1d-61f9529b2eba",
   "metadata": {},
   "source": [
    "#chu_finedata.to_csv(prefix + 'final_chu_data.csv', index=False)\n",
    "# chu_finedata.to_csv(prefix + dataname + '（渋谷）.xlsx', index=False)"
   ]
  },
  {
   "cell_type": "raw",
   "id": "9b7ea4ce-1def-4a14-bff0-18242eb5221a",
   "metadata": {},
   "source": [
    "### データ統合"
   ]
  },
  {
   "cell_type": "raw",
   "id": "961789b7-e9a8-47c9-b417-df5233d33944",
   "metadata": {},
   "source": [
    "finedata"
   ]
  },
  {
   "cell_type": "raw",
   "id": "b97fb176-6847-4104-8859-657a022087d8",
   "metadata": {},
   "source": [
    "finedata = pd.concat([ohta_finedata,\n",
    "                      meg_finedata,\n",
    "                      shib_finedata,\n",
    "                      shina_finedata\n",
    "                      ]).reset_index(drop=True)\n",
    "\n",
    "finedata['世代'] = ''\n",
    "\n",
    "#finedata = pd.concat([finedata, chu_finedat#a])\n",
    "\n",
    "# fiveband = list(mina_finedata.loc[:20,:]['世代'])\n",
    "#print(fiveband)\n",
    "\n",
    "# ['0~4歳', '5~9歳', '10~14歳', '15~19歳', '20~24歳', '25~29歳', '30~34歳',\n",
    "# '35~39歳', '40~44歳', '45~49歳', '50~54歳', '55~59歳', '60~64歳', '65~69歳',\n",
    "# '70~74歳', '75~79歳', '80~84歳', '85~89歳', '90~94歳', '95~99歳', '100~104歳'\n",
    "# '105~109歳', '110~114歳', '115~119歳', '120歳以上']\n",
    "\n",
    "# 0~130まで5づつでビンを作成\n",
    "bin_band =  list(range(0,131,5))\n",
    "# binのラベル\n",
    "fiveband = ['0~4歳', '5~9歳', '10~14歳', '15~19歳', '20~24歳', '25~29歳', '30~34歳',\n",
    " '35~39歳', '40~44歳', '45~49歳', '50~54歳', '55~59歳', '60~64歳', '65~69歳',\n",
    " '70~74歳', '75~79歳', '80~84歳', '85~89歳', '90~94歳', '95~99歳', '100~104歳',\n",
    " '105~109歳', '110~114歳', '115~119歳', '120~124歳', '125~129歳']#, '130歳以上']\n",
    "\n",
    "fiveband_df = pd.DataFrame(\n",
    "            {\n",
    "                'gord' : list(range(0,26)),\n",
    "                '世代': fiveband\n",
    "            }\n",
    ")\n",
    "\n",
    "\n",
    "finedatas = finedata[finedata['人口']>0]\n",
    "\n",
    "finedata['世代']=pd.cut(finedata['年齢'], bin_band, right=False, labels=fiveband)\n",
    "\n",
    "finedata = pd.merge(finedata, fiveband_df, on='世代', how='left')\n"
   ]
  },
  {
   "cell_type": "raw",
   "id": "aa5e656c-fab2-4230-b295-ad8e46c97c33",
   "metadata": {},
   "source": [
    "#fd_grp = ['区','町丁目名','大字町丁目コード','世代','gord']\n",
    "fd_grp = ['区','町丁目名','大字町丁目コード','世代','gord']\n",
    "srt = ['大字町丁目コード','gord']\n",
    "\n",
    "final = pd.DataFrame(finedata.groupby(fd_grp)['人口'].agg(sum)).sort_values(srt).reset_index()\n",
    "\n",
    "mina_final = pd.merge(mina_finedata, fiveband_df, on='世代')[fd_grp+['人口']]\n",
    "tai_final = pd.merge(tai_finedata, fiveband_df, on='世代')[fd_grp+['人口']]\n",
    "\n",
    "final = pd.concat([final, mina_final, tai_final])"
   ]
  },
  {
   "cell_type": "raw",
   "id": "430c2689-0e74-4819-ab6b-61d472269c95",
   "metadata": {},
   "source": [
    "final"
   ]
  },
  {
   "cell_type": "raw",
   "id": "cce76b55-a7fe-4dea-8a7c-6aae6a94b618",
   "metadata": {},
   "source": [
    "#　エラーが出る町丁目名\n",
    "final['町丁目名'] = final['町丁目名'].str.replace('松濤','松涛')\n",
    "final['町丁目名'] = final['町丁目名'].str.replace('鶯谷町','鴬谷町')"
   ]
  },
  {
   "cell_type": "raw",
   "id": "06a95a5c-e77b-4971-b60b-6e2a138fd71b",
   "metadata": {},
   "source": [
    "final = final.astype({'大字町丁目コード':str})"
   ]
  },
  {
   "cell_type": "raw",
   "id": "4567f19a-4f17-4279-ae2f-4600f03f4c05",
   "metadata": {},
   "source": [
    "d2k = {\n",
    "    '１丁':'一丁',\n",
    "    '２丁':'二丁',\n",
    "    '３丁':'三丁',\n",
    "    '４丁':'四丁',\n",
    "    '５丁':'五丁',\n",
    "    '６丁':'六丁',\n",
    "    '７丁':'七丁',\n",
    "    '８丁':'八丁',\n",
    "    '９丁':'九丁'\n",
    "}\n",
    "\n",
    "for i in d2k.keys():\n",
    "    final['町丁目名']=final['町丁目名'].str.replace(i,d2k[i])\n"
   ]
  },
  {
   "cell_type": "raw",
   "id": "ccf0a599-6053-4a82-9535-45036aa6208b",
   "metadata": {},
   "source": [
    "final.to_csv(prefix+'final_data.csv', encoding='utf-8', index=False)\n",
    "#chu_finedata.to_csv(prefix+'final_chu_data.csv', encoding='utf-8', index=False)\n",
    "final.to_excel(prefix+\"final.xlsx\",index=False)"
   ]
  },
  {
   "cell_type": "raw",
   "id": "d77fc74f-d8a7-4dff-9e45-072e0f5159d1",
   "metadata": {},
   "source": [
    "### ヒートマップ"
   ]
  },
  {
   "cell_type": "raw",
   "id": "ebc213a4-ff2c-4d95-b4a1-064ceb473a93",
   "metadata": {},
   "source": [
    "import shapefile as sf\n",
    "import geopandas as gpd\n",
    "from pathlib import Path\n",
    "import pandas as pd\n",
    "\n",
    "def dissolve(df, col):\n",
    "    df = df[[col, 'geometry']]\n",
    "    df = df.dissolve(by=col)\n",
    "    return df\n",
    "\n",
    "def simplify(df, tolerance=0.00001):\n",
    "    df.geometry = df.geometry.simplify(tolerance=tolerance)\n",
    "    return df\n",
    "\n",
    "files = Path().glob('../geoshape/*.shp')\n",
    "for file in files:\n",
    "    print(file, 'loading...')\n",
    "    df = gpd.read_file(file)\n",
    "\n",
    "    print('CRS_Before: ', df.crs)\n",
    "    df = df.to_crs(epsg=4326)\n",
    "    print('CRS_After: ', df.crs)\n",
    "    \n",
    "    # 保存パスとディレクトリ作成\n",
    "#    dest = Path('result') / file\n",
    "    dest = file\n",
    "#    dest.parent.mkdir(parents=True, exist_ok=True)\n",
    "    \n",
    "    df.to_file(dest.with_suffix('.geojson'), driver=\"GeoJSON\", encoding='utf-8')"
   ]
  },
  {
   "cell_type": "raw",
   "id": "ee540117-0a42-4a5b-91cf-2e03a8b1440f",
   "metadata": {},
   "source": [
    "import streamlit_folium as st_f"
   ]
  },
  {
   "cell_type": "raw",
   "id": "edf62903-7748-4307-bc6c-3776a5c7e688",
   "metadata": {},
   "source": [
    "tmp_kgdf[tmp_kgdf['geometry'].isnull()]"
   ]
  },
  {
   "cell_type": "raw",
   "id": "7c30001f-3bd9-4b8e-b622-61ee7aa44801",
   "metadata": {},
   "source": [
    "tmp_kgdf[tmp_kgdf['S_NAME'].str.contains('令和')]"
   ]
  },
  {
   "cell_type": "raw",
   "id": "1b6b111e-3ef6-41fb-a2ef-e85cf16d8367",
   "metadata": {},
   "source": [
    "pop = final[final['区']==w]\n",
    "qoq = pd.DataFrame()\n",
    "for g in fb:\n",
    "    qoq = pd.concat([qoq, pop[pop['世代']==g]])\n",
    "        \n",
    "qoq.groupby(['町丁目名'])['人口'].sum().reset_index()"
   ]
  },
  {
   "cell_type": "raw",
   "id": "0d4ae2dd-037e-4105-a4c2-c1c83078573b",
   "metadata": {},
   "source": [
    "result"
   ]
  },
  {
   "cell_type": "raw",
   "id": "096e0ad3-5e51-41ad-9021-d798771a4387",
   "metadata": {},
   "source": [
    "import geopandas as gpd\n",
    "import folium\n",
    "import matplotlib\n",
    "import mapclassify\n",
    "import numpy as np\n",
    "\n",
    "geodir = d + '/../geoshape/'\n",
    "\n",
    "ward=['港区','目黒区','大田区','品川区','渋谷区','台東区']\n",
    "w=ward[5]\n",
    "fb=fiveband[5:8]\n",
    "gen = ','.join(fb)\n",
    "print(w, gen)\n",
    "\n",
    "\n",
    "pop = final[final['区']==w]\n",
    "qoq = pd.DataFrame()\n",
    "for g in fb:\n",
    "    qoq = pd.concat([qoq, pop[pop['世代']==g]])\n",
    "        \n",
    "qoq = qoq.groupby(['区','町丁目名'])['人口'].sum().reset_index()\n",
    "        \n",
    "gdf = gpd.read_file(geodir + w + '.geojson')\n",
    "gdf = gdf[gdf['HCODE']==8101]\n",
    "result = pd.merge(qoq, gdf, left_on=['区','町丁目名'], right_on=['CITY_NAME','S_NAME']) # , how='left')\n",
    "result['世代'] = gen\n",
    "\n",
    "#kgdf = kgdf[kgdf['区']==w]\n",
    "\n",
    "result = gpd.GeoDataFrame(result)\n",
    "\n",
    "\n",
    "#tmp_kgdf.explore(column=tmp_kgdf['人口'],cmap='Reds',tooltip=['町丁目名','人口'],tiles='CartoDB positron')\n",
    "result.explore(column=result['人口'],cmap='Reds',tooltip=['町丁目名','世代','人口'],tiles='CartoDB positron')\n",
    "#tmp_kgdf.info()\n"
   ]
  },
  {
   "cell_type": "raw",
   "id": "a6af53d2-fba1-414a-b31c-b8690f940abc",
   "metadata": {},
   "source": [
    "pop"
   ]
  },
  {
   "cell_type": "raw",
   "id": "7ef4ce5c-b6dc-4972-8014-83639b499160",
   "metadata": {},
   "source": [
    "gdf[['KEYCODE2','KEYCODE1','KIHON1','KIHON2','KCODE1','PREF','CITY','S_AREA','S_NAME']].head()"
   ]
  },
  {
   "cell_type": "raw",
   "id": "88a1f0bf-0716-473f-8731-43929745da99",
   "metadata": {},
   "source": [
    "#c_code[c_code['大字町丁目コード']=='131030001001']\n",
    "#c_code.head()\n",
    "\n",
    "gdf['S_NAME']=gdf['S_NAME'].str.replace('一丁','１丁').str.replace('二丁','２丁')"
   ]
  },
  {
   "cell_type": "raw",
   "id": "d68b9191-fc49-4839-bcca-5dd567644863",
   "metadata": {},
   "source": [
    "gdf['おお']=''"
   ]
  },
  {
   "cell_type": "raw",
   "id": "3a498279-b87d-4283-948d-f3db5147ca07",
   "metadata": {},
   "source": [
    "gdf['S_NAME']"
   ]
  },
  {
   "cell_type": "raw",
   "id": "365618ce-c356-4ea8-b533-cc5a4b235d96",
   "metadata": {},
   "source": [
    "#gdf[(gdf['CITY_NAME']=='港区') and (gdf['S_NAME']=='芝一丁目')]\n",
    "gdf[(gdf['S_NAME']=='芝一丁目')]"
   ]
  },
  {
   "cell_type": "raw",
   "id": "123b8ea6-bcfd-4b92-bffa-2cb980ba6a04",
   "metadata": {},
   "source": [
    "final[(final['町丁目名']=='芝１丁目')]"
   ]
  },
  {
   "cell_type": "raw",
   "id": "f87f36f1-8673-4cc9-833d-9fe7a88251d3",
   "metadata": {},
   "source": [
    "rf = pd.read_csv(prefix + 'Ward_data_reference_date.csv')\n",
    "\n",
    "dict(zip(list(rf['区名']),list(rf['データ基準日'])))"
   ]
  }
 ],
 "metadata": {
  "kernelspec": {
   "display_name": "Python 3 (ipykernel)",
   "language": "python",
   "name": "python3"
  },
  "language_info": {
   "codemirror_mode": {
    "name": "ipython",
    "version": 3
   },
   "file_extension": ".py",
   "mimetype": "text/x-python",
   "name": "python",
   "nbconvert_exporter": "python",
   "pygments_lexer": "ipython3",
   "version": "3.10.9"
  }
 },
 "nbformat": 4,
 "nbformat_minor": 5
}
